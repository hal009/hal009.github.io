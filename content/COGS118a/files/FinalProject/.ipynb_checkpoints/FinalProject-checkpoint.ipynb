{
 "cells": [
  {
   "cell_type": "code",
   "execution_count": 1,
   "metadata": {
    "collapsed": true
   },
   "outputs": [],
   "source": [
    "import numpy as np\n",
    "import pandas as pd"
   ]
  },
  {
   "cell_type": "code",
   "execution_count": null,
   "metadata": {
    "collapsed": true
   },
   "outputs": [],
   "source": [
    "uris = [\n",
    "    'http://archive.ics.uci.edu/ml/machine-learning-databases/adult/adult.data',\n",
    "    'https://archive.ics.uci.edu/ml/machine-learning-databases/ionosphere/ionosphere.data',\n",
    "    'https://archive.ics.uci.edu/ml/machine-learning-databases/letter-recognition/letter-recognition.data',\n",
    "    'https://archive.ics.uci.edu/ml/machine-learning-databases/spambase/spambase.data'\n",
    "]\n",
    "\n",
    "bc, io, lr, sp = [pd.read_csv(uri, header=None) for uri in uris]"
   ]
  }
 ],
 "metadata": {
  "kernelspec": {
   "display_name": "Python 3",
   "language": "python",
   "name": "python3"
  },
  "language_info": {
   "codemirror_mode": {
    "name": "ipython",
    "version": 3
   },
   "file_extension": ".py",
   "mimetype": "text/x-python",
   "name": "python",
   "nbconvert_exporter": "python",
   "pygments_lexer": "ipython3",
   "version": "3.6.3"
  }
 },
 "nbformat": 4,
 "nbformat_minor": 2
}
