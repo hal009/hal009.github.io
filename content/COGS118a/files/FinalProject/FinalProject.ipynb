{
 "cells": [
  {
   "cell_type": "code",
   "execution_count": 1,
   "metadata": {},
   "outputs": [
    {
     "name": "stdout",
     "output_type": "stream",
     "text": [
      "3.5.4 |Anaconda custom (64-bit)| (default, Aug 14 2017, 13:26:58) \n",
      "[GCC 4.4.7 20120313 (Red Hat 4.4.7-1)]\n"
     ]
    }
   ],
   "source": [
    "import sys\n",
    "print(sys.version)"
   ]
  },
  {
   "cell_type": "markdown",
   "metadata": {},
   "source": [
    "# Imports"
   ]
  },
  {
   "cell_type": "code",
   "execution_count": 2,
   "metadata": {
    "collapsed": true
   },
   "outputs": [],
   "source": [
    "import numpy as np\n",
    "import pandas as pd\n",
    "import matplotlib.pyplot as plt\n",
    "import itertools\n",
    "from sklearn import neighbors\n",
    "from sklearn.model_selection import train_test_split, GridSearchCV\n",
    "from sklearn.linear_model import LogisticRegression\n",
    "from sklearn.ensemble import RandomForestClassifier\n",
    "from sklearn.metrics import classification_report,accuracy_score\n",
    "pd.options.display.max_seq_items = 2000"
   ]
  },
  {
   "cell_type": "markdown",
   "metadata": {},
   "source": [
    "# Functions"
   ]
  },
  {
   "cell_type": "code",
   "execution_count": 3,
   "metadata": {
    "collapsed": true
   },
   "outputs": [],
   "source": [
    "def get_X_and_Y(df):\n",
    "    X = df.values[:, :-1]\n",
    "    Y = df.values[:, -1:]\n",
    "    return (X, Y)"
   ]
  },
  {
   "cell_type": "code",
   "execution_count": 4,
   "metadata": {
    "code_folding": [
     4
    ]
   },
   "outputs": [],
   "source": [
    "def run_clf(clf, X_train, Y_train, X_test, Y_test):\n",
    "    print()\n",
    "    clf.fit(X_train, Y_train.reshape(-1, ))\n",
    "    pred = clf.predict(X_test)\n",
    "    #if(hasattr(clf, 'best_params_')):\n",
    "        #results(clf, X_test, Y_test, \"test\")\n",
    "    return accuracy_score(Y_test, pred)"
   ]
  },
  {
   "cell_type": "code",
   "execution_count": 5,
   "metadata": {
    "code_folding": [
     13
    ],
    "collapsed": true
   },
   "outputs": [],
   "source": [
    "def results(clf, x_test, y_test, dataset_name):\n",
    "    print(\"Best parameters for training set of \" + dataset_name + \" dataset:\")\n",
    "    print()\n",
    "    print(clf.best_params_)\n",
    "    print()\n",
    "    print(\"Grid scores on development set:\")\n",
    "    print()\n",
    "    means = clf.cv_results_['mean_test_score']\n",
    "    stds = clf.cv_results_['std_test_score']\n",
    "    \n",
    "    plt.semilogx()\n",
    "#     for mean, std, params in zip(means, stds, clf.cv_results_['params']):\n",
    "#         print(\"%0.3f (+/-%0.03f) for %r\"\n",
    "#               % (mean, std * 2, params))\n",
    "    print()\n",
    "    print(\"Accuracy of Logistic Regression on \" + dataset_name + \" dataset\")\n",
    "    print()\n",
    "    y_true, y_pred = y_test, clf.predict(x_test)\n",
    "    print(accuracy_score(y_true, y_pred))\n",
    "    print()"
   ]
  },
  {
   "cell_type": "code",
   "execution_count": 6,
   "metadata": {
    "collapsed": true
   },
   "outputs": [],
   "source": [
    "def get_cv(clf, param_grid):\n",
    "    return GridSearchCV(clf, param_grid, cv=5, scoring='accuracy')"
   ]
  },
  {
   "cell_type": "markdown",
   "metadata": {
    "heading_collapsed": true
   },
   "source": [
    "# Get the Data!"
   ]
  },
  {
   "cell_type": "markdown",
   "metadata": {
    "hidden": true
   },
   "source": [
    "Import data from UCI Repository "
   ]
  },
  {
   "cell_type": "code",
   "execution_count": 7,
   "metadata": {
    "collapsed": true,
    "hidden": true
   },
   "outputs": [],
   "source": [
    "files = ['adult.data', 'letter-recognition.data', 'covtype.data'] \n",
    "df_adult, df_letter, df_covtype = [pd.read_csv(file, header=None) for file in files]"
   ]
  },
  {
   "cell_type": "markdown",
   "metadata": {},
   "source": [
    "# Preprocess the Data!"
   ]
  },
  {
   "cell_type": "markdown",
   "metadata": {
    "heading_collapsed": true
   },
   "source": [
    "## Inspect the ADULT dataset"
   ]
  },
  {
   "cell_type": "code",
   "execution_count": 8,
   "metadata": {
    "code_folding": [
     3
    ],
    "collapsed": true,
    "hidden": true
   },
   "outputs": [],
   "source": [
    "# Based on the Data Description in \n",
    "# https://archive.ics.uci.edu/ml/machine-learning-databases/adult/adult.names\n",
    "\n",
    "df_adult.columns = ['age'\n",
    "                    , 'workclass'\n",
    "                    , 'fnlwgt'\n",
    "                    , 'education'\n",
    "                    , 'education-num'\n",
    "                    , 'marital-status'\n",
    "                    , 'occupation'\n",
    "                    , 'relationship'\n",
    "                    , 'race'\n",
    "                    , 'sex'\n",
    "                    , 'capital-gain'\n",
    "                    , 'captial-loss'\n",
    "                    , 'hours-per-week'\n",
    "                    , 'native-country'\n",
    "                    , 'income']"
   ]
  },
  {
   "cell_type": "code",
   "execution_count": 9,
   "metadata": {
    "hidden": true
   },
   "outputs": [
    {
     "data": {
      "text/plain": [
       "False"
      ]
     },
     "execution_count": 9,
     "metadata": {},
     "output_type": "execute_result"
    }
   ],
   "source": [
    "df_adult.isnull().values.any()"
   ]
  },
  {
   "cell_type": "code",
   "execution_count": 10,
   "metadata": {
    "hidden": true
   },
   "outputs": [
    {
     "name": "stdout",
     "output_type": "stream",
     "text": [
      "Number of rows in ADULT:32561\n"
     ]
    },
    {
     "data": {
      "text/html": [
       "<div>\n",
       "<style>\n",
       "    .dataframe thead tr:only-child th {\n",
       "        text-align: right;\n",
       "    }\n",
       "\n",
       "    .dataframe thead th {\n",
       "        text-align: left;\n",
       "    }\n",
       "\n",
       "    .dataframe tbody tr th {\n",
       "        vertical-align: top;\n",
       "    }\n",
       "</style>\n",
       "<table border=\"1\" class=\"dataframe\">\n",
       "  <thead>\n",
       "    <tr style=\"text-align: right;\">\n",
       "      <th></th>\n",
       "      <th>age</th>\n",
       "      <th>workclass</th>\n",
       "      <th>fnlwgt</th>\n",
       "      <th>education</th>\n",
       "      <th>education-num</th>\n",
       "      <th>marital-status</th>\n",
       "      <th>occupation</th>\n",
       "      <th>relationship</th>\n",
       "      <th>race</th>\n",
       "      <th>sex</th>\n",
       "      <th>capital-gain</th>\n",
       "      <th>captial-loss</th>\n",
       "      <th>hours-per-week</th>\n",
       "      <th>native-country</th>\n",
       "      <th>income</th>\n",
       "    </tr>\n",
       "  </thead>\n",
       "  <tbody>\n",
       "    <tr>\n",
       "      <th>0</th>\n",
       "      <td>39</td>\n",
       "      <td>State-gov</td>\n",
       "      <td>77516</td>\n",
       "      <td>Bachelors</td>\n",
       "      <td>13</td>\n",
       "      <td>Never-married</td>\n",
       "      <td>Adm-clerical</td>\n",
       "      <td>Not-in-family</td>\n",
       "      <td>White</td>\n",
       "      <td>Male</td>\n",
       "      <td>2174</td>\n",
       "      <td>0</td>\n",
       "      <td>40</td>\n",
       "      <td>United-States</td>\n",
       "      <td>&lt;=50K</td>\n",
       "    </tr>\n",
       "    <tr>\n",
       "      <th>1</th>\n",
       "      <td>50</td>\n",
       "      <td>Self-emp-not-inc</td>\n",
       "      <td>83311</td>\n",
       "      <td>Bachelors</td>\n",
       "      <td>13</td>\n",
       "      <td>Married-civ-spouse</td>\n",
       "      <td>Exec-managerial</td>\n",
       "      <td>Husband</td>\n",
       "      <td>White</td>\n",
       "      <td>Male</td>\n",
       "      <td>0</td>\n",
       "      <td>0</td>\n",
       "      <td>13</td>\n",
       "      <td>United-States</td>\n",
       "      <td>&lt;=50K</td>\n",
       "    </tr>\n",
       "    <tr>\n",
       "      <th>2</th>\n",
       "      <td>38</td>\n",
       "      <td>Private</td>\n",
       "      <td>215646</td>\n",
       "      <td>HS-grad</td>\n",
       "      <td>9</td>\n",
       "      <td>Divorced</td>\n",
       "      <td>Handlers-cleaners</td>\n",
       "      <td>Not-in-family</td>\n",
       "      <td>White</td>\n",
       "      <td>Male</td>\n",
       "      <td>0</td>\n",
       "      <td>0</td>\n",
       "      <td>40</td>\n",
       "      <td>United-States</td>\n",
       "      <td>&lt;=50K</td>\n",
       "    </tr>\n",
       "    <tr>\n",
       "      <th>3</th>\n",
       "      <td>53</td>\n",
       "      <td>Private</td>\n",
       "      <td>234721</td>\n",
       "      <td>11th</td>\n",
       "      <td>7</td>\n",
       "      <td>Married-civ-spouse</td>\n",
       "      <td>Handlers-cleaners</td>\n",
       "      <td>Husband</td>\n",
       "      <td>Black</td>\n",
       "      <td>Male</td>\n",
       "      <td>0</td>\n",
       "      <td>0</td>\n",
       "      <td>40</td>\n",
       "      <td>United-States</td>\n",
       "      <td>&lt;=50K</td>\n",
       "    </tr>\n",
       "    <tr>\n",
       "      <th>4</th>\n",
       "      <td>28</td>\n",
       "      <td>Private</td>\n",
       "      <td>338409</td>\n",
       "      <td>Bachelors</td>\n",
       "      <td>13</td>\n",
       "      <td>Married-civ-spouse</td>\n",
       "      <td>Prof-specialty</td>\n",
       "      <td>Wife</td>\n",
       "      <td>Black</td>\n",
       "      <td>Female</td>\n",
       "      <td>0</td>\n",
       "      <td>0</td>\n",
       "      <td>40</td>\n",
       "      <td>Cuba</td>\n",
       "      <td>&lt;=50K</td>\n",
       "    </tr>\n",
       "  </tbody>\n",
       "</table>\n",
       "</div>"
      ],
      "text/plain": [
       "   age          workclass  fnlwgt   education  education-num  \\\n",
       "0   39          State-gov   77516   Bachelors             13   \n",
       "1   50   Self-emp-not-inc   83311   Bachelors             13   \n",
       "2   38            Private  215646     HS-grad              9   \n",
       "3   53            Private  234721        11th              7   \n",
       "4   28            Private  338409   Bachelors             13   \n",
       "\n",
       "        marital-status          occupation    relationship    race      sex  \\\n",
       "0        Never-married        Adm-clerical   Not-in-family   White     Male   \n",
       "1   Married-civ-spouse     Exec-managerial         Husband   White     Male   \n",
       "2             Divorced   Handlers-cleaners   Not-in-family   White     Male   \n",
       "3   Married-civ-spouse   Handlers-cleaners         Husband   Black     Male   \n",
       "4   Married-civ-spouse      Prof-specialty            Wife   Black   Female   \n",
       "\n",
       "   capital-gain  captial-loss  hours-per-week  native-country  income  \n",
       "0          2174             0              40   United-States   <=50K  \n",
       "1             0             0              13   United-States   <=50K  \n",
       "2             0             0              40   United-States   <=50K  \n",
       "3             0             0              40   United-States   <=50K  \n",
       "4             0             0              40            Cuba   <=50K  "
      ]
     },
     "execution_count": 10,
     "metadata": {},
     "output_type": "execute_result"
    }
   ],
   "source": [
    "print('Number of rows in ADULT:' + str(len(df_adult)))\n",
    "\n",
    "df_adult.head()"
   ]
  },
  {
   "cell_type": "markdown",
   "metadata": {
    "hidden": true
   },
   "source": [
    "### Vectorize categorical columns in ADULT dataset"
   ]
  },
  {
   "cell_type": "code",
   "execution_count": 11,
   "metadata": {
    "collapsed": true,
    "hidden": true
   },
   "outputs": [],
   "source": [
    "df_adult = pd.get_dummies(df_adult)"
   ]
  },
  {
   "cell_type": "code",
   "execution_count": 12,
   "metadata": {
    "collapsed": true,
    "hidden": true
   },
   "outputs": [],
   "source": [
    "df_adult = df_adult.drop(['sex_ Female', 'income_ <=50K'], axis=1)"
   ]
  },
  {
   "cell_type": "code",
   "execution_count": 13,
   "metadata": {
    "hidden": true
   },
   "outputs": [
    {
     "data": {
      "text/html": [
       "<div>\n",
       "<style>\n",
       "    .dataframe thead tr:only-child th {\n",
       "        text-align: right;\n",
       "    }\n",
       "\n",
       "    .dataframe thead th {\n",
       "        text-align: left;\n",
       "    }\n",
       "\n",
       "    .dataframe tbody tr th {\n",
       "        vertical-align: top;\n",
       "    }\n",
       "</style>\n",
       "<table border=\"1\" class=\"dataframe\">\n",
       "  <thead>\n",
       "    <tr style=\"text-align: right;\">\n",
       "      <th></th>\n",
       "      <th>age</th>\n",
       "      <th>fnlwgt</th>\n",
       "      <th>education-num</th>\n",
       "      <th>capital-gain</th>\n",
       "      <th>captial-loss</th>\n",
       "      <th>hours-per-week</th>\n",
       "      <th>workclass_ ?</th>\n",
       "      <th>workclass_ Federal-gov</th>\n",
       "      <th>workclass_ Local-gov</th>\n",
       "      <th>workclass_ Never-worked</th>\n",
       "      <th>...</th>\n",
       "      <th>native-country_ Puerto-Rico</th>\n",
       "      <th>native-country_ Scotland</th>\n",
       "      <th>native-country_ South</th>\n",
       "      <th>native-country_ Taiwan</th>\n",
       "      <th>native-country_ Thailand</th>\n",
       "      <th>native-country_ Trinadad&amp;Tobago</th>\n",
       "      <th>native-country_ United-States</th>\n",
       "      <th>native-country_ Vietnam</th>\n",
       "      <th>native-country_ Yugoslavia</th>\n",
       "      <th>income_ &gt;50K</th>\n",
       "    </tr>\n",
       "  </thead>\n",
       "  <tbody>\n",
       "    <tr>\n",
       "      <th>0</th>\n",
       "      <td>39</td>\n",
       "      <td>77516</td>\n",
       "      <td>13</td>\n",
       "      <td>2174</td>\n",
       "      <td>0</td>\n",
       "      <td>40</td>\n",
       "      <td>0</td>\n",
       "      <td>0</td>\n",
       "      <td>0</td>\n",
       "      <td>0</td>\n",
       "      <td>...</td>\n",
       "      <td>0</td>\n",
       "      <td>0</td>\n",
       "      <td>0</td>\n",
       "      <td>0</td>\n",
       "      <td>0</td>\n",
       "      <td>0</td>\n",
       "      <td>1</td>\n",
       "      <td>0</td>\n",
       "      <td>0</td>\n",
       "      <td>0</td>\n",
       "    </tr>\n",
       "    <tr>\n",
       "      <th>1</th>\n",
       "      <td>50</td>\n",
       "      <td>83311</td>\n",
       "      <td>13</td>\n",
       "      <td>0</td>\n",
       "      <td>0</td>\n",
       "      <td>13</td>\n",
       "      <td>0</td>\n",
       "      <td>0</td>\n",
       "      <td>0</td>\n",
       "      <td>0</td>\n",
       "      <td>...</td>\n",
       "      <td>0</td>\n",
       "      <td>0</td>\n",
       "      <td>0</td>\n",
       "      <td>0</td>\n",
       "      <td>0</td>\n",
       "      <td>0</td>\n",
       "      <td>1</td>\n",
       "      <td>0</td>\n",
       "      <td>0</td>\n",
       "      <td>0</td>\n",
       "    </tr>\n",
       "    <tr>\n",
       "      <th>2</th>\n",
       "      <td>38</td>\n",
       "      <td>215646</td>\n",
       "      <td>9</td>\n",
       "      <td>0</td>\n",
       "      <td>0</td>\n",
       "      <td>40</td>\n",
       "      <td>0</td>\n",
       "      <td>0</td>\n",
       "      <td>0</td>\n",
       "      <td>0</td>\n",
       "      <td>...</td>\n",
       "      <td>0</td>\n",
       "      <td>0</td>\n",
       "      <td>0</td>\n",
       "      <td>0</td>\n",
       "      <td>0</td>\n",
       "      <td>0</td>\n",
       "      <td>1</td>\n",
       "      <td>0</td>\n",
       "      <td>0</td>\n",
       "      <td>0</td>\n",
       "    </tr>\n",
       "    <tr>\n",
       "      <th>3</th>\n",
       "      <td>53</td>\n",
       "      <td>234721</td>\n",
       "      <td>7</td>\n",
       "      <td>0</td>\n",
       "      <td>0</td>\n",
       "      <td>40</td>\n",
       "      <td>0</td>\n",
       "      <td>0</td>\n",
       "      <td>0</td>\n",
       "      <td>0</td>\n",
       "      <td>...</td>\n",
       "      <td>0</td>\n",
       "      <td>0</td>\n",
       "      <td>0</td>\n",
       "      <td>0</td>\n",
       "      <td>0</td>\n",
       "      <td>0</td>\n",
       "      <td>1</td>\n",
       "      <td>0</td>\n",
       "      <td>0</td>\n",
       "      <td>0</td>\n",
       "    </tr>\n",
       "    <tr>\n",
       "      <th>4</th>\n",
       "      <td>28</td>\n",
       "      <td>338409</td>\n",
       "      <td>13</td>\n",
       "      <td>0</td>\n",
       "      <td>0</td>\n",
       "      <td>40</td>\n",
       "      <td>0</td>\n",
       "      <td>0</td>\n",
       "      <td>0</td>\n",
       "      <td>0</td>\n",
       "      <td>...</td>\n",
       "      <td>0</td>\n",
       "      <td>0</td>\n",
       "      <td>0</td>\n",
       "      <td>0</td>\n",
       "      <td>0</td>\n",
       "      <td>0</td>\n",
       "      <td>0</td>\n",
       "      <td>0</td>\n",
       "      <td>0</td>\n",
       "      <td>0</td>\n",
       "    </tr>\n",
       "  </tbody>\n",
       "</table>\n",
       "<p>5 rows × 108 columns</p>\n",
       "</div>"
      ],
      "text/plain": [
       "   age  fnlwgt  education-num  capital-gain  captial-loss  hours-per-week  \\\n",
       "0   39   77516             13          2174             0              40   \n",
       "1   50   83311             13             0             0              13   \n",
       "2   38  215646              9             0             0              40   \n",
       "3   53  234721              7             0             0              40   \n",
       "4   28  338409             13             0             0              40   \n",
       "\n",
       "   workclass_ ?  workclass_ Federal-gov  workclass_ Local-gov  \\\n",
       "0             0                       0                     0   \n",
       "1             0                       0                     0   \n",
       "2             0                       0                     0   \n",
       "3             0                       0                     0   \n",
       "4             0                       0                     0   \n",
       "\n",
       "   workclass_ Never-worked      ...       native-country_ Puerto-Rico  \\\n",
       "0                        0      ...                                 0   \n",
       "1                        0      ...                                 0   \n",
       "2                        0      ...                                 0   \n",
       "3                        0      ...                                 0   \n",
       "4                        0      ...                                 0   \n",
       "\n",
       "   native-country_ Scotland  native-country_ South  native-country_ Taiwan  \\\n",
       "0                         0                      0                       0   \n",
       "1                         0                      0                       0   \n",
       "2                         0                      0                       0   \n",
       "3                         0                      0                       0   \n",
       "4                         0                      0                       0   \n",
       "\n",
       "   native-country_ Thailand  native-country_ Trinadad&Tobago  \\\n",
       "0                         0                                0   \n",
       "1                         0                                0   \n",
       "2                         0                                0   \n",
       "3                         0                                0   \n",
       "4                         0                                0   \n",
       "\n",
       "   native-country_ United-States  native-country_ Vietnam  \\\n",
       "0                              1                        0   \n",
       "1                              1                        0   \n",
       "2                              1                        0   \n",
       "3                              1                        0   \n",
       "4                              0                        0   \n",
       "\n",
       "   native-country_ Yugoslavia  income_ >50K  \n",
       "0                           0             0  \n",
       "1                           0             0  \n",
       "2                           0             0  \n",
       "3                           0             0  \n",
       "4                           0             0  \n",
       "\n",
       "[5 rows x 108 columns]"
      ]
     },
     "execution_count": 13,
     "metadata": {},
     "output_type": "execute_result"
    }
   ],
   "source": [
    "df_adult.head()"
   ]
  },
  {
   "cell_type": "markdown",
   "metadata": {
    "hidden": true
   },
   "source": [
    "### Convert to numpy arrays and split"
   ]
  },
  {
   "cell_type": "code",
   "execution_count": 14,
   "metadata": {
    "collapsed": true,
    "hidden": true
   },
   "outputs": [],
   "source": [
    "df_adult = df_adult.sample(frac=1)\n",
    "adult_X, adult_Y = get_X_and_Y(df_adult)\n",
    "\n",
    "adult_X_train, adult_X_test, adult_Y_train, adult_Y_test = \\\n",
    " train_test_split(adult_X, adult_Y, test_size=0.33)"
   ]
  },
  {
   "cell_type": "code",
   "execution_count": 15,
   "metadata": {
    "hidden": true
   },
   "outputs": [
    {
     "name": "stdout",
     "output_type": "stream",
     "text": [
      "adult_X_train.shape: (21815, 107)\n",
      "adult_Y_train.shape: (21815, 1)\n",
      "adult_X_test.shape : (10746, 107)\n",
      "adult_Y_test.shape : (10746, 1)\n"
     ]
    }
   ],
   "source": [
    "# Don't split. rerun classifiers, randomizing train/test split each time. \n",
    "\n",
    "print('adult_X_train.shape: ' + str(adult_X_train.shape))\n",
    "print('adult_Y_train.shape: ' + str(adult_Y_train.shape))\n",
    "print('adult_X_test.shape : ' + str(adult_X_test.shape))\n",
    "print('adult_Y_test.shape : ' + str(adult_Y_test.shape))\n"
   ]
  },
  {
   "cell_type": "markdown",
   "metadata": {},
   "source": [
    "## Inspect the LETTER dataset"
   ]
  },
  {
   "cell_type": "code",
   "execution_count": 16,
   "metadata": {},
   "outputs": [
    {
     "name": "stdout",
     "output_type": "stream",
     "text": [
      "Number of rows in LETTER: 20000\n"
     ]
    },
    {
     "data": {
      "text/html": [
       "<div>\n",
       "<style>\n",
       "    .dataframe thead tr:only-child th {\n",
       "        text-align: right;\n",
       "    }\n",
       "\n",
       "    .dataframe thead th {\n",
       "        text-align: left;\n",
       "    }\n",
       "\n",
       "    .dataframe tbody tr th {\n",
       "        vertical-align: top;\n",
       "    }\n",
       "</style>\n",
       "<table border=\"1\" class=\"dataframe\">\n",
       "  <thead>\n",
       "    <tr style=\"text-align: right;\">\n",
       "      <th></th>\n",
       "      <th>0</th>\n",
       "      <th>1</th>\n",
       "      <th>2</th>\n",
       "      <th>3</th>\n",
       "      <th>4</th>\n",
       "      <th>5</th>\n",
       "      <th>6</th>\n",
       "      <th>7</th>\n",
       "      <th>8</th>\n",
       "      <th>9</th>\n",
       "      <th>10</th>\n",
       "      <th>11</th>\n",
       "      <th>12</th>\n",
       "      <th>13</th>\n",
       "      <th>14</th>\n",
       "      <th>15</th>\n",
       "      <th>16</th>\n",
       "    </tr>\n",
       "  </thead>\n",
       "  <tbody>\n",
       "    <tr>\n",
       "      <th>0</th>\n",
       "      <td>T</td>\n",
       "      <td>2</td>\n",
       "      <td>8</td>\n",
       "      <td>3</td>\n",
       "      <td>5</td>\n",
       "      <td>1</td>\n",
       "      <td>8</td>\n",
       "      <td>13</td>\n",
       "      <td>0</td>\n",
       "      <td>6</td>\n",
       "      <td>6</td>\n",
       "      <td>10</td>\n",
       "      <td>8</td>\n",
       "      <td>0</td>\n",
       "      <td>8</td>\n",
       "      <td>0</td>\n",
       "      <td>8</td>\n",
       "    </tr>\n",
       "    <tr>\n",
       "      <th>1</th>\n",
       "      <td>I</td>\n",
       "      <td>5</td>\n",
       "      <td>12</td>\n",
       "      <td>3</td>\n",
       "      <td>7</td>\n",
       "      <td>2</td>\n",
       "      <td>10</td>\n",
       "      <td>5</td>\n",
       "      <td>5</td>\n",
       "      <td>4</td>\n",
       "      <td>13</td>\n",
       "      <td>3</td>\n",
       "      <td>9</td>\n",
       "      <td>2</td>\n",
       "      <td>8</td>\n",
       "      <td>4</td>\n",
       "      <td>10</td>\n",
       "    </tr>\n",
       "    <tr>\n",
       "      <th>2</th>\n",
       "      <td>D</td>\n",
       "      <td>4</td>\n",
       "      <td>11</td>\n",
       "      <td>6</td>\n",
       "      <td>8</td>\n",
       "      <td>6</td>\n",
       "      <td>10</td>\n",
       "      <td>6</td>\n",
       "      <td>2</td>\n",
       "      <td>6</td>\n",
       "      <td>10</td>\n",
       "      <td>3</td>\n",
       "      <td>7</td>\n",
       "      <td>3</td>\n",
       "      <td>7</td>\n",
       "      <td>3</td>\n",
       "      <td>9</td>\n",
       "    </tr>\n",
       "    <tr>\n",
       "      <th>3</th>\n",
       "      <td>N</td>\n",
       "      <td>7</td>\n",
       "      <td>11</td>\n",
       "      <td>6</td>\n",
       "      <td>6</td>\n",
       "      <td>3</td>\n",
       "      <td>5</td>\n",
       "      <td>9</td>\n",
       "      <td>4</td>\n",
       "      <td>6</td>\n",
       "      <td>4</td>\n",
       "      <td>4</td>\n",
       "      <td>10</td>\n",
       "      <td>6</td>\n",
       "      <td>10</td>\n",
       "      <td>2</td>\n",
       "      <td>8</td>\n",
       "    </tr>\n",
       "    <tr>\n",
       "      <th>4</th>\n",
       "      <td>G</td>\n",
       "      <td>2</td>\n",
       "      <td>1</td>\n",
       "      <td>3</td>\n",
       "      <td>1</td>\n",
       "      <td>1</td>\n",
       "      <td>8</td>\n",
       "      <td>6</td>\n",
       "      <td>6</td>\n",
       "      <td>6</td>\n",
       "      <td>6</td>\n",
       "      <td>5</td>\n",
       "      <td>9</td>\n",
       "      <td>1</td>\n",
       "      <td>7</td>\n",
       "      <td>5</td>\n",
       "      <td>10</td>\n",
       "    </tr>\n",
       "  </tbody>\n",
       "</table>\n",
       "</div>"
      ],
      "text/plain": [
       "  0   1   2   3   4   5   6   7   8   9   10  11  12  13  14  15  16\n",
       "0  T   2   8   3   5   1   8  13   0   6   6  10   8   0   8   0   8\n",
       "1  I   5  12   3   7   2  10   5   5   4  13   3   9   2   8   4  10\n",
       "2  D   4  11   6   8   6  10   6   2   6  10   3   7   3   7   3   9\n",
       "3  N   7  11   6   6   3   5   9   4   6   4   4  10   6  10   2   8\n",
       "4  G   2   1   3   1   1   8   6   6   6   6   5   9   1   7   5  10"
      ]
     },
     "execution_count": 16,
     "metadata": {},
     "output_type": "execute_result"
    }
   ],
   "source": [
    "print('Number of rows in LETTER: ' + str(len(df_letter)))\n",
    "\n",
    "df_letter.head()"
   ]
  },
  {
   "cell_type": "code",
   "execution_count": 17,
   "metadata": {
    "code_folding": [
     3
    ],
    "collapsed": true
   },
   "outputs": [],
   "source": [
    "# Based on the Data Description in \n",
    "# https://archive.ics.uci.edu/ml/machine-learning-databases/letter-recognition/letter-recognition.names\n",
    "\n",
    "df_letter.columns = [   'lettr'\n",
    "                        , 'x-box'\n",
    "                        , 'y-box'\n",
    "                        , 'width'\n",
    "                        , 'high '\n",
    "                        , 'onpix'\n",
    "                        , 'x-bar'\n",
    "                        , 'y-bar'\n",
    "                        , 'x2bar'\n",
    "                        , 'y2bar'\n",
    "                        , 'xybar'\n",
    "                        , 'x2ybr'\n",
    "                        , 'xy2br'\n",
    "                        , 'x-ege'\n",
    "                        , 'xegvy'\n",
    "                        , 'y-ege'\n",
    "                        , 'yegvx']"
   ]
  },
  {
   "cell_type": "code",
   "execution_count": 18,
   "metadata": {
    "collapsed": true
   },
   "outputs": [],
   "source": [
    "# In Caruana & Niculescu-Mizil,. 2006, \n",
    "# the LETTER.p1 dataset was analyzed with the letter 'O' being the positive case \n",
    "# and all else negative. \n",
    "\n",
    "df_letter['lettr'] = df_letter['lettr'].map({'O':1}).fillna(0)"
   ]
  },
  {
   "cell_type": "code",
   "execution_count": 19,
   "metadata": {},
   "outputs": [
    {
     "data": {
      "text/html": [
       "<div>\n",
       "<style>\n",
       "    .dataframe thead tr:only-child th {\n",
       "        text-align: right;\n",
       "    }\n",
       "\n",
       "    .dataframe thead th {\n",
       "        text-align: left;\n",
       "    }\n",
       "\n",
       "    .dataframe tbody tr th {\n",
       "        vertical-align: top;\n",
       "    }\n",
       "</style>\n",
       "<table border=\"1\" class=\"dataframe\">\n",
       "  <thead>\n",
       "    <tr style=\"text-align: right;\">\n",
       "      <th></th>\n",
       "      <th>lettr</th>\n",
       "      <th>x-box</th>\n",
       "      <th>y-box</th>\n",
       "      <th>width</th>\n",
       "      <th>high</th>\n",
       "      <th>onpix</th>\n",
       "      <th>x-bar</th>\n",
       "      <th>y-bar</th>\n",
       "      <th>x2bar</th>\n",
       "      <th>y2bar</th>\n",
       "      <th>xybar</th>\n",
       "      <th>x2ybr</th>\n",
       "      <th>xy2br</th>\n",
       "      <th>x-ege</th>\n",
       "      <th>xegvy</th>\n",
       "      <th>y-ege</th>\n",
       "      <th>yegvx</th>\n",
       "    </tr>\n",
       "  </thead>\n",
       "  <tbody>\n",
       "    <tr>\n",
       "      <th>0</th>\n",
       "      <td>0.0</td>\n",
       "      <td>2</td>\n",
       "      <td>8</td>\n",
       "      <td>3</td>\n",
       "      <td>5</td>\n",
       "      <td>1</td>\n",
       "      <td>8</td>\n",
       "      <td>13</td>\n",
       "      <td>0</td>\n",
       "      <td>6</td>\n",
       "      <td>6</td>\n",
       "      <td>10</td>\n",
       "      <td>8</td>\n",
       "      <td>0</td>\n",
       "      <td>8</td>\n",
       "      <td>0</td>\n",
       "      <td>8</td>\n",
       "    </tr>\n",
       "    <tr>\n",
       "      <th>1</th>\n",
       "      <td>0.0</td>\n",
       "      <td>5</td>\n",
       "      <td>12</td>\n",
       "      <td>3</td>\n",
       "      <td>7</td>\n",
       "      <td>2</td>\n",
       "      <td>10</td>\n",
       "      <td>5</td>\n",
       "      <td>5</td>\n",
       "      <td>4</td>\n",
       "      <td>13</td>\n",
       "      <td>3</td>\n",
       "      <td>9</td>\n",
       "      <td>2</td>\n",
       "      <td>8</td>\n",
       "      <td>4</td>\n",
       "      <td>10</td>\n",
       "    </tr>\n",
       "    <tr>\n",
       "      <th>2</th>\n",
       "      <td>0.0</td>\n",
       "      <td>4</td>\n",
       "      <td>11</td>\n",
       "      <td>6</td>\n",
       "      <td>8</td>\n",
       "      <td>6</td>\n",
       "      <td>10</td>\n",
       "      <td>6</td>\n",
       "      <td>2</td>\n",
       "      <td>6</td>\n",
       "      <td>10</td>\n",
       "      <td>3</td>\n",
       "      <td>7</td>\n",
       "      <td>3</td>\n",
       "      <td>7</td>\n",
       "      <td>3</td>\n",
       "      <td>9</td>\n",
       "    </tr>\n",
       "    <tr>\n",
       "      <th>3</th>\n",
       "      <td>0.0</td>\n",
       "      <td>7</td>\n",
       "      <td>11</td>\n",
       "      <td>6</td>\n",
       "      <td>6</td>\n",
       "      <td>3</td>\n",
       "      <td>5</td>\n",
       "      <td>9</td>\n",
       "      <td>4</td>\n",
       "      <td>6</td>\n",
       "      <td>4</td>\n",
       "      <td>4</td>\n",
       "      <td>10</td>\n",
       "      <td>6</td>\n",
       "      <td>10</td>\n",
       "      <td>2</td>\n",
       "      <td>8</td>\n",
       "    </tr>\n",
       "    <tr>\n",
       "      <th>4</th>\n",
       "      <td>0.0</td>\n",
       "      <td>2</td>\n",
       "      <td>1</td>\n",
       "      <td>3</td>\n",
       "      <td>1</td>\n",
       "      <td>1</td>\n",
       "      <td>8</td>\n",
       "      <td>6</td>\n",
       "      <td>6</td>\n",
       "      <td>6</td>\n",
       "      <td>6</td>\n",
       "      <td>5</td>\n",
       "      <td>9</td>\n",
       "      <td>1</td>\n",
       "      <td>7</td>\n",
       "      <td>5</td>\n",
       "      <td>10</td>\n",
       "    </tr>\n",
       "  </tbody>\n",
       "</table>\n",
       "</div>"
      ],
      "text/plain": [
       "   lettr  x-box  y-box  width  high   onpix  x-bar  y-bar  x2bar  y2bar  \\\n",
       "0    0.0      2      8      3      5      1      8     13      0      6   \n",
       "1    0.0      5     12      3      7      2     10      5      5      4   \n",
       "2    0.0      4     11      6      8      6     10      6      2      6   \n",
       "3    0.0      7     11      6      6      3      5      9      4      6   \n",
       "4    0.0      2      1      3      1      1      8      6      6      6   \n",
       "\n",
       "   xybar  x2ybr  xy2br  x-ege  xegvy  y-ege  yegvx  \n",
       "0      6     10      8      0      8      0      8  \n",
       "1     13      3      9      2      8      4     10  \n",
       "2     10      3      7      3      7      3      9  \n",
       "3      4      4     10      6     10      2      8  \n",
       "4      6      5      9      1      7      5     10  "
      ]
     },
     "execution_count": 19,
     "metadata": {},
     "output_type": "execute_result"
    }
   ],
   "source": [
    "df_letter.head()"
   ]
  },
  {
   "cell_type": "code",
   "execution_count": 20,
   "metadata": {
    "collapsed": true
   },
   "outputs": [],
   "source": [
    "# Make the 'lettr' column last to conform with other datasets. \n",
    "cols = df_letter.columns.tolist()\n",
    "cols = cols[1:-2] + cols[:1]"
   ]
  },
  {
   "cell_type": "code",
   "execution_count": 21,
   "metadata": {
    "collapsed": true
   },
   "outputs": [],
   "source": [
    "df_letter = df_letter[cols]"
   ]
  },
  {
   "cell_type": "markdown",
   "metadata": {},
   "source": [
    "### Convert to numpy array and split"
   ]
  },
  {
   "cell_type": "code",
   "execution_count": 22,
   "metadata": {
    "collapsed": true
   },
   "outputs": [],
   "source": [
    "letter_X, letter_Y = get_X_and_Y(df_letter)\n",
    "\n",
    "letter_X_train, letter_X_test, letter_Y_train, letter_Y_test = \\\n",
    " train_test_split(letter_X, letter_Y, test_size=0.33)"
   ]
  },
  {
   "cell_type": "code",
   "execution_count": 23,
   "metadata": {},
   "outputs": [
    {
     "name": "stdout",
     "output_type": "stream",
     "text": [
      "letter_X_train.shape: (13400, 14)\n",
      "letter_Y_train.shape: (13400, 1)\n",
      "letter_X_test.shape : (6600, 14)\n",
      "letter_Y_test.shape : (6600, 1)\n"
     ]
    }
   ],
   "source": [
    "print('letter_X_train.shape: ' + str(letter_X_train.shape))\n",
    "print('letter_Y_train.shape: ' + str(letter_Y_train.shape))\n",
    "print('letter_X_test.shape : ' + str(letter_X_test.shape))\n",
    "print('letter_Y_test.shape : ' + str(letter_Y_test.shape))"
   ]
  },
  {
   "cell_type": "markdown",
   "metadata": {
    "heading_collapsed": true
   },
   "source": [
    "## Inspect the COV_TYPE dataset"
   ]
  },
  {
   "cell_type": "code",
   "execution_count": 24,
   "metadata": {
    "hidden": true
   },
   "outputs": [
    {
     "data": {
      "text/html": [
       "<div>\n",
       "<style>\n",
       "    .dataframe thead tr:only-child th {\n",
       "        text-align: right;\n",
       "    }\n",
       "\n",
       "    .dataframe thead th {\n",
       "        text-align: left;\n",
       "    }\n",
       "\n",
       "    .dataframe tbody tr th {\n",
       "        vertical-align: top;\n",
       "    }\n",
       "</style>\n",
       "<table border=\"1\" class=\"dataframe\">\n",
       "  <thead>\n",
       "    <tr style=\"text-align: right;\">\n",
       "      <th></th>\n",
       "      <th>0</th>\n",
       "      <th>1</th>\n",
       "      <th>2</th>\n",
       "      <th>3</th>\n",
       "      <th>4</th>\n",
       "      <th>5</th>\n",
       "      <th>6</th>\n",
       "      <th>7</th>\n",
       "      <th>8</th>\n",
       "      <th>9</th>\n",
       "      <th>...</th>\n",
       "      <th>45</th>\n",
       "      <th>46</th>\n",
       "      <th>47</th>\n",
       "      <th>48</th>\n",
       "      <th>49</th>\n",
       "      <th>50</th>\n",
       "      <th>51</th>\n",
       "      <th>52</th>\n",
       "      <th>53</th>\n",
       "      <th>54</th>\n",
       "    </tr>\n",
       "  </thead>\n",
       "  <tbody>\n",
       "    <tr>\n",
       "      <th>0</th>\n",
       "      <td>2596</td>\n",
       "      <td>51</td>\n",
       "      <td>3</td>\n",
       "      <td>258</td>\n",
       "      <td>0</td>\n",
       "      <td>510</td>\n",
       "      <td>221</td>\n",
       "      <td>232</td>\n",
       "      <td>148</td>\n",
       "      <td>6279</td>\n",
       "      <td>...</td>\n",
       "      <td>0</td>\n",
       "      <td>0</td>\n",
       "      <td>0</td>\n",
       "      <td>0</td>\n",
       "      <td>0</td>\n",
       "      <td>0</td>\n",
       "      <td>0</td>\n",
       "      <td>0</td>\n",
       "      <td>0</td>\n",
       "      <td>5</td>\n",
       "    </tr>\n",
       "    <tr>\n",
       "      <th>1</th>\n",
       "      <td>2590</td>\n",
       "      <td>56</td>\n",
       "      <td>2</td>\n",
       "      <td>212</td>\n",
       "      <td>-6</td>\n",
       "      <td>390</td>\n",
       "      <td>220</td>\n",
       "      <td>235</td>\n",
       "      <td>151</td>\n",
       "      <td>6225</td>\n",
       "      <td>...</td>\n",
       "      <td>0</td>\n",
       "      <td>0</td>\n",
       "      <td>0</td>\n",
       "      <td>0</td>\n",
       "      <td>0</td>\n",
       "      <td>0</td>\n",
       "      <td>0</td>\n",
       "      <td>0</td>\n",
       "      <td>0</td>\n",
       "      <td>5</td>\n",
       "    </tr>\n",
       "    <tr>\n",
       "      <th>2</th>\n",
       "      <td>2804</td>\n",
       "      <td>139</td>\n",
       "      <td>9</td>\n",
       "      <td>268</td>\n",
       "      <td>65</td>\n",
       "      <td>3180</td>\n",
       "      <td>234</td>\n",
       "      <td>238</td>\n",
       "      <td>135</td>\n",
       "      <td>6121</td>\n",
       "      <td>...</td>\n",
       "      <td>0</td>\n",
       "      <td>0</td>\n",
       "      <td>0</td>\n",
       "      <td>0</td>\n",
       "      <td>0</td>\n",
       "      <td>0</td>\n",
       "      <td>0</td>\n",
       "      <td>0</td>\n",
       "      <td>0</td>\n",
       "      <td>2</td>\n",
       "    </tr>\n",
       "    <tr>\n",
       "      <th>3</th>\n",
       "      <td>2785</td>\n",
       "      <td>155</td>\n",
       "      <td>18</td>\n",
       "      <td>242</td>\n",
       "      <td>118</td>\n",
       "      <td>3090</td>\n",
       "      <td>238</td>\n",
       "      <td>238</td>\n",
       "      <td>122</td>\n",
       "      <td>6211</td>\n",
       "      <td>...</td>\n",
       "      <td>0</td>\n",
       "      <td>0</td>\n",
       "      <td>0</td>\n",
       "      <td>0</td>\n",
       "      <td>0</td>\n",
       "      <td>0</td>\n",
       "      <td>0</td>\n",
       "      <td>0</td>\n",
       "      <td>0</td>\n",
       "      <td>2</td>\n",
       "    </tr>\n",
       "    <tr>\n",
       "      <th>4</th>\n",
       "      <td>2595</td>\n",
       "      <td>45</td>\n",
       "      <td>2</td>\n",
       "      <td>153</td>\n",
       "      <td>-1</td>\n",
       "      <td>391</td>\n",
       "      <td>220</td>\n",
       "      <td>234</td>\n",
       "      <td>150</td>\n",
       "      <td>6172</td>\n",
       "      <td>...</td>\n",
       "      <td>0</td>\n",
       "      <td>0</td>\n",
       "      <td>0</td>\n",
       "      <td>0</td>\n",
       "      <td>0</td>\n",
       "      <td>0</td>\n",
       "      <td>0</td>\n",
       "      <td>0</td>\n",
       "      <td>0</td>\n",
       "      <td>5</td>\n",
       "    </tr>\n",
       "  </tbody>\n",
       "</table>\n",
       "<p>5 rows × 55 columns</p>\n",
       "</div>"
      ],
      "text/plain": [
       "     0    1   2    3    4     5    6    7    8     9  ...  45  46  47  48  49  \\\n",
       "0  2596   51   3  258    0   510  221  232  148  6279 ...   0   0   0   0   0   \n",
       "1  2590   56   2  212   -6   390  220  235  151  6225 ...   0   0   0   0   0   \n",
       "2  2804  139   9  268   65  3180  234  238  135  6121 ...   0   0   0   0   0   \n",
       "3  2785  155  18  242  118  3090  238  238  122  6211 ...   0   0   0   0   0   \n",
       "4  2595   45   2  153   -1   391  220  234  150  6172 ...   0   0   0   0   0   \n",
       "\n",
       "   50  51  52  53  54  \n",
       "0   0   0   0   0   5  \n",
       "1   0   0   0   0   5  \n",
       "2   0   0   0   0   2  \n",
       "3   0   0   0   0   2  \n",
       "4   0   0   0   0   5  \n",
       "\n",
       "[5 rows x 55 columns]"
      ]
     },
     "execution_count": 24,
     "metadata": {},
     "output_type": "execute_result"
    }
   ],
   "source": [
    "df_covtype.head()"
   ]
  },
  {
   "cell_type": "code",
   "execution_count": 25,
   "metadata": {
    "collapsed": true,
    "hidden": true
   },
   "outputs": [],
   "source": [
    "# Not going to rename columns here, there's way too many.\n",
    "# According to https://archive.ics.uci.edu/ml/machine-learning-databases/covtype/covtype.info\n",
    "# column 54 is the cover type, which is what we're classifying. "
   ]
  },
  {
   "cell_type": "code",
   "execution_count": 26,
   "metadata": {
    "collapsed": true,
    "hidden": true
   },
   "outputs": [],
   "source": [
    "# In Caruana & Niculescu-Mizil,. 2006, the COV_TYPE dataset \n",
    "# was classified with the largest covertype as the positive case, \n",
    "# all else negative\n",
    "\n",
    "df_covtype[54] = df_covtype[54].map({7:1}).fillna(0)"
   ]
  },
  {
   "cell_type": "markdown",
   "metadata": {
    "hidden": true
   },
   "source": [
    "### Convert to numpy array and split"
   ]
  },
  {
   "cell_type": "code",
   "execution_count": 27,
   "metadata": {
    "collapsed": true,
    "hidden": true
   },
   "outputs": [],
   "source": [
    "covtype_X, covtype_Y = get_X_and_Y(df_covtype)\n",
    "covtype_X_train, covtype_X_test, covtype_Y_train, covtype_Y_test = \\\n",
    " train_test_split(covtype_X, covtype_Y, test_size=0.33)"
   ]
  },
  {
   "cell_type": "code",
   "execution_count": 28,
   "metadata": {
    "hidden": true
   },
   "outputs": [
    {
     "name": "stdout",
     "output_type": "stream",
     "text": [
      "covtype_X_train.shape: (389278, 54)\n",
      "covtype_Y_train.shape: (389278, 1)\n",
      "covtype_X_test.shape : (191734, 54)\n",
      "covtype_Y_test.shape : (191734, 1)\n"
     ]
    }
   ],
   "source": [
    "print('covtype_X_train.shape: ' + str(covtype_X_train.shape))\n",
    "print('covtype_Y_train.shape: ' + str(covtype_Y_train.shape))\n",
    "print('covtype_X_test.shape : ' + str(covtype_X_test.shape))\n",
    "print('covtype_Y_test.shape : ' + str(covtype_Y_test.shape))"
   ]
  },
  {
   "cell_type": "markdown",
   "metadata": {
    "collapsed": true,
    "heading_collapsed": true
   },
   "source": [
    "## Combine Datasets"
   ]
  },
  {
   "cell_type": "code",
   "execution_count": 29,
   "metadata": {
    "collapsed": true,
    "hidden": true
   },
   "outputs": [],
   "source": [
    "dfs = [df_adult, df_letter, df_covtype]"
   ]
  },
  {
   "cell_type": "markdown",
   "metadata": {},
   "source": [
    "# Classifiers!"
   ]
  },
  {
   "cell_type": "markdown",
   "metadata": {},
   "source": [
    "## Logistic Regression"
   ]
  },
  {
   "cell_type": "code",
   "execution_count": 30,
   "metadata": {},
   "outputs": [],
   "source": [
    "#param_grid = {'C': [10e-8, 10e-7, 10e-6, 10e-5, 10e-4, 10e-3, 10e-2, 1, 10e1, 10e2, 10e3, 10e4]}\n",
    "param_grid = {'C': [10e-8, 10e-4, 1, 10e1]}\n",
    "lr = get_cv(LogisticRegression(), param_grid)"
   ]
  },
  {
   "cell_type": "markdown",
   "metadata": {},
   "source": [
    "## K Neartest Neighbors (KNN)"
   ]
  },
  {
   "cell_type": "code",
   "execution_count": 31,
   "metadata": {},
   "outputs": [],
   "source": [
    "# In Caruana & Niculescu-Mizil,. 2006, there are 26 values of K\n",
    "# ranging from 1 to |trainset|. Because 3200 is the smallest possible trainset\n",
    "# we can achieve, we'll use that |trainset|. \n",
    "\n",
    "#param_grid = {'n_neighbors': list(range(1, 3200, round(3200/26)))}\n",
    "param_grid = {'n_neighbors': list(range(1, 10))}\n",
    "knn = get_cv(neighbors.KNeighborsClassifier(), param_grid)"
   ]
  },
  {
   "cell_type": "markdown",
   "metadata": {},
   "source": [
    "## Random Forest (RF)"
   ]
  },
  {
   "cell_type": "code",
   "execution_count": 32,
   "metadata": {},
   "outputs": [],
   "source": [
    "param_grid = {'n_estimators': list(range(100,600,100))}\n",
    "rf = get_cv(RandomForestClassifier(), param_grid)"
   ]
  },
  {
   "cell_type": "markdown",
   "metadata": {},
   "source": [
    "## Combine Classifiers"
   ]
  },
  {
   "cell_type": "code",
   "execution_count": 33,
   "metadata": {
    "collapsed": true
   },
   "outputs": [],
   "source": [
    "clfs = [lr, knn, rf]"
   ]
  },
  {
   "cell_type": "markdown",
   "metadata": {},
   "source": [
    "# Do the thing! "
   ]
  },
  {
   "cell_type": "markdown",
   "metadata": {},
   "source": [
    "## Constants"
   ]
  },
  {
   "cell_type": "code",
   "execution_count": 34,
   "metadata": {},
   "outputs": [],
   "source": [
    "n_trials = 1\n",
    "clf_names = [\"Logistic Regression\", \"KNN\", \"Random Forest\"]\n",
    "df_names = [\"ADULT\", \"LETTER\", \"COV_TYPE\"]\n",
    "splits = [.2, .5, .8]\n",
    "\n",
    "df_space = tuple(zip(df_names, dfs))\n",
    "clfs_space = tuple(zip(clf_names, clfs))\n",
    "\n",
    "search_space_elements = [df_space, clfs_space, splits]"
   ]
  },
  {
   "cell_type": "code",
   "execution_count": 35,
   "metadata": {},
   "outputs": [],
   "source": [
    "df_results = len(dfs) * len(clfs) * len(splits)"
   ]
  },
  {
   "cell_type": "code",
   "execution_count": 36,
   "metadata": {},
   "outputs": [
    {
     "name": "stdout",
     "output_type": "stream",
     "text": [
      "ADULT_Logistic Regression_0.2\n",
      "                               train_score  test_score  \\\n",
      "ADULT_Logistic Regression_0.2     0.799303    0.799332   \n",
      "\n",
      "                                                                    hyper-params  \n",
      "ADULT_Logistic Regression_0.2  {'mean_train_score': [0.797278073665, 0.799216...  \n",
      "ADULT_Logistic Regression_0.5\n",
      "                               train_score  test_score  \\\n",
      "ADULT_Logistic Regression_0.2     0.799303    0.799332   \n",
      "ADULT_Logistic Regression_0.5     0.798480    0.798034   \n",
      "\n",
      "                                                                    hyper-params  \n",
      "ADULT_Logistic Regression_0.2  {'mean_train_score': [0.797278073665, 0.799216...  \n",
      "ADULT_Logistic Regression_0.5  {'mean_train_score': [0.796913397257, 0.798280...  \n",
      "ADULT_Logistic Regression_0.8\n",
      "                               train_score  test_score  \\\n",
      "ADULT_Logistic Regression_0.2     0.799303    0.799332   \n",
      "ADULT_Logistic Regression_0.5     0.798480    0.798034   \n",
      "ADULT_Logistic Regression_0.8     0.795416    0.794380   \n",
      "\n",
      "                                                                    hyper-params  \n",
      "ADULT_Logistic Regression_0.2  {'mean_train_score': [0.797278073665, 0.799216...  \n",
      "ADULT_Logistic Regression_0.5  {'mean_train_score': [0.796913397257, 0.798280...  \n",
      "ADULT_Logistic Regression_0.8  {'mean_train_score': [0.794878777962, 0.795416...  \n",
      "ADULT_KNN_0.2\n",
      "                               train_score  test_score  \\\n",
      "ADULT_Logistic Regression_0.2     0.799303    0.799332   \n",
      "ADULT_Logistic Regression_0.5     0.798480    0.798034   \n",
      "ADULT_Logistic Regression_0.8     0.795416    0.794380   \n",
      "ADULT_KNN_0.2                     0.999971    0.793535   \n",
      "\n",
      "                                                                    hyper-params  \n",
      "ADULT_Logistic Regression_0.2  {'mean_train_score': [0.797278073665, 0.799216...  \n",
      "ADULT_Logistic Regression_0.5  {'mean_train_score': [0.796913397257, 0.798280...  \n",
      "ADULT_Logistic Regression_0.8  {'mean_train_score': [0.794878777962, 0.795416...  \n",
      "ADULT_KNN_0.2                  {'mean_train_score': [0.999971207371, 0.867513...  \n",
      "ADULT_KNN_0.5\n",
      "                               train_score  test_score  \\\n",
      "ADULT_Logistic Regression_0.2     0.799303    0.799332   \n",
      "ADULT_Logistic Regression_0.5     0.798480    0.798034   \n",
      "ADULT_Logistic Regression_0.8     0.795416    0.794380   \n",
      "ADULT_KNN_0.2                     0.999971    0.793535   \n",
      "ADULT_KNN_0.5                     1.000000    0.794042   \n",
      "\n",
      "                                                                    hyper-params  \n",
      "ADULT_Logistic Regression_0.2  {'mean_train_score': [0.797278073665, 0.799216...  \n",
      "ADULT_Logistic Regression_0.5  {'mean_train_score': [0.796913397257, 0.798280...  \n",
      "ADULT_Logistic Regression_0.8  {'mean_train_score': [0.794878777962, 0.795416...  \n",
      "ADULT_KNN_0.2                  {'mean_train_score': [0.999971207371, 0.867513...  \n",
      "ADULT_KNN_0.5                  {'mean_train_score': [1.0, 0.863298526331, 0.8...  \n",
      "ADULT_KNN_0.8\n",
      "                               train_score  test_score  \\\n",
      "ADULT_Logistic Regression_0.2     0.799303    0.799332   \n",
      "ADULT_Logistic Regression_0.5     0.798480    0.798034   \n",
      "ADULT_Logistic Regression_0.8     0.795416    0.794380   \n",
      "ADULT_KNN_0.2                     0.999971    0.793535   \n",
      "ADULT_KNN_0.5                     1.000000    0.794042   \n",
      "ADULT_KNN_0.8                     1.000000    0.792383   \n",
      "\n",
      "                                                                    hyper-params  \n",
      "ADULT_Logistic Regression_0.2  {'mean_train_score': [0.797278073665, 0.799216...  \n",
      "ADULT_Logistic Regression_0.5  {'mean_train_score': [0.796913397257, 0.798280...  \n",
      "ADULT_Logistic Regression_0.8  {'mean_train_score': [0.794878777962, 0.795416...  \n",
      "ADULT_KNN_0.2                  {'mean_train_score': [0.999971207371, 0.867513...  \n",
      "ADULT_KNN_0.5                  {'mean_train_score': [1.0, 0.863298526331, 0.8...  \n",
      "ADULT_KNN_0.8                  {'mean_train_score': [1.0, 0.854077193282, 0.8...  \n",
      "ADULT_Random Forest_0.2\n",
      "                               train_score  test_score  \\\n",
      "ADULT_Logistic Regression_0.2     0.799303    0.799332   \n",
      "ADULT_Logistic Regression_0.5     0.798480    0.798034   \n",
      "ADULT_Logistic Regression_0.8     0.795416    0.794380   \n",
      "ADULT_KNN_0.2                     0.999971    0.793535   \n",
      "ADULT_KNN_0.5                     1.000000    0.794042   \n",
      "ADULT_KNN_0.8                     1.000000    0.792383   \n",
      "ADULT_Random Forest_0.2           1.000000    0.855689   \n",
      "\n",
      "                                                                    hyper-params  \n",
      "ADULT_Logistic Regression_0.2  {'mean_train_score': [0.797278073665, 0.799216...  \n",
      "ADULT_Logistic Regression_0.5  {'mean_train_score': [0.796913397257, 0.798280...  \n",
      "ADULT_Logistic Regression_0.8  {'mean_train_score': [0.794878777962, 0.795416...  \n",
      "ADULT_KNN_0.2                  {'mean_train_score': [0.999971207371, 0.867513...  \n",
      "ADULT_KNN_0.5                  {'mean_train_score': [1.0, 0.863298526331, 0.8...  \n",
      "ADULT_KNN_0.8                  {'mean_train_score': [1.0, 0.854077193282, 0.8...  \n",
      "ADULT_Random Forest_0.2        {'mean_train_score': [0.99997120691, 1.0, 1.0,...  \n",
      "ADULT_Random Forest_0.5\n",
      "                               train_score  test_score  \\\n",
      "ADULT_Logistic Regression_0.2     0.799303    0.799332   \n",
      "ADULT_Logistic Regression_0.5     0.798480    0.798034   \n",
      "ADULT_Logistic Regression_0.8     0.795416    0.794380   \n",
      "ADULT_KNN_0.2                     0.999971    0.793535   \n",
      "ADULT_KNN_0.5                     1.000000    0.794042   \n",
      "ADULT_KNN_0.8                     1.000000    0.792383   \n",
      "ADULT_Random Forest_0.2           1.000000    0.855689   \n",
      "ADULT_Random Forest_0.5           1.000000    0.857740   \n",
      "\n",
      "                                                                    hyper-params  \n",
      "ADULT_Logistic Regression_0.2  {'mean_train_score': [0.797278073665, 0.799216...  \n",
      "ADULT_Logistic Regression_0.5  {'mean_train_score': [0.796913397257, 0.798280...  \n",
      "ADULT_Logistic Regression_0.8  {'mean_train_score': [0.794878777962, 0.795416...  \n",
      "ADULT_KNN_0.2                  {'mean_train_score': [0.999971207371, 0.867513...  \n",
      "ADULT_KNN_0.5                  {'mean_train_score': [1.0, 0.863298526331, 0.8...  \n",
      "ADULT_KNN_0.8                  {'mean_train_score': [1.0, 0.854077193282, 0.8...  \n",
      "ADULT_Random Forest_0.2        {'mean_train_score': [0.99997120691, 1.0, 1.0,...  \n",
      "ADULT_Random Forest_0.5        {'mean_train_score': [0.999969287469, 1.0, 1.0...  \n",
      "ADULT_Random Forest_0.8\n",
      "                               train_score  test_score  \\\n",
      "ADULT_Logistic Regression_0.2     0.799303    0.799332   \n",
      "ADULT_Logistic Regression_0.5     0.798480    0.798034   \n",
      "ADULT_Logistic Regression_0.8     0.795416    0.794380   \n",
      "ADULT_KNN_0.2                     0.999971    0.793535   \n",
      "ADULT_KNN_0.5                     1.000000    0.794042   \n",
      "ADULT_KNN_0.8                     1.000000    0.792383   \n",
      "ADULT_Random Forest_0.2           1.000000    0.855689   \n",
      "ADULT_Random Forest_0.5           1.000000    0.857740   \n",
      "ADULT_Random Forest_0.8           1.000000    0.851658   \n",
      "\n",
      "                                                                    hyper-params  \n",
      "ADULT_Logistic Regression_0.2  {'mean_train_score': [0.797278073665, 0.799216...  \n",
      "ADULT_Logistic Regression_0.5  {'mean_train_score': [0.796913397257, 0.798280...  \n",
      "ADULT_Logistic Regression_0.8  {'mean_train_score': [0.794878777962, 0.795416...  \n",
      "ADULT_KNN_0.2                  {'mean_train_score': [0.999971207371, 0.867513...  \n",
      "ADULT_KNN_0.5                  {'mean_train_score': [1.0, 0.863298526331, 0.8...  \n",
      "ADULT_KNN_0.8                  {'mean_train_score': [1.0, 0.854077193282, 0.8...  \n",
      "ADULT_Random Forest_0.2        {'mean_train_score': [0.99997120691, 1.0, 1.0,...  \n",
      "ADULT_Random Forest_0.5        {'mean_train_score': [0.999969287469, 1.0, 1.0...  \n",
      "ADULT_Random Forest_0.8        {'mean_train_score': [0.999961612284, 1.0, 1.0...  \n",
      "LETTER_Logistic Regression_0.2\n",
      "                                train_score  test_score  \\\n",
      "ADULT_Logistic Regression_0.2      0.799303    0.799332   \n",
      "ADULT_Logistic Regression_0.5      0.798480    0.798034   \n",
      "ADULT_Logistic Regression_0.8      0.795416    0.794380   \n",
      "ADULT_KNN_0.2                      0.999971    0.793535   \n",
      "ADULT_KNN_0.5                      1.000000    0.794042   \n",
      "ADULT_KNN_0.8                      1.000000    0.792383   \n",
      "ADULT_Random Forest_0.2            1.000000    0.855689   \n",
      "ADULT_Random Forest_0.5            1.000000    0.857740   \n",
      "ADULT_Random Forest_0.8            1.000000    0.851658   \n",
      "LETTER_Logistic Regression_0.2     0.963875    0.963875   \n",
      "\n",
      "                                                                     hyper-params  \n",
      "ADULT_Logistic Regression_0.2   {'mean_train_score': [0.797278073665, 0.799216...  \n",
      "ADULT_Logistic Regression_0.5   {'mean_train_score': [0.796913397257, 0.798280...  \n",
      "ADULT_Logistic Regression_0.8   {'mean_train_score': [0.794878777962, 0.795416...  \n",
      "ADULT_KNN_0.2                   {'mean_train_score': [0.999971207371, 0.867513...  \n",
      "ADULT_KNN_0.5                   {'mean_train_score': [1.0, 0.863298526331, 0.8...  \n",
      "ADULT_KNN_0.8                   {'mean_train_score': [1.0, 0.854077193282, 0.8...  \n",
      "ADULT_Random Forest_0.2         {'mean_train_score': [0.99997120691, 1.0, 1.0,...  \n",
      "ADULT_Random Forest_0.5         {'mean_train_score': [0.999969287469, 1.0, 1.0...  \n",
      "ADULT_Random Forest_0.8         {'mean_train_score': [0.999961612284, 1.0, 1.0...  \n",
      "LETTER_Logistic Regression_0.2  {'mean_train_score': [0.963875002265, 0.963875...  \n",
      "LETTER_Logistic Regression_0.5\n"
     ]
    },
    {
     "name": "stdout",
     "output_type": "stream",
     "text": [
      "                                train_score  test_score  \\\n",
      "ADULT_Logistic Regression_0.2      0.799303    0.799332   \n",
      "ADULT_Logistic Regression_0.5      0.798480    0.798034   \n",
      "ADULT_Logistic Regression_0.8      0.795416    0.794380   \n",
      "ADULT_KNN_0.2                      0.999971    0.793535   \n",
      "ADULT_KNN_0.5                      1.000000    0.794042   \n",
      "ADULT_KNN_0.8                      1.000000    0.792383   \n",
      "ADULT_Random Forest_0.2            1.000000    0.855689   \n",
      "ADULT_Random Forest_0.5            1.000000    0.857740   \n",
      "ADULT_Random Forest_0.8            1.000000    0.851658   \n",
      "LETTER_Logistic Regression_0.2     0.963875    0.963875   \n",
      "LETTER_Logistic Regression_0.5     0.963300    0.963300   \n",
      "\n",
      "                                                                     hyper-params  \n",
      "ADULT_Logistic Regression_0.2   {'mean_train_score': [0.797278073665, 0.799216...  \n",
      "ADULT_Logistic Regression_0.5   {'mean_train_score': [0.796913397257, 0.798280...  \n",
      "ADULT_Logistic Regression_0.8   {'mean_train_score': [0.794878777962, 0.795416...  \n",
      "ADULT_KNN_0.2                   {'mean_train_score': [0.999971207371, 0.867513...  \n",
      "ADULT_KNN_0.5                   {'mean_train_score': [1.0, 0.863298526331, 0.8...  \n",
      "ADULT_KNN_0.8                   {'mean_train_score': [1.0, 0.854077193282, 0.8...  \n",
      "ADULT_Random Forest_0.2         {'mean_train_score': [0.99997120691, 1.0, 1.0,...  \n",
      "ADULT_Random Forest_0.5         {'mean_train_score': [0.999969287469, 1.0, 1.0...  \n",
      "ADULT_Random Forest_0.8         {'mean_train_score': [0.999961612284, 1.0, 1.0...  \n",
      "LETTER_Logistic Regression_0.2  {'mean_train_score': [0.963875002265, 0.963875...  \n",
      "LETTER_Logistic Regression_0.5  {'mean_train_score': [0.963300005791, 0.963300...  \n",
      "LETTER_Logistic Regression_0.8\n",
      "                                train_score  test_score  \\\n",
      "ADULT_Logistic Regression_0.2      0.799303    0.799332   \n",
      "ADULT_Logistic Regression_0.5      0.798480    0.798034   \n",
      "ADULT_Logistic Regression_0.8      0.795416    0.794380   \n",
      "ADULT_KNN_0.2                      0.999971    0.793535   \n",
      "ADULT_KNN_0.5                      1.000000    0.794042   \n",
      "ADULT_KNN_0.8                      1.000000    0.792383   \n",
      "ADULT_Random Forest_0.2            1.000000    0.855689   \n",
      "ADULT_Random Forest_0.5            1.000000    0.857740   \n",
      "ADULT_Random Forest_0.8            1.000000    0.851658   \n",
      "LETTER_Logistic Regression_0.2     0.963875    0.963875   \n",
      "LETTER_Logistic Regression_0.5     0.963300    0.963300   \n",
      "LETTER_Logistic Regression_0.8     0.961500    0.961500   \n",
      "\n",
      "                                                                     hyper-params  \n",
      "ADULT_Logistic Regression_0.2   {'mean_train_score': [0.797278073665, 0.799216...  \n",
      "ADULT_Logistic Regression_0.5   {'mean_train_score': [0.796913397257, 0.798280...  \n",
      "ADULT_Logistic Regression_0.8   {'mean_train_score': [0.794878777962, 0.795416...  \n",
      "ADULT_KNN_0.2                   {'mean_train_score': [0.999971207371, 0.867513...  \n",
      "ADULT_KNN_0.5                   {'mean_train_score': [1.0, 0.863298526331, 0.8...  \n",
      "ADULT_KNN_0.8                   {'mean_train_score': [1.0, 0.854077193282, 0.8...  \n",
      "ADULT_Random Forest_0.2         {'mean_train_score': [0.99997120691, 1.0, 1.0,...  \n",
      "ADULT_Random Forest_0.5         {'mean_train_score': [0.999969287469, 1.0, 1.0...  \n",
      "ADULT_Random Forest_0.8         {'mean_train_score': [0.999961612284, 1.0, 1.0...  \n",
      "LETTER_Logistic Regression_0.2  {'mean_train_score': [0.963875002265, 0.963875...  \n",
      "LETTER_Logistic Regression_0.5  {'mean_train_score': [0.963300005791, 0.963300...  \n",
      "LETTER_Logistic Regression_0.8  {'mean_train_score': [0.961500018024, 0.961500...  \n",
      "LETTER_KNN_0.2\n",
      "                                train_score  test_score  \\\n",
      "ADULT_Logistic Regression_0.2      0.799303    0.799332   \n",
      "ADULT_Logistic Regression_0.5      0.798480    0.798034   \n",
      "ADULT_Logistic Regression_0.8      0.795416    0.794380   \n",
      "ADULT_KNN_0.2                      0.999971    0.793535   \n",
      "ADULT_KNN_0.5                      1.000000    0.794042   \n",
      "ADULT_KNN_0.8                      1.000000    0.792383   \n",
      "ADULT_Random Forest_0.2            1.000000    0.855689   \n",
      "ADULT_Random Forest_0.5            1.000000    0.857740   \n",
      "ADULT_Random Forest_0.8            1.000000    0.851658   \n",
      "LETTER_Logistic Regression_0.2     0.963875    0.963875   \n",
      "LETTER_Logistic Regression_0.5     0.963300    0.963300   \n",
      "LETTER_Logistic Regression_0.8     0.961500    0.961500   \n",
      "LETTER_KNN_0.2                     0.999953    0.992375   \n",
      "\n",
      "                                                                     hyper-params  \n",
      "ADULT_Logistic Regression_0.2   {'mean_train_score': [0.797278073665, 0.799216...  \n",
      "ADULT_Logistic Regression_0.5   {'mean_train_score': [0.796913397257, 0.798280...  \n",
      "ADULT_Logistic Regression_0.8   {'mean_train_score': [0.794878777962, 0.795416...  \n",
      "ADULT_KNN_0.2                   {'mean_train_score': [0.999971207371, 0.867513...  \n",
      "ADULT_KNN_0.5                   {'mean_train_score': [1.0, 0.863298526331, 0.8...  \n",
      "ADULT_KNN_0.8                   {'mean_train_score': [1.0, 0.854077193282, 0.8...  \n",
      "ADULT_Random Forest_0.2         {'mean_train_score': [0.99997120691, 1.0, 1.0,...  \n",
      "ADULT_Random Forest_0.5         {'mean_train_score': [0.999969287469, 1.0, 1.0...  \n",
      "ADULT_Random Forest_0.8         {'mean_train_score': [0.999961612284, 1.0, 1.0...  \n",
      "LETTER_Logistic Regression_0.2  {'mean_train_score': [0.963875002265, 0.963875...  \n",
      "LETTER_Logistic Regression_0.5  {'mean_train_score': [0.963300005791, 0.963300...  \n",
      "LETTER_Logistic Regression_0.8  {'mean_train_score': [0.961500018024, 0.961500...  \n",
      "LETTER_KNN_0.2                  {'mean_train_score': [0.999953123779, 0.995937...  \n",
      "LETTER_KNN_0.5\n",
      "                                train_score  test_score  \\\n",
      "ADULT_Logistic Regression_0.2      0.799303    0.799332   \n",
      "ADULT_Logistic Regression_0.5      0.798480    0.798034   \n",
      "ADULT_Logistic Regression_0.8      0.795416    0.794380   \n",
      "ADULT_KNN_0.2                      0.999971    0.793535   \n",
      "ADULT_KNN_0.5                      1.000000    0.794042   \n",
      "ADULT_KNN_0.8                      1.000000    0.792383   \n",
      "ADULT_Random Forest_0.2            1.000000    0.855689   \n",
      "ADULT_Random Forest_0.5            1.000000    0.857740   \n",
      "ADULT_Random Forest_0.8            1.000000    0.851658   \n",
      "LETTER_Logistic Regression_0.2     0.963875    0.963875   \n",
      "LETTER_Logistic Regression_0.5     0.963300    0.963300   \n",
      "LETTER_Logistic Regression_0.8     0.961500    0.961500   \n",
      "LETTER_KNN_0.2                     0.999953    0.992375   \n",
      "LETTER_KNN_0.5                     1.000000    0.989400   \n",
      "\n",
      "                                                                     hyper-params  \n",
      "ADULT_Logistic Regression_0.2   {'mean_train_score': [0.797278073665, 0.799216...  \n",
      "ADULT_Logistic Regression_0.5   {'mean_train_score': [0.796913397257, 0.798280...  \n",
      "ADULT_Logistic Regression_0.8   {'mean_train_score': [0.794878777962, 0.795416...  \n",
      "ADULT_KNN_0.2                   {'mean_train_score': [0.999971207371, 0.867513...  \n",
      "ADULT_KNN_0.5                   {'mean_train_score': [1.0, 0.863298526331, 0.8...  \n",
      "ADULT_KNN_0.8                   {'mean_train_score': [1.0, 0.854077193282, 0.8...  \n",
      "ADULT_Random Forest_0.2         {'mean_train_score': [0.99997120691, 1.0, 1.0,...  \n",
      "ADULT_Random Forest_0.5         {'mean_train_score': [0.999969287469, 1.0, 1.0...  \n",
      "ADULT_Random Forest_0.8         {'mean_train_score': [0.999961612284, 1.0, 1.0...  \n",
      "LETTER_Logistic Regression_0.2  {'mean_train_score': [0.963875002265, 0.963875...  \n",
      "LETTER_Logistic Regression_0.5  {'mean_train_score': [0.963300005791, 0.963300...  \n",
      "LETTER_Logistic Regression_0.8  {'mean_train_score': [0.961500018024, 0.961500...  \n",
      "LETTER_KNN_0.2                  {'mean_train_score': [0.999953123779, 0.995937...  \n",
      "LETTER_KNN_0.5                  {'mean_train_score': [1.0, 0.994625024934, 0.9...  \n",
      "LETTER_KNN_0.8\n",
      "                                train_score  test_score  \\\n",
      "ADULT_Logistic Regression_0.2      0.799303    0.799332   \n",
      "ADULT_Logistic Regression_0.5      0.798480    0.798034   \n",
      "ADULT_Logistic Regression_0.8      0.795416    0.794380   \n",
      "ADULT_KNN_0.2                      0.999971    0.793535   \n",
      "ADULT_KNN_0.5                      1.000000    0.794042   \n",
      "ADULT_KNN_0.8                      1.000000    0.792383   \n",
      "ADULT_Random Forest_0.2            1.000000    0.855689   \n",
      "ADULT_Random Forest_0.5            1.000000    0.857740   \n",
      "ADULT_Random Forest_0.8            1.000000    0.851658   \n",
      "LETTER_Logistic Regression_0.2     0.963875    0.963875   \n",
      "LETTER_Logistic Regression_0.5     0.963300    0.963300   \n",
      "LETTER_Logistic Regression_0.8     0.961500    0.961500   \n",
      "LETTER_KNN_0.2                     0.999953    0.992375   \n",
      "LETTER_KNN_0.5                     1.000000    0.989400   \n",
      "LETTER_KNN_0.8                     1.000000    0.981500   \n",
      "\n",
      "                                                                     hyper-params  \n",
      "ADULT_Logistic Regression_0.2   {'mean_train_score': [0.797278073665, 0.799216...  \n",
      "ADULT_Logistic Regression_0.5   {'mean_train_score': [0.796913397257, 0.798280...  \n",
      "ADULT_Logistic Regression_0.8   {'mean_train_score': [0.794878777962, 0.795416...  \n",
      "ADULT_KNN_0.2                   {'mean_train_score': [0.999971207371, 0.867513...  \n",
      "ADULT_KNN_0.5                   {'mean_train_score': [1.0, 0.863298526331, 0.8...  \n",
      "ADULT_KNN_0.8                   {'mean_train_score': [1.0, 0.854077193282, 0.8...  \n",
      "ADULT_Random Forest_0.2         {'mean_train_score': [0.99997120691, 1.0, 1.0,...  \n",
      "ADULT_Random Forest_0.5         {'mean_train_score': [0.999969287469, 1.0, 1.0...  \n",
      "ADULT_Random Forest_0.8         {'mean_train_score': [0.999961612284, 1.0, 1.0...  \n",
      "LETTER_Logistic Regression_0.2  {'mean_train_score': [0.963875002265, 0.963875...  \n",
      "LETTER_Logistic Regression_0.5  {'mean_train_score': [0.963300005791, 0.963300...  \n",
      "LETTER_Logistic Regression_0.8  {'mean_train_score': [0.961500018024, 0.961500...  \n",
      "LETTER_KNN_0.2                  {'mean_train_score': [0.999953123779, 0.995937...  \n",
      "LETTER_KNN_0.5                  {'mean_train_score': [1.0, 0.994625024934, 0.9...  \n",
      "LETTER_KNN_0.8                  {'mean_train_score': [1.0, 0.9920625, 0.991562...  \n",
      "LETTER_Random Forest_0.2\n"
     ]
    },
    {
     "name": "stdout",
     "output_type": "stream",
     "text": [
      "                                train_score  test_score  \\\n",
      "ADULT_Logistic Regression_0.2      0.799303    0.799332   \n",
      "ADULT_Logistic Regression_0.5      0.798480    0.798034   \n",
      "ADULT_Logistic Regression_0.8      0.795416    0.794380   \n",
      "ADULT_KNN_0.2                      0.999971    0.793535   \n",
      "ADULT_KNN_0.5                      1.000000    0.794042   \n",
      "ADULT_KNN_0.8                      1.000000    0.792383   \n",
      "ADULT_Random Forest_0.2            1.000000    0.855689   \n",
      "ADULT_Random Forest_0.5            1.000000    0.857740   \n",
      "ADULT_Random Forest_0.8            1.000000    0.851658   \n",
      "LETTER_Logistic Regression_0.2     0.963875    0.963875   \n",
      "LETTER_Logistic Regression_0.5     0.963300    0.963300   \n",
      "LETTER_Logistic Regression_0.8     0.961500    0.961500   \n",
      "LETTER_KNN_0.2                     0.999953    0.992375   \n",
      "LETTER_KNN_0.5                     1.000000    0.989400   \n",
      "LETTER_KNN_0.8                     1.000000    0.981500   \n",
      "LETTER_Random Forest_0.2           1.000000    0.989812   \n",
      "\n",
      "                                                                     hyper-params  \n",
      "ADULT_Logistic Regression_0.2   {'mean_train_score': [0.797278073665, 0.799216...  \n",
      "ADULT_Logistic Regression_0.5   {'mean_train_score': [0.796913397257, 0.798280...  \n",
      "ADULT_Logistic Regression_0.8   {'mean_train_score': [0.794878777962, 0.795416...  \n",
      "ADULT_KNN_0.2                   {'mean_train_score': [0.999971207371, 0.867513...  \n",
      "ADULT_KNN_0.5                   {'mean_train_score': [1.0, 0.863298526331, 0.8...  \n",
      "ADULT_KNN_0.8                   {'mean_train_score': [1.0, 0.854077193282, 0.8...  \n",
      "ADULT_Random Forest_0.2         {'mean_train_score': [0.99997120691, 1.0, 1.0,...  \n",
      "ADULT_Random Forest_0.5         {'mean_train_score': [0.999969287469, 1.0, 1.0...  \n",
      "ADULT_Random Forest_0.8         {'mean_train_score': [0.999961612284, 1.0, 1.0...  \n",
      "LETTER_Logistic Regression_0.2  {'mean_train_score': [0.963875002265, 0.963875...  \n",
      "LETTER_Logistic Regression_0.5  {'mean_train_score': [0.963300005791, 0.963300...  \n",
      "LETTER_Logistic Regression_0.8  {'mean_train_score': [0.961500018024, 0.961500...  \n",
      "LETTER_KNN_0.2                  {'mean_train_score': [0.999953123779, 0.995937...  \n",
      "LETTER_KNN_0.5                  {'mean_train_score': [1.0, 0.994625024934, 0.9...  \n",
      "LETTER_KNN_0.8                  {'mean_train_score': [1.0, 0.9920625, 0.991562...  \n",
      "LETTER_Random Forest_0.2        {'mean_train_score': [1.0, 1.0, 1.0, 1.0, 1.0]...  \n",
      "LETTER_Random Forest_0.5\n",
      "                                train_score  test_score  \\\n",
      "ADULT_Logistic Regression_0.2      0.799303    0.799332   \n",
      "ADULT_Logistic Regression_0.5      0.798480    0.798034   \n",
      "ADULT_Logistic Regression_0.8      0.795416    0.794380   \n",
      "ADULT_KNN_0.2                      0.999971    0.793535   \n",
      "ADULT_KNN_0.5                      1.000000    0.794042   \n",
      "ADULT_KNN_0.8                      1.000000    0.792383   \n",
      "ADULT_Random Forest_0.2            1.000000    0.855689   \n",
      "ADULT_Random Forest_0.5            1.000000    0.857740   \n",
      "ADULT_Random Forest_0.8            1.000000    0.851658   \n",
      "LETTER_Logistic Regression_0.2     0.963875    0.963875   \n",
      "LETTER_Logistic Regression_0.5     0.963300    0.963300   \n",
      "LETTER_Logistic Regression_0.8     0.961500    0.961500   \n",
      "LETTER_KNN_0.2                     0.999953    0.992375   \n",
      "LETTER_KNN_0.5                     1.000000    0.989400   \n",
      "LETTER_KNN_0.8                     1.000000    0.981500   \n",
      "LETTER_Random Forest_0.2           1.000000    0.989812   \n",
      "LETTER_Random Forest_0.5           0.999925    0.986500   \n",
      "\n",
      "                                                                     hyper-params  \n",
      "ADULT_Logistic Regression_0.2   {'mean_train_score': [0.797278073665, 0.799216...  \n",
      "ADULT_Logistic Regression_0.5   {'mean_train_score': [0.796913397257, 0.798280...  \n",
      "ADULT_Logistic Regression_0.8   {'mean_train_score': [0.794878777962, 0.795416...  \n",
      "ADULT_KNN_0.2                   {'mean_train_score': [0.999971207371, 0.867513...  \n",
      "ADULT_KNN_0.5                   {'mean_train_score': [1.0, 0.863298526331, 0.8...  \n",
      "ADULT_KNN_0.8                   {'mean_train_score': [1.0, 0.854077193282, 0.8...  \n",
      "ADULT_Random Forest_0.2         {'mean_train_score': [0.99997120691, 1.0, 1.0,...  \n",
      "ADULT_Random Forest_0.5         {'mean_train_score': [0.999969287469, 1.0, 1.0...  \n",
      "ADULT_Random Forest_0.8         {'mean_train_score': [0.999961612284, 1.0, 1.0...  \n",
      "LETTER_Logistic Regression_0.2  {'mean_train_score': [0.963875002265, 0.963875...  \n",
      "LETTER_Logistic Regression_0.5  {'mean_train_score': [0.963300005791, 0.963300...  \n",
      "LETTER_Logistic Regression_0.8  {'mean_train_score': [0.961500018024, 0.961500...  \n",
      "LETTER_KNN_0.2                  {'mean_train_score': [0.999953123779, 0.995937...  \n",
      "LETTER_KNN_0.5                  {'mean_train_score': [1.0, 0.994625024934, 0.9...  \n",
      "LETTER_KNN_0.8                  {'mean_train_score': [1.0, 0.9920625, 0.991562...  \n",
      "LETTER_Random Forest_0.2        {'mean_train_score': [1.0, 1.0, 1.0, 1.0, 1.0]...  \n",
      "LETTER_Random Forest_0.5        {'mean_train_score': [0.999925, 0.999925, 0.99...  \n",
      "LETTER_Random Forest_0.8\n",
      "                                train_score  test_score  \\\n",
      "ADULT_Logistic Regression_0.2      0.799303    0.799332   \n",
      "ADULT_Logistic Regression_0.5      0.798480    0.798034   \n",
      "ADULT_Logistic Regression_0.8      0.795416    0.794380   \n",
      "ADULT_KNN_0.2                      0.999971    0.793535   \n",
      "ADULT_KNN_0.5                      1.000000    0.794042   \n",
      "ADULT_KNN_0.8                      1.000000    0.792383   \n",
      "ADULT_Random Forest_0.2            1.000000    0.855689   \n",
      "ADULT_Random Forest_0.5            1.000000    0.857740   \n",
      "ADULT_Random Forest_0.8            1.000000    0.851658   \n",
      "LETTER_Logistic Regression_0.2     0.963875    0.963875   \n",
      "LETTER_Logistic Regression_0.5     0.963300    0.963300   \n",
      "LETTER_Logistic Regression_0.8     0.961500    0.961500   \n",
      "LETTER_KNN_0.2                     0.999953    0.992375   \n",
      "LETTER_KNN_0.5                     1.000000    0.989400   \n",
      "LETTER_KNN_0.8                     1.000000    0.981500   \n",
      "LETTER_Random Forest_0.2           1.000000    0.989812   \n",
      "LETTER_Random Forest_0.5           0.999925    0.986500   \n",
      "LETTER_Random Forest_0.8           1.000000    0.980750   \n",
      "\n",
      "                                                                     hyper-params  \n",
      "ADULT_Logistic Regression_0.2   {'mean_train_score': [0.797278073665, 0.799216...  \n",
      "ADULT_Logistic Regression_0.5   {'mean_train_score': [0.796913397257, 0.798280...  \n",
      "ADULT_Logistic Regression_0.8   {'mean_train_score': [0.794878777962, 0.795416...  \n",
      "ADULT_KNN_0.2                   {'mean_train_score': [0.999971207371, 0.867513...  \n",
      "ADULT_KNN_0.5                   {'mean_train_score': [1.0, 0.863298526331, 0.8...  \n",
      "ADULT_KNN_0.8                   {'mean_train_score': [1.0, 0.854077193282, 0.8...  \n",
      "ADULT_Random Forest_0.2         {'mean_train_score': [0.99997120691, 1.0, 1.0,...  \n",
      "ADULT_Random Forest_0.5         {'mean_train_score': [0.999969287469, 1.0, 1.0...  \n",
      "ADULT_Random Forest_0.8         {'mean_train_score': [0.999961612284, 1.0, 1.0...  \n",
      "LETTER_Logistic Regression_0.2  {'mean_train_score': [0.963875002265, 0.963875...  \n",
      "LETTER_Logistic Regression_0.5  {'mean_train_score': [0.963300005791, 0.963300...  \n",
      "LETTER_Logistic Regression_0.8  {'mean_train_score': [0.961500018024, 0.961500...  \n",
      "LETTER_KNN_0.2                  {'mean_train_score': [0.999953123779, 0.995937...  \n",
      "LETTER_KNN_0.5                  {'mean_train_score': [1.0, 0.994625024934, 0.9...  \n",
      "LETTER_KNN_0.8                  {'mean_train_score': [1.0, 0.9920625, 0.991562...  \n",
      "LETTER_Random Forest_0.2        {'mean_train_score': [1.0, 1.0, 1.0, 1.0, 1.0]...  \n",
      "LETTER_Random Forest_0.5        {'mean_train_score': [0.999925, 0.999925, 0.99...  \n",
      "LETTER_Random Forest_0.8        {'mean_train_score': [1.0, 1.0, 1.0, 1.0, 1.0]...  \n",
      "COV_TYPE_Logistic Regression_0.2\n",
      "                                  train_score  test_score  \\\n",
      "ADULT_Logistic Regression_0.2        0.799303    0.799332   \n",
      "ADULT_Logistic Regression_0.5        0.798480    0.798034   \n",
      "ADULT_Logistic Regression_0.8        0.795416    0.794380   \n",
      "ADULT_KNN_0.2                        0.999971    0.793535   \n",
      "ADULT_KNN_0.5                        1.000000    0.794042   \n",
      "ADULT_KNN_0.8                        1.000000    0.792383   \n",
      "ADULT_Random Forest_0.2              1.000000    0.855689   \n",
      "ADULT_Random Forest_0.5              1.000000    0.857740   \n",
      "ADULT_Random Forest_0.8              1.000000    0.851658   \n",
      "LETTER_Logistic Regression_0.2       0.963875    0.963875   \n",
      "LETTER_Logistic Regression_0.5       0.963300    0.963300   \n",
      "LETTER_Logistic Regression_0.8       0.961500    0.961500   \n",
      "LETTER_KNN_0.2                       0.999953    0.992375   \n",
      "LETTER_KNN_0.5                       1.000000    0.989400   \n",
      "LETTER_KNN_0.8                       1.000000    0.981500   \n",
      "LETTER_Random Forest_0.2             1.000000    0.989812   \n",
      "LETTER_Random Forest_0.5             0.999925    0.986500   \n",
      "LETTER_Random Forest_0.8             1.000000    0.980750   \n",
      "COV_TYPE_Logistic Regression_0.2     0.975872    0.975829   \n",
      "\n",
      "                                                                       hyper-params  \n",
      "ADULT_Logistic Regression_0.2     {'mean_train_score': [0.797278073665, 0.799216...  \n",
      "ADULT_Logistic Regression_0.5     {'mean_train_score': [0.796913397257, 0.798280...  \n",
      "ADULT_Logistic Regression_0.8     {'mean_train_score': [0.794878777962, 0.795416...  \n",
      "ADULT_KNN_0.2                     {'mean_train_score': [0.999971207371, 0.867513...  \n",
      "ADULT_KNN_0.5                     {'mean_train_score': [1.0, 0.863298526331, 0.8...  \n",
      "ADULT_KNN_0.8                     {'mean_train_score': [1.0, 0.854077193282, 0.8...  \n",
      "ADULT_Random Forest_0.2           {'mean_train_score': [0.99997120691, 1.0, 1.0,...  \n",
      "ADULT_Random Forest_0.5           {'mean_train_score': [0.999969287469, 1.0, 1.0...  \n",
      "ADULT_Random Forest_0.8           {'mean_train_score': [0.999961612284, 1.0, 1.0...  \n",
      "LETTER_Logistic Regression_0.2    {'mean_train_score': [0.963875002265, 0.963875...  \n",
      "LETTER_Logistic Regression_0.5    {'mean_train_score': [0.963300005791, 0.963300...  \n",
      "LETTER_Logistic Regression_0.8    {'mean_train_score': [0.961500018024, 0.961500...  \n",
      "LETTER_KNN_0.2                    {'mean_train_score': [0.999953123779, 0.995937...  \n",
      "LETTER_KNN_0.5                    {'mean_train_score': [1.0, 0.994625024934, 0.9...  \n",
      "LETTER_KNN_0.8                    {'mean_train_score': [1.0, 0.9920625, 0.991562...  \n",
      "LETTER_Random Forest_0.2          {'mean_train_score': [1.0, 1.0, 1.0, 1.0, 1.0]...  \n",
      "LETTER_Random Forest_0.5          {'mean_train_score': [0.999925, 0.999925, 0.99...  \n",
      "LETTER_Random Forest_0.8          {'mean_train_score': [1.0, 1.0, 1.0, 1.0, 1.0]...  \n",
      "COV_TYPE_Logistic Regression_0.2  {'mean_train_score': [0.964457981665, 0.972154...  \n",
      "COV_TYPE_Logistic Regression_0.5\n"
     ]
    },
    {
     "name": "stdout",
     "output_type": "stream",
     "text": [
      "                                  train_score  test_score  \\\n",
      "ADULT_Logistic Regression_0.2        0.799303    0.799332   \n",
      "ADULT_Logistic Regression_0.5        0.798480    0.798034   \n",
      "ADULT_Logistic Regression_0.8        0.795416    0.794380   \n",
      "ADULT_KNN_0.2                        0.999971    0.793535   \n",
      "ADULT_KNN_0.5                        1.000000    0.794042   \n",
      "ADULT_KNN_0.8                        1.000000    0.792383   \n",
      "ADULT_Random Forest_0.2              1.000000    0.855689   \n",
      "ADULT_Random Forest_0.5              1.000000    0.857740   \n",
      "ADULT_Random Forest_0.8              1.000000    0.851658   \n",
      "LETTER_Logistic Regression_0.2       0.963875    0.963875   \n",
      "LETTER_Logistic Regression_0.5       0.963300    0.963300   \n",
      "LETTER_Logistic Regression_0.8       0.961500    0.961500   \n",
      "LETTER_KNN_0.2                       0.999953    0.992375   \n",
      "LETTER_KNN_0.5                       1.000000    0.989400   \n",
      "LETTER_KNN_0.8                       1.000000    0.981500   \n",
      "LETTER_Random Forest_0.2             1.000000    0.989812   \n",
      "LETTER_Random Forest_0.5             0.999925    0.986500   \n",
      "LETTER_Random Forest_0.8             1.000000    0.980750   \n",
      "COV_TYPE_Logistic Regression_0.2     0.975872    0.975829   \n",
      "COV_TYPE_Logistic Regression_0.5     0.975885    0.975801   \n",
      "\n",
      "                                                                       hyper-params  \n",
      "ADULT_Logistic Regression_0.2     {'mean_train_score': [0.797278073665, 0.799216...  \n",
      "ADULT_Logistic Regression_0.5     {'mean_train_score': [0.796913397257, 0.798280...  \n",
      "ADULT_Logistic Regression_0.8     {'mean_train_score': [0.794878777962, 0.795416...  \n",
      "ADULT_KNN_0.2                     {'mean_train_score': [0.999971207371, 0.867513...  \n",
      "ADULT_KNN_0.5                     {'mean_train_score': [1.0, 0.863298526331, 0.8...  \n",
      "ADULT_KNN_0.8                     {'mean_train_score': [1.0, 0.854077193282, 0.8...  \n",
      "ADULT_Random Forest_0.2           {'mean_train_score': [0.99997120691, 1.0, 1.0,...  \n",
      "ADULT_Random Forest_0.5           {'mean_train_score': [0.999969287469, 1.0, 1.0...  \n",
      "ADULT_Random Forest_0.8           {'mean_train_score': [0.999961612284, 1.0, 1.0...  \n",
      "LETTER_Logistic Regression_0.2    {'mean_train_score': [0.963875002265, 0.963875...  \n",
      "LETTER_Logistic Regression_0.5    {'mean_train_score': [0.963300005791, 0.963300...  \n",
      "LETTER_Logistic Regression_0.8    {'mean_train_score': [0.961500018024, 0.961500...  \n",
      "LETTER_KNN_0.2                    {'mean_train_score': [0.999953123779, 0.995937...  \n",
      "LETTER_KNN_0.5                    {'mean_train_score': [1.0, 0.994625024934, 0.9...  \n",
      "LETTER_KNN_0.8                    {'mean_train_score': [1.0, 0.9920625, 0.991562...  \n",
      "LETTER_Random Forest_0.2          {'mean_train_score': [1.0, 1.0, 1.0, 1.0, 1.0]...  \n",
      "LETTER_Random Forest_0.5          {'mean_train_score': [0.999925, 0.999925, 0.99...  \n",
      "LETTER_Random Forest_0.8          {'mean_train_score': [1.0, 1.0, 1.0, 1.0, 1.0]...  \n",
      "COV_TYPE_Logistic Regression_0.2  {'mean_train_score': [0.964457981665, 0.972154...  \n",
      "COV_TYPE_Logistic Regression_0.5  {'mean_train_score': [0.964353576183, 0.970882...  \n",
      "COV_TYPE_Logistic Regression_0.8\n",
      "                                  train_score  test_score  \\\n",
      "ADULT_Logistic Regression_0.2        0.799303    0.799332   \n",
      "ADULT_Logistic Regression_0.5        0.798480    0.798034   \n",
      "ADULT_Logistic Regression_0.8        0.795416    0.794380   \n",
      "ADULT_KNN_0.2                        0.999971    0.793535   \n",
      "ADULT_KNN_0.5                        1.000000    0.794042   \n",
      "ADULT_KNN_0.8                        1.000000    0.792383   \n",
      "ADULT_Random Forest_0.2              1.000000    0.855689   \n",
      "ADULT_Random Forest_0.5              1.000000    0.857740   \n",
      "ADULT_Random Forest_0.8              1.000000    0.851658   \n",
      "LETTER_Logistic Regression_0.2       0.963875    0.963875   \n",
      "LETTER_Logistic Regression_0.5       0.963300    0.963300   \n",
      "LETTER_Logistic Regression_0.8       0.961500    0.961500   \n",
      "LETTER_KNN_0.2                       0.999953    0.992375   \n",
      "LETTER_KNN_0.5                       1.000000    0.989400   \n",
      "LETTER_KNN_0.8                       1.000000    0.981500   \n",
      "LETTER_Random Forest_0.2             1.000000    0.989812   \n",
      "LETTER_Random Forest_0.5             0.999925    0.986500   \n",
      "LETTER_Random Forest_0.8             1.000000    0.980750   \n",
      "COV_TYPE_Logistic Regression_0.2     0.975872    0.975829   \n",
      "COV_TYPE_Logistic Regression_0.5     0.975885    0.975801   \n",
      "COV_TYPE_Logistic Regression_0.8     0.976356    0.976093   \n",
      "\n",
      "                                                                       hyper-params  \n",
      "ADULT_Logistic Regression_0.2     {'mean_train_score': [0.797278073665, 0.799216...  \n",
      "ADULT_Logistic Regression_0.5     {'mean_train_score': [0.796913397257, 0.798280...  \n",
      "ADULT_Logistic Regression_0.8     {'mean_train_score': [0.794878777962, 0.795416...  \n",
      "ADULT_KNN_0.2                     {'mean_train_score': [0.999971207371, 0.867513...  \n",
      "ADULT_KNN_0.5                     {'mean_train_score': [1.0, 0.863298526331, 0.8...  \n",
      "ADULT_KNN_0.8                     {'mean_train_score': [1.0, 0.854077193282, 0.8...  \n",
      "ADULT_Random Forest_0.2           {'mean_train_score': [0.99997120691, 1.0, 1.0,...  \n",
      "ADULT_Random Forest_0.5           {'mean_train_score': [0.999969287469, 1.0, 1.0...  \n",
      "ADULT_Random Forest_0.8           {'mean_train_score': [0.999961612284, 1.0, 1.0...  \n",
      "LETTER_Logistic Regression_0.2    {'mean_train_score': [0.963875002265, 0.963875...  \n",
      "LETTER_Logistic Regression_0.5    {'mean_train_score': [0.963300005791, 0.963300...  \n",
      "LETTER_Logistic Regression_0.8    {'mean_train_score': [0.961500018024, 0.961500...  \n",
      "LETTER_KNN_0.2                    {'mean_train_score': [0.999953123779, 0.995937...  \n",
      "LETTER_KNN_0.5                    {'mean_train_score': [1.0, 0.994625024934, 0.9...  \n",
      "LETTER_KNN_0.8                    {'mean_train_score': [1.0, 0.9920625, 0.991562...  \n",
      "LETTER_Random Forest_0.2          {'mean_train_score': [1.0, 1.0, 1.0, 1.0, 1.0]...  \n",
      "LETTER_Random Forest_0.5          {'mean_train_score': [0.999925, 0.999925, 0.99...  \n",
      "LETTER_Random Forest_0.8          {'mean_train_score': [1.0, 1.0, 1.0, 1.0, 1.0]...  \n",
      "COV_TYPE_Logistic Regression_0.2  {'mean_train_score': [0.964457981665, 0.972154...  \n",
      "COV_TYPE_Logistic Regression_0.5  {'mean_train_score': [0.964353576183, 0.970882...  \n",
      "COV_TYPE_Logistic Regression_0.8  {'mean_train_score': [0.965198533618, 0.968337...  \n",
      "COV_TYPE_KNN_0.2\n",
      "                                  train_score  test_score  \\\n",
      "ADULT_Logistic Regression_0.2        0.799303    0.799332   \n",
      "ADULT_Logistic Regression_0.5        0.798480    0.798034   \n",
      "ADULT_Logistic Regression_0.8        0.795416    0.794380   \n",
      "ADULT_KNN_0.2                        0.999971    0.793535   \n",
      "ADULT_KNN_0.5                        1.000000    0.794042   \n",
      "ADULT_KNN_0.8                        1.000000    0.792383   \n",
      "ADULT_Random Forest_0.2              1.000000    0.855689   \n",
      "ADULT_Random Forest_0.5              1.000000    0.857740   \n",
      "ADULT_Random Forest_0.8              1.000000    0.851658   \n",
      "LETTER_Logistic Regression_0.2       0.963875    0.963875   \n",
      "LETTER_Logistic Regression_0.5       0.963300    0.963300   \n",
      "LETTER_Logistic Regression_0.8       0.961500    0.961500   \n",
      "LETTER_KNN_0.2                       0.999953    0.992375   \n",
      "LETTER_KNN_0.5                       1.000000    0.989400   \n",
      "LETTER_KNN_0.8                       1.000000    0.981500   \n",
      "LETTER_Random Forest_0.2             1.000000    0.989812   \n",
      "LETTER_Random Forest_0.5             0.999925    0.986500   \n",
      "LETTER_Random Forest_0.8             1.000000    0.980750   \n",
      "COV_TYPE_Logistic Regression_0.2     0.975872    0.975829   \n",
      "COV_TYPE_Logistic Regression_0.5     0.975885    0.975801   \n",
      "COV_TYPE_Logistic Regression_0.8     0.976356    0.976093   \n",
      "COV_TYPE_KNN_0.2                     1.000000    0.997724   \n",
      "\n",
      "                                                                       hyper-params  \n",
      "ADULT_Logistic Regression_0.2     {'mean_train_score': [0.797278073665, 0.799216...  \n",
      "ADULT_Logistic Regression_0.5     {'mean_train_score': [0.796913397257, 0.798280...  \n",
      "ADULT_Logistic Regression_0.8     {'mean_train_score': [0.794878777962, 0.795416...  \n",
      "ADULT_KNN_0.2                     {'mean_train_score': [0.999971207371, 0.867513...  \n",
      "ADULT_KNN_0.5                     {'mean_train_score': [1.0, 0.863298526331, 0.8...  \n",
      "ADULT_KNN_0.8                     {'mean_train_score': [1.0, 0.854077193282, 0.8...  \n",
      "ADULT_Random Forest_0.2           {'mean_train_score': [0.99997120691, 1.0, 1.0,...  \n",
      "ADULT_Random Forest_0.5           {'mean_train_score': [0.999969287469, 1.0, 1.0...  \n",
      "ADULT_Random Forest_0.8           {'mean_train_score': [0.999961612284, 1.0, 1.0...  \n",
      "LETTER_Logistic Regression_0.2    {'mean_train_score': [0.963875002265, 0.963875...  \n",
      "LETTER_Logistic Regression_0.5    {'mean_train_score': [0.963300005791, 0.963300...  \n",
      "LETTER_Logistic Regression_0.8    {'mean_train_score': [0.961500018024, 0.961500...  \n",
      "LETTER_KNN_0.2                    {'mean_train_score': [0.999953123779, 0.995937...  \n",
      "LETTER_KNN_0.5                    {'mean_train_score': [1.0, 0.994625024934, 0.9...  \n",
      "LETTER_KNN_0.8                    {'mean_train_score': [1.0, 0.9920625, 0.991562...  \n",
      "LETTER_Random Forest_0.2          {'mean_train_score': [1.0, 1.0, 1.0, 1.0, 1.0]...  \n",
      "LETTER_Random Forest_0.5          {'mean_train_score': [0.999925, 0.999925, 0.99...  \n",
      "LETTER_Random Forest_0.8          {'mean_train_score': [1.0, 1.0, 1.0, 1.0, 1.0]...  \n",
      "COV_TYPE_Logistic Regression_0.2  {'mean_train_score': [0.964457981665, 0.972154...  \n",
      "COV_TYPE_Logistic Regression_0.5  {'mean_train_score': [0.964353576183, 0.970882...  \n",
      "COV_TYPE_Logistic Regression_0.8  {'mean_train_score': [0.965198533618, 0.968337...  \n",
      "COV_TYPE_KNN_0.2                  {'mean_train_score': [1.0, 0.998644604542, 0.9...  \n",
      "COV_TYPE_KNN_0.5\n"
     ]
    },
    {
     "name": "stdout",
     "output_type": "stream",
     "text": [
      "                                  train_score  test_score  \\\n",
      "ADULT_Logistic Regression_0.2        0.799303    0.799332   \n",
      "ADULT_Logistic Regression_0.5        0.798480    0.798034   \n",
      "ADULT_Logistic Regression_0.8        0.795416    0.794380   \n",
      "ADULT_KNN_0.2                        0.999971    0.793535   \n",
      "ADULT_KNN_0.5                        1.000000    0.794042   \n",
      "ADULT_KNN_0.8                        1.000000    0.792383   \n",
      "ADULT_Random Forest_0.2              1.000000    0.855689   \n",
      "ADULT_Random Forest_0.5              1.000000    0.857740   \n",
      "ADULT_Random Forest_0.8              1.000000    0.851658   \n",
      "LETTER_Logistic Regression_0.2       0.963875    0.963875   \n",
      "LETTER_Logistic Regression_0.5       0.963300    0.963300   \n",
      "LETTER_Logistic Regression_0.8       0.961500    0.961500   \n",
      "LETTER_KNN_0.2                       0.999953    0.992375   \n",
      "LETTER_KNN_0.5                       1.000000    0.989400   \n",
      "LETTER_KNN_0.8                       1.000000    0.981500   \n",
      "LETTER_Random Forest_0.2             1.000000    0.989812   \n",
      "LETTER_Random Forest_0.5             0.999925    0.986500   \n",
      "LETTER_Random Forest_0.8             1.000000    0.980750   \n",
      "COV_TYPE_Logistic Regression_0.2     0.975872    0.975829   \n",
      "COV_TYPE_Logistic Regression_0.5     0.975885    0.975801   \n",
      "COV_TYPE_Logistic Regression_0.8     0.976356    0.976093   \n",
      "COV_TYPE_KNN_0.2                     1.000000    0.997724   \n",
      "COV_TYPE_KNN_0.5                     1.000000    0.997143   \n",
      "\n",
      "                                                                       hyper-params  \n",
      "ADULT_Logistic Regression_0.2     {'mean_train_score': [0.797278073665, 0.799216...  \n",
      "ADULT_Logistic Regression_0.5     {'mean_train_score': [0.796913397257, 0.798280...  \n",
      "ADULT_Logistic Regression_0.8     {'mean_train_score': [0.794878777962, 0.795416...  \n",
      "ADULT_KNN_0.2                     {'mean_train_score': [0.999971207371, 0.867513...  \n",
      "ADULT_KNN_0.5                     {'mean_train_score': [1.0, 0.863298526331, 0.8...  \n",
      "ADULT_KNN_0.8                     {'mean_train_score': [1.0, 0.854077193282, 0.8...  \n",
      "ADULT_Random Forest_0.2           {'mean_train_score': [0.99997120691, 1.0, 1.0,...  \n",
      "ADULT_Random Forest_0.5           {'mean_train_score': [0.999969287469, 1.0, 1.0...  \n",
      "ADULT_Random Forest_0.8           {'mean_train_score': [0.999961612284, 1.0, 1.0...  \n",
      "LETTER_Logistic Regression_0.2    {'mean_train_score': [0.963875002265, 0.963875...  \n",
      "LETTER_Logistic Regression_0.5    {'mean_train_score': [0.963300005791, 0.963300...  \n",
      "LETTER_Logistic Regression_0.8    {'mean_train_score': [0.961500018024, 0.961500...  \n",
      "LETTER_KNN_0.2                    {'mean_train_score': [0.999953123779, 0.995937...  \n",
      "LETTER_KNN_0.5                    {'mean_train_score': [1.0, 0.994625024934, 0.9...  \n",
      "LETTER_KNN_0.8                    {'mean_train_score': [1.0, 0.9920625, 0.991562...  \n",
      "LETTER_Random Forest_0.2          {'mean_train_score': [1.0, 1.0, 1.0, 1.0, 1.0]...  \n",
      "LETTER_Random Forest_0.5          {'mean_train_score': [0.999925, 0.999925, 0.99...  \n",
      "LETTER_Random Forest_0.8          {'mean_train_score': [1.0, 1.0, 1.0, 1.0, 1.0]...  \n",
      "COV_TYPE_Logistic Regression_0.2  {'mean_train_score': [0.964457981665, 0.972154...  \n",
      "COV_TYPE_Logistic Regression_0.5  {'mean_train_score': [0.964353576183, 0.970882...  \n",
      "COV_TYPE_Logistic Regression_0.8  {'mean_train_score': [0.965198533618, 0.968337...  \n",
      "COV_TYPE_KNN_0.2                  {'mean_train_score': [1.0, 0.998644604542, 0.9...  \n",
      "COV_TYPE_KNN_0.5                  {'mean_train_score': [1.0, 0.998489704331, 0.9...  \n",
      "COV_TYPE_KNN_0.8\n",
      "                                  train_score  test_score  \\\n",
      "ADULT_Logistic Regression_0.2        0.799303    0.799332   \n",
      "ADULT_Logistic Regression_0.5        0.798480    0.798034   \n",
      "ADULT_Logistic Regression_0.8        0.795416    0.794380   \n",
      "ADULT_KNN_0.2                        0.999971    0.793535   \n",
      "ADULT_KNN_0.5                        1.000000    0.794042   \n",
      "ADULT_KNN_0.8                        1.000000    0.792383   \n",
      "ADULT_Random Forest_0.2              1.000000    0.855689   \n",
      "ADULT_Random Forest_0.5              1.000000    0.857740   \n",
      "ADULT_Random Forest_0.8              1.000000    0.851658   \n",
      "LETTER_Logistic Regression_0.2       0.963875    0.963875   \n",
      "LETTER_Logistic Regression_0.5       0.963300    0.963300   \n",
      "LETTER_Logistic Regression_0.8       0.961500    0.961500   \n",
      "LETTER_KNN_0.2                       0.999953    0.992375   \n",
      "LETTER_KNN_0.5                       1.000000    0.989400   \n",
      "LETTER_KNN_0.8                       1.000000    0.981500   \n",
      "LETTER_Random Forest_0.2             1.000000    0.989812   \n",
      "LETTER_Random Forest_0.5             0.999925    0.986500   \n",
      "LETTER_Random Forest_0.8             1.000000    0.980750   \n",
      "COV_TYPE_Logistic Regression_0.2     0.975872    0.975829   \n",
      "COV_TYPE_Logistic Regression_0.5     0.975885    0.975801   \n",
      "COV_TYPE_Logistic Regression_0.8     0.976356    0.976093   \n",
      "COV_TYPE_KNN_0.2                     1.000000    0.997724   \n",
      "COV_TYPE_KNN_0.5                     1.000000    0.997143   \n",
      "COV_TYPE_KNN_0.8                     1.000000    0.995516   \n",
      "\n",
      "                                                                       hyper-params  \n",
      "ADULT_Logistic Regression_0.2     {'mean_train_score': [0.797278073665, 0.799216...  \n",
      "ADULT_Logistic Regression_0.5     {'mean_train_score': [0.796913397257, 0.798280...  \n",
      "ADULT_Logistic Regression_0.8     {'mean_train_score': [0.794878777962, 0.795416...  \n",
      "ADULT_KNN_0.2                     {'mean_train_score': [0.999971207371, 0.867513...  \n",
      "ADULT_KNN_0.5                     {'mean_train_score': [1.0, 0.863298526331, 0.8...  \n",
      "ADULT_KNN_0.8                     {'mean_train_score': [1.0, 0.854077193282, 0.8...  \n",
      "ADULT_Random Forest_0.2           {'mean_train_score': [0.99997120691, 1.0, 1.0,...  \n",
      "ADULT_Random Forest_0.5           {'mean_train_score': [0.999969287469, 1.0, 1.0...  \n",
      "ADULT_Random Forest_0.8           {'mean_train_score': [0.999961612284, 1.0, 1.0...  \n",
      "LETTER_Logistic Regression_0.2    {'mean_train_score': [0.963875002265, 0.963875...  \n",
      "LETTER_Logistic Regression_0.5    {'mean_train_score': [0.963300005791, 0.963300...  \n",
      "LETTER_Logistic Regression_0.8    {'mean_train_score': [0.961500018024, 0.961500...  \n",
      "LETTER_KNN_0.2                    {'mean_train_score': [0.999953123779, 0.995937...  \n",
      "LETTER_KNN_0.5                    {'mean_train_score': [1.0, 0.994625024934, 0.9...  \n",
      "LETTER_KNN_0.8                    {'mean_train_score': [1.0, 0.9920625, 0.991562...  \n",
      "LETTER_Random Forest_0.2          {'mean_train_score': [1.0, 1.0, 1.0, 1.0, 1.0]...  \n",
      "LETTER_Random Forest_0.5          {'mean_train_score': [0.999925, 0.999925, 0.99...  \n",
      "LETTER_Random Forest_0.8          {'mean_train_score': [1.0, 1.0, 1.0, 1.0, 1.0]...  \n",
      "COV_TYPE_Logistic Regression_0.2  {'mean_train_score': [0.964457981665, 0.972154...  \n",
      "COV_TYPE_Logistic Regression_0.5  {'mean_train_score': [0.964353576183, 0.970882...  \n",
      "COV_TYPE_Logistic Regression_0.8  {'mean_train_score': [0.965198533618, 0.968337...  \n",
      "COV_TYPE_KNN_0.2                  {'mean_train_score': [1.0, 0.998644604542, 0.9...  \n",
      "COV_TYPE_KNN_0.5                  {'mean_train_score': [1.0, 0.998489704331, 0.9...  \n",
      "COV_TYPE_KNN_0.8                  {'mean_train_score': [1.0, 0.997663551943, 0.9...  \n",
      "COV_TYPE_Random Forest_0.2\n",
      "                                  train_score  test_score  \\\n",
      "ADULT_Logistic Regression_0.2        0.799303    0.799332   \n",
      "ADULT_Logistic Regression_0.5        0.798480    0.798034   \n",
      "ADULT_Logistic Regression_0.8        0.795416    0.794380   \n",
      "ADULT_KNN_0.2                        0.999971    0.793535   \n",
      "ADULT_KNN_0.5                        1.000000    0.794042   \n",
      "ADULT_KNN_0.8                        1.000000    0.792383   \n",
      "ADULT_Random Forest_0.2              1.000000    0.855689   \n",
      "ADULT_Random Forest_0.5              1.000000    0.857740   \n",
      "ADULT_Random Forest_0.8              1.000000    0.851658   \n",
      "LETTER_Logistic Regression_0.2       0.963875    0.963875   \n",
      "LETTER_Logistic Regression_0.5       0.963300    0.963300   \n",
      "LETTER_Logistic Regression_0.8       0.961500    0.961500   \n",
      "LETTER_KNN_0.2                       0.999953    0.992375   \n",
      "LETTER_KNN_0.5                       1.000000    0.989400   \n",
      "LETTER_KNN_0.8                       1.000000    0.981500   \n",
      "LETTER_Random Forest_0.2             1.000000    0.989812   \n",
      "LETTER_Random Forest_0.5             0.999925    0.986500   \n",
      "LETTER_Random Forest_0.8             1.000000    0.980750   \n",
      "COV_TYPE_Logistic Regression_0.2     0.975872    0.975829   \n",
      "COV_TYPE_Logistic Regression_0.5     0.975885    0.975801   \n",
      "COV_TYPE_Logistic Regression_0.8     0.976356    0.976093   \n",
      "COV_TYPE_KNN_0.2                     1.000000    0.997724   \n",
      "COV_TYPE_KNN_0.5                     1.000000    0.997143   \n",
      "COV_TYPE_KNN_0.8                     1.000000    0.995516   \n",
      "COV_TYPE_Random Forest_0.2           1.000000    0.996876   \n",
      "\n",
      "                                                                       hyper-params  \n",
      "ADULT_Logistic Regression_0.2     {'mean_train_score': [0.797278073665, 0.799216...  \n",
      "ADULT_Logistic Regression_0.5     {'mean_train_score': [0.796913397257, 0.798280...  \n",
      "ADULT_Logistic Regression_0.8     {'mean_train_score': [0.794878777962, 0.795416...  \n",
      "ADULT_KNN_0.2                     {'mean_train_score': [0.999971207371, 0.867513...  \n",
      "ADULT_KNN_0.5                     {'mean_train_score': [1.0, 0.863298526331, 0.8...  \n",
      "ADULT_KNN_0.8                     {'mean_train_score': [1.0, 0.854077193282, 0.8...  \n",
      "ADULT_Random Forest_0.2           {'mean_train_score': [0.99997120691, 1.0, 1.0,...  \n",
      "ADULT_Random Forest_0.5           {'mean_train_score': [0.999969287469, 1.0, 1.0...  \n",
      "ADULT_Random Forest_0.8           {'mean_train_score': [0.999961612284, 1.0, 1.0...  \n",
      "LETTER_Logistic Regression_0.2    {'mean_train_score': [0.963875002265, 0.963875...  \n",
      "LETTER_Logistic Regression_0.5    {'mean_train_score': [0.963300005791, 0.963300...  \n",
      "LETTER_Logistic Regression_0.8    {'mean_train_score': [0.961500018024, 0.961500...  \n",
      "LETTER_KNN_0.2                    {'mean_train_score': [0.999953123779, 0.995937...  \n",
      "LETTER_KNN_0.5                    {'mean_train_score': [1.0, 0.994625024934, 0.9...  \n",
      "LETTER_KNN_0.8                    {'mean_train_score': [1.0, 0.9920625, 0.991562...  \n",
      "LETTER_Random Forest_0.2          {'mean_train_score': [1.0, 1.0, 1.0, 1.0, 1.0]...  \n",
      "LETTER_Random Forest_0.5          {'mean_train_score': [0.999925, 0.999925, 0.99...  \n",
      "LETTER_Random Forest_0.8          {'mean_train_score': [1.0, 1.0, 1.0, 1.0, 1.0]...  \n",
      "COV_TYPE_Logistic Regression_0.2  {'mean_train_score': [0.964457981665, 0.972154...  \n",
      "COV_TYPE_Logistic Regression_0.5  {'mean_train_score': [0.964353576183, 0.970882...  \n",
      "COV_TYPE_Logistic Regression_0.8  {'mean_train_score': [0.965198533618, 0.968337...  \n",
      "COV_TYPE_KNN_0.2                  {'mean_train_score': [1.0, 0.998644604542, 0.9...  \n",
      "COV_TYPE_KNN_0.5                  {'mean_train_score': [1.0, 0.998489704331, 0.9...  \n",
      "COV_TYPE_KNN_0.8                  {'mean_train_score': [1.0, 0.997663551943, 0.9...  \n",
      "COV_TYPE_Random Forest_0.2        {'mean_train_score': [0.999999462144, 1.0, 1.0...  \n",
      "COV_TYPE_Random Forest_0.5\n"
     ]
    },
    {
     "name": "stdout",
     "output_type": "stream",
     "text": [
      "                                  train_score  test_score  \\\n",
      "ADULT_Logistic Regression_0.2        0.799303    0.799332   \n",
      "ADULT_Logistic Regression_0.5        0.798480    0.798034   \n",
      "ADULT_Logistic Regression_0.8        0.795416    0.794380   \n",
      "ADULT_KNN_0.2                        0.999971    0.793535   \n",
      "ADULT_KNN_0.5                        1.000000    0.794042   \n",
      "ADULT_KNN_0.8                        1.000000    0.792383   \n",
      "ADULT_Random Forest_0.2              1.000000    0.855689   \n",
      "ADULT_Random Forest_0.5              1.000000    0.857740   \n",
      "ADULT_Random Forest_0.8              1.000000    0.851658   \n",
      "LETTER_Logistic Regression_0.2       0.963875    0.963875   \n",
      "LETTER_Logistic Regression_0.5       0.963300    0.963300   \n",
      "LETTER_Logistic Regression_0.8       0.961500    0.961500   \n",
      "LETTER_KNN_0.2                       0.999953    0.992375   \n",
      "LETTER_KNN_0.5                       1.000000    0.989400   \n",
      "LETTER_KNN_0.8                       1.000000    0.981500   \n",
      "LETTER_Random Forest_0.2             1.000000    0.989812   \n",
      "LETTER_Random Forest_0.5             0.999925    0.986500   \n",
      "LETTER_Random Forest_0.8             1.000000    0.980750   \n",
      "COV_TYPE_Logistic Regression_0.2     0.975872    0.975829   \n",
      "COV_TYPE_Logistic Regression_0.5     0.975885    0.975801   \n",
      "COV_TYPE_Logistic Regression_0.8     0.976356    0.976093   \n",
      "COV_TYPE_KNN_0.2                     1.000000    0.997724   \n",
      "COV_TYPE_KNN_0.5                     1.000000    0.997143   \n",
      "COV_TYPE_KNN_0.8                     1.000000    0.995516   \n",
      "COV_TYPE_Random Forest_0.2           1.000000    0.996876   \n",
      "COV_TYPE_Random Forest_0.5           1.000000    0.996035   \n",
      "\n",
      "                                                                       hyper-params  \n",
      "ADULT_Logistic Regression_0.2     {'mean_train_score': [0.797278073665, 0.799216...  \n",
      "ADULT_Logistic Regression_0.5     {'mean_train_score': [0.796913397257, 0.798280...  \n",
      "ADULT_Logistic Regression_0.8     {'mean_train_score': [0.794878777962, 0.795416...  \n",
      "ADULT_KNN_0.2                     {'mean_train_score': [0.999971207371, 0.867513...  \n",
      "ADULT_KNN_0.5                     {'mean_train_score': [1.0, 0.863298526331, 0.8...  \n",
      "ADULT_KNN_0.8                     {'mean_train_score': [1.0, 0.854077193282, 0.8...  \n",
      "ADULT_Random Forest_0.2           {'mean_train_score': [0.99997120691, 1.0, 1.0,...  \n",
      "ADULT_Random Forest_0.5           {'mean_train_score': [0.999969287469, 1.0, 1.0...  \n",
      "ADULT_Random Forest_0.8           {'mean_train_score': [0.999961612284, 1.0, 1.0...  \n",
      "LETTER_Logistic Regression_0.2    {'mean_train_score': [0.963875002265, 0.963875...  \n",
      "LETTER_Logistic Regression_0.5    {'mean_train_score': [0.963300005791, 0.963300...  \n",
      "LETTER_Logistic Regression_0.8    {'mean_train_score': [0.961500018024, 0.961500...  \n",
      "LETTER_KNN_0.2                    {'mean_train_score': [0.999953123779, 0.995937...  \n",
      "LETTER_KNN_0.5                    {'mean_train_score': [1.0, 0.994625024934, 0.9...  \n",
      "LETTER_KNN_0.8                    {'mean_train_score': [1.0, 0.9920625, 0.991562...  \n",
      "LETTER_Random Forest_0.2          {'mean_train_score': [1.0, 1.0, 1.0, 1.0, 1.0]...  \n",
      "LETTER_Random Forest_0.5          {'mean_train_score': [0.999925, 0.999925, 0.99...  \n",
      "LETTER_Random Forest_0.8          {'mean_train_score': [1.0, 1.0, 1.0, 1.0, 1.0]...  \n",
      "COV_TYPE_Logistic Regression_0.2  {'mean_train_score': [0.964457981665, 0.972154...  \n",
      "COV_TYPE_Logistic Regression_0.5  {'mean_train_score': [0.964353576183, 0.970882...  \n",
      "COV_TYPE_Logistic Regression_0.8  {'mean_train_score': [0.965198533618, 0.968337...  \n",
      "COV_TYPE_KNN_0.2                  {'mean_train_score': [1.0, 0.998644604542, 0.9...  \n",
      "COV_TYPE_KNN_0.5                  {'mean_train_score': [1.0, 0.998489704331, 0.9...  \n",
      "COV_TYPE_KNN_0.8                  {'mean_train_score': [1.0, 0.997663551943, 0.9...  \n",
      "COV_TYPE_Random Forest_0.2        {'mean_train_score': [0.999999462144, 1.0, 1.0...  \n",
      "COV_TYPE_Random Forest_0.5        {'mean_train_score': [0.99999655773, 1.0, 1.0,...  \n",
      "COV_TYPE_Random Forest_0.8\n",
      "                                  train_score  test_score  \\\n",
      "ADULT_Logistic Regression_0.2        0.799303    0.799332   \n",
      "ADULT_Logistic Regression_0.5        0.798480    0.798034   \n",
      "ADULT_Logistic Regression_0.8        0.795416    0.794380   \n",
      "ADULT_KNN_0.2                        0.999971    0.793535   \n",
      "ADULT_KNN_0.5                        1.000000    0.794042   \n",
      "ADULT_KNN_0.8                        1.000000    0.792383   \n",
      "ADULT_Random Forest_0.2              1.000000    0.855689   \n",
      "ADULT_Random Forest_0.5              1.000000    0.857740   \n",
      "ADULT_Random Forest_0.8              1.000000    0.851658   \n",
      "LETTER_Logistic Regression_0.2       0.963875    0.963875   \n",
      "LETTER_Logistic Regression_0.5       0.963300    0.963300   \n",
      "LETTER_Logistic Regression_0.8       0.961500    0.961500   \n",
      "LETTER_KNN_0.2                       0.999953    0.992375   \n",
      "LETTER_KNN_0.5                       1.000000    0.989400   \n",
      "LETTER_KNN_0.8                       1.000000    0.981500   \n",
      "LETTER_Random Forest_0.2             1.000000    0.989812   \n",
      "LETTER_Random Forest_0.5             0.999925    0.986500   \n",
      "LETTER_Random Forest_0.8             1.000000    0.980750   \n",
      "COV_TYPE_Logistic Regression_0.2     0.975872    0.975829   \n",
      "COV_TYPE_Logistic Regression_0.5     0.975885    0.975801   \n",
      "COV_TYPE_Logistic Regression_0.8     0.976356    0.976093   \n",
      "COV_TYPE_KNN_0.2                     1.000000    0.997724   \n",
      "COV_TYPE_KNN_0.5                     1.000000    0.997143   \n",
      "COV_TYPE_KNN_0.8                     1.000000    0.995516   \n",
      "COV_TYPE_Random Forest_0.2           1.000000    0.996876   \n",
      "COV_TYPE_Random Forest_0.5           1.000000    0.996035   \n",
      "COV_TYPE_Random Forest_0.8           1.000000    0.993597   \n",
      "\n",
      "                                                                       hyper-params  \n",
      "ADULT_Logistic Regression_0.2     {'mean_train_score': [0.797278073665, 0.799216...  \n",
      "ADULT_Logistic Regression_0.5     {'mean_train_score': [0.796913397257, 0.798280...  \n",
      "ADULT_Logistic Regression_0.8     {'mean_train_score': [0.794878777962, 0.795416...  \n",
      "ADULT_KNN_0.2                     {'mean_train_score': [0.999971207371, 0.867513...  \n",
      "ADULT_KNN_0.5                     {'mean_train_score': [1.0, 0.863298526331, 0.8...  \n",
      "ADULT_KNN_0.8                     {'mean_train_score': [1.0, 0.854077193282, 0.8...  \n",
      "ADULT_Random Forest_0.2           {'mean_train_score': [0.99997120691, 1.0, 1.0,...  \n",
      "ADULT_Random Forest_0.5           {'mean_train_score': [0.999969287469, 1.0, 1.0...  \n",
      "ADULT_Random Forest_0.8           {'mean_train_score': [0.999961612284, 1.0, 1.0...  \n",
      "LETTER_Logistic Regression_0.2    {'mean_train_score': [0.963875002265, 0.963875...  \n",
      "LETTER_Logistic Regression_0.5    {'mean_train_score': [0.963300005791, 0.963300...  \n",
      "LETTER_Logistic Regression_0.8    {'mean_train_score': [0.961500018024, 0.961500...  \n",
      "LETTER_KNN_0.2                    {'mean_train_score': [0.999953123779, 0.995937...  \n",
      "LETTER_KNN_0.5                    {'mean_train_score': [1.0, 0.994625024934, 0.9...  \n",
      "LETTER_KNN_0.8                    {'mean_train_score': [1.0, 0.9920625, 0.991562...  \n",
      "LETTER_Random Forest_0.2          {'mean_train_score': [1.0, 1.0, 1.0, 1.0, 1.0]...  \n",
      "LETTER_Random Forest_0.5          {'mean_train_score': [0.999925, 0.999925, 0.99...  \n",
      "LETTER_Random Forest_0.8          {'mean_train_score': [1.0, 1.0, 1.0, 1.0, 1.0]...  \n",
      "COV_TYPE_Logistic Regression_0.2  {'mean_train_score': [0.964457981665, 0.972154...  \n",
      "COV_TYPE_Logistic Regression_0.5  {'mean_train_score': [0.964353576183, 0.970882...  \n",
      "COV_TYPE_Logistic Regression_0.8  {'mean_train_score': [0.965198533618, 0.968337...  \n",
      "COV_TYPE_KNN_0.2                  {'mean_train_score': [1.0, 0.998644604542, 0.9...  \n",
      "COV_TYPE_KNN_0.5                  {'mean_train_score': [1.0, 0.998489704331, 0.9...  \n",
      "COV_TYPE_KNN_0.8                  {'mean_train_score': [1.0, 0.997663551943, 0.9...  \n",
      "COV_TYPE_Random Forest_0.2        {'mean_train_score': [0.999999462144, 1.0, 1.0...  \n",
      "COV_TYPE_Random Forest_0.5        {'mean_train_score': [0.99999655773, 1.0, 1.0,...  \n",
      "COV_TYPE_Random Forest_0.8        {'mean_train_score': [1.0, 1.0, 1.0, 1.0, 1.0]...  \n"
     ]
    }
   ],
   "source": [
    "results = pd.DataFrame(columns = ['train_score', 'test_score', 'hyper-params'])\n",
    "for df, clf, split in itertools.product(*search_space_elements):\n",
    "    training_scores = []\n",
    "    testing_scores = []\n",
    "    key = df[0] + '_' + clf[0] + '_' + str(split)\n",
    "    print(key)\n",
    "    for i in range(n_trials): \n",
    "        data = df[1].sample(frac=1) # Shuffle the data.\n",
    "        X, Y = get_X_and_Y(data)\n",
    "        X_train, X_test, Y_train, Y_test = train_test_split(X, Y, test_size=split)\n",
    "        clf[1].fit(X_train, Y_train.reshape(-1, ))\n",
    "        train_score = max(clf[1].cv_results_['mean_train_score'])\n",
    "        test_score = max(clf[1].cv_results_['mean_test_score'])\n",
    "        training_scores.append(train_score)\n",
    "        testing_scores.append(test_score)\n",
    "    results.loc[key] = [np.array(training_scores).mean(), np.array(testing_scores).mean(), clf[1].cv_results_]\n",
    "    print(results)\n"
   ]
  },
  {
   "cell_type": "code",
   "execution_count": null,
   "metadata": {},
   "outputs": [],
   "source": []
  },
  {
   "cell_type": "code",
   "execution_count": 37,
   "metadata": {},
   "outputs": [
    {
     "data": {
      "text/plain": [
       "20510"
      ]
     },
     "execution_count": 37,
     "metadata": {},
     "output_type": "execute_result"
    }
   ],
   "source": [
    "len(df_covtype[df_covtype[54] == 1])"
   ]
  },
  {
   "cell_type": "code",
   "execution_count": 38,
   "metadata": {},
   "outputs": [
    {
     "ename": "IndentationError",
     "evalue": "unindent does not match any outer indentation level (<tokenize>, line 10)",
     "output_type": "error",
     "traceback": [
      "\u001b[0;36m  File \u001b[0;32m\"<tokenize>\"\u001b[0;36m, line \u001b[0;32m10\u001b[0m\n\u001b[0;31m    for split in splits:\u001b[0m\n\u001b[0m    ^\u001b[0m\n\u001b[0;31mIndentationError\u001b[0m\u001b[0;31m:\u001b[0m unindent does not match any outer indentation level\n"
     ]
    }
   ],
   "source": [
    " for df_name, df in zip(df_names, dfs):\n",
    "    print(\"Dataset: \" + df_name)\n",
    "    print(\"...\")\n",
    "    df = df.sample(frac=1) # Shuffle the data\n",
    "    X, Y = get_X_and_Y(df_covtype)\n",
    "    for name, clf in zip(clf_names, clfs):\n",
    "            print(\"\\t \\t Running Classifier: \" + name)\n",
    "            print(run_clf(clf, X_train, Y_train, X_test, Y_test))\n",
    "            print(\"...\")\n",
    "        for split in splits:\n",
    "            print(\"\\t Test Split: \" + str(split))\n",
    "            X_train, X_test, Y_train, Y_test = train_test_split(X, Y, test_size=split)\n"
   ]
  },
  {
   "cell_type": "markdown",
   "metadata": {
    "heading_collapsed": true
   },
   "source": [
    "## Logistic Regression"
   ]
  },
  {
   "cell_type": "code",
   "execution_count": null,
   "metadata": {
    "hidden": true
   },
   "outputs": [],
   "source": [
    "param_grid = {'C': [10e-8, 10e-7, 10e-6, 10e-5, 10e-4, 10e-3, 10e-2, 10e-1, 1, 10e1, 10e2, 10e3, 10e4]}\n",
    "#param_grid = {'C': [10e-8, 10e4]}\n",
    "clf = GridSearchCV(LogisticRegression(), param_grid, cv=5, scoring='accuracy')\n",
    "clf"
   ]
  },
  {
   "cell_type": "markdown",
   "metadata": {
    "hidden": true
   },
   "source": [
    "\n",
    "## ADULT Dataset"
   ]
  },
  {
   "cell_type": "code",
   "execution_count": null,
   "metadata": {
    "hidden": true
   },
   "outputs": [],
   "source": [
    "run_clf(clf, adult_X_train, adult_Y_train, adult_X_test, adult_Y_test)"
   ]
  },
  {
   "cell_type": "code",
   "execution_count": null,
   "metadata": {
    "hidden": true
   },
   "outputs": [],
   "source": [
    "clf.cv_results_\n",
    "#[d['value'] for d in l]\n",
    "p = clf.cv_results_['params']\n",
    "print([list(d.values())[0] for d in p])\n",
    "plt.semilogx([list(d.values())[0] for d in p], clf.cv_results_['mean_train_score'], 'g', label='train')\n",
    "plt.semilogx([list(d.values())[0] for d in p], clf.cv_results_['mean_test_score'], 'r', label='test')\n",
    "plt.legend(loc = 'upper right')\n",
    "plt.show()"
   ]
  },
  {
   "cell_type": "markdown",
   "metadata": {
    "hidden": true
   },
   "source": [
    "### LETTER Dataset"
   ]
  },
  {
   "cell_type": "code",
   "execution_count": null,
   "metadata": {
    "hidden": true
   },
   "outputs": [],
   "source": [
    "run_clf(clf, letter_X_train, letter_Y_train, letter_X_test, letter_Y_test)"
   ]
  },
  {
   "cell_type": "markdown",
   "metadata": {
    "hidden": true
   },
   "source": [
    "### COV_TYPE Dataset"
   ]
  },
  {
   "cell_type": "code",
   "execution_count": null,
   "metadata": {
    "hidden": true
   },
   "outputs": [],
   "source": [
    "run_clf(clf, covtype_X_train, covtype_Y_train, covtype_X_test, covtype_Y_test)"
   ]
  },
  {
   "cell_type": "code",
   "execution_count": null,
   "metadata": {
    "collapsed": true,
    "hidden": true
   },
   "outputs": [],
   "source": [
    "#clf.fit(covtype_X_train, covtype_Y_train.reshape(-1, ))"
   ]
  },
  {
   "cell_type": "code",
   "execution_count": null,
   "metadata": {
    "collapsed": true,
    "hidden": true
   },
   "outputs": [],
   "source": [
    "#results(clf, covtype_X_test, covtype_Y_test, \"COV_TYPE\")"
   ]
  },
  {
   "cell_type": "markdown",
   "metadata": {},
   "source": [
    "## KNN"
   ]
  },
  {
   "cell_type": "code",
   "execution_count": null,
   "metadata": {
    "collapsed": true
   },
   "outputs": [],
   "source": [
    "k = np.arange(5) + 1\n",
    "parameters = {'n_neighbors': k}\n",
    "knn = neighbors.KNeighborsClassifier()\n",
    "knn = GridSearchCV(knn,parameters,cv=5)\n",
    "#clf = neighbors.KNeighborsClassifier(3)"
   ]
  },
  {
   "cell_type": "markdown",
   "metadata": {},
   "source": [
    "### Adult"
   ]
  },
  {
   "cell_type": "code",
   "execution_count": null,
   "metadata": {},
   "outputs": [],
   "source": [
    "run_clf(knn, adult_X_train, adult_Y_train, adult_X_test, adult_Y_test)"
   ]
  },
  {
   "cell_type": "code",
   "execution_count": null,
   "metadata": {},
   "outputs": [],
   "source": [
    "knn.cv_results_['mean_train_score']"
   ]
  },
  {
   "cell_type": "code",
   "execution_count": null,
   "metadata": {},
   "outputs": [],
   "source": [
    "knn.cv_results_\n",
    "#[d['value'] for d in l]\n",
    "p = knn.cv_results_['params']\n",
    "print([list(d.values())[0] for d in p])\n",
    "plt.plot([list(d.values())[0] for d in p], knn.cv_results_['mean_train_score'], 'g', label='train')\n",
    "plt.plot([list(d.values())[0] for d in p], knn.cv_results_['mean_test_score'], 'r', label='test')\n",
    "plt.legend(loc = 'upper right')\n",
    "plt.show()"
   ]
  },
  {
   "cell_type": "markdown",
   "metadata": {},
   "source": [
    "### LETTER"
   ]
  },
  {
   "cell_type": "code",
   "execution_count": null,
   "metadata": {},
   "outputs": [],
   "source": [
    "run_clf(clf, letter_X_train, letter_Y_train, letter_X_test, letter_Y_test)"
   ]
  },
  {
   "cell_type": "markdown",
   "metadata": {},
   "source": [
    "### COV_TYPE"
   ]
  },
  {
   "cell_type": "code",
   "execution_count": null,
   "metadata": {},
   "outputs": [],
   "source": [
    "run_clf(clf, covtype_X_train, covtype_Y_train, covtype_X_test, covtype_Y_test)"
   ]
  },
  {
   "cell_type": "markdown",
   "metadata": {},
   "source": [
    "## Random Forest"
   ]
  },
  {
   "cell_type": "code",
   "execution_count": null,
   "metadata": {
    "collapsed": true
   },
   "outputs": [],
   "source": [
    "clf = RandomForestClassifier()"
   ]
  },
  {
   "cell_type": "markdown",
   "metadata": {},
   "source": [
    "### ADULT"
   ]
  },
  {
   "cell_type": "code",
   "execution_count": null,
   "metadata": {},
   "outputs": [],
   "source": [
    "run_RF(clf, adult_X_train, adult_Y_train, adult_X_test, adult_Y_test)"
   ]
  },
  {
   "cell_type": "markdown",
   "metadata": {},
   "source": [
    "### LETTER"
   ]
  },
  {
   "cell_type": "code",
   "execution_count": null,
   "metadata": {},
   "outputs": [],
   "source": [
    "run_RF(clf, letter_X_train, letter_Y_train, letter_X_test, letter_Y_test)"
   ]
  },
  {
   "cell_type": "markdown",
   "metadata": {},
   "source": [
    "### COV_TYPE"
   ]
  },
  {
   "cell_type": "code",
   "execution_count": null,
   "metadata": {},
   "outputs": [],
   "source": [
    "run_RF(clf, covtype_X_train, covtype_Y_train, covtype_X_test, covtype_Y_test)"
   ]
  }
 ],
 "metadata": {
  "kernelspec": {
   "display_name": "Python 3",
   "language": "python",
   "name": "python3"
  },
  "language_info": {
   "codemirror_mode": {
    "name": "ipython",
    "version": 3
   },
   "file_extension": ".py",
   "mimetype": "text/x-python",
   "name": "python",
   "nbconvert_exporter": "python",
   "pygments_lexer": "ipython3",
   "version": "3.5.4"
  }
 },
 "nbformat": 4,
 "nbformat_minor": 2
}
