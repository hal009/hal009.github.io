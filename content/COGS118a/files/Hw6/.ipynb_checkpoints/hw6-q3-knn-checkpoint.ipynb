{
 "cells": [
  {
   "cell_type": "code",
   "execution_count": 2,
   "metadata": {
    "ExecuteTime": {
     "end_time": "2018-02-22T21:05:42.440325Z",
     "start_time": "2018-02-22T21:05:41.506414Z"
    },
    "collapsed": true
   },
   "outputs": [],
   "source": [
    "import scipy\n",
    "import numpy as np\n",
    "import seaborn as sns\n",
    "import matplotlib.pyplot as plt\n",
    "%config InlineBackend.figure_format = 'retina'"
   ]
  },
  {
   "cell_type": "markdown",
   "metadata": {},
   "source": [
    "## Q3 $k$ Nearest Neighbor"
   ]
  },
  {
   "cell_type": "code",
   "execution_count": 3,
   "metadata": {
    "ExecuteTime": {
     "end_time": "2018-02-22T21:05:42.452388Z",
     "start_time": "2018-02-22T21:05:42.442874Z"
    },
    "scrolled": true
   },
   "outputs": [
    {
     "name": "stdout",
     "output_type": "stream",
     "text": [
      "(351, 34) (351,)\n"
     ]
    }
   ],
   "source": [
    "# 1) Load data.\n",
    "\n",
    "X_and_Y = np.load('./ionosphere.npy')       # Load data from file.\n",
    "np.random.seed(0)\n",
    "np.random.shuffle(X_and_Y)        # Shuffle the data.\n",
    "X = X_and_Y[:, 0:X_and_Y.shape[1] - 1]       # First column to second last column: Features (numerical values) \n",
    "Y = X_and_Y[:, X_and_Y.shape[1] - 1]       # Last column: Labels (0 or 1)\n",
    "print(X.shape, Y.shape)      # Check the shapes."
   ]
  },
  {
   "cell_type": "code",
   "execution_count": 5,
   "metadata": {
    "ExecuteTime": {
     "end_time": "2018-02-22T21:05:42.462709Z",
     "start_time": "2018-02-22T21:05:42.454166Z"
    }
   },
   "outputs": [
    {
     "name": "stdout",
     "output_type": "stream",
     "text": [
      "(281, 34) (70, 34) (281,) (70,)\n"
     ]
    }
   ],
   "source": [
    "# 2) Split the dataset into 2 parts: \n",
    "#    (a) Training set + Validation set  (First 80% of all data points)\n",
    "#    (b) Test set                       (Last 20% of all data points)\n",
    "\n",
    "eighty_percent = round(len(X) * .8)\n",
    "X_train_val = X[:eighty_percent] # Get features from train + val set.\n",
    "X_test      = X[eighty_percent:] # Get features from test set.     \n",
    "Y_train_val = Y[:eighty_percent] # Get labels from train + val set.\n",
    "Y_test      = Y[eighty_percent:] # Get labels from test set.  \n",
    "print(X_train_val.shape, X_test.shape, Y_train_val.shape, Y_test.shape)"
   ]
  },
  {
   "cell_type": "code",
   "execution_count": 4,
   "metadata": {
    "ExecuteTime": {
     "end_time": "2018-02-22T21:05:42.491013Z",
     "start_time": "2018-02-22T21:05:42.465003Z"
    },
    "collapsed": true
   },
   "outputs": [],
   "source": [
    "# 3) Implement the k-NN.\n",
    "class simple_KNeighborsClassifier(object):\n",
    "    def __init__(self, k):\n",
    "        \"\"\"\n",
    "        k-NN initialization.\n",
    "            k: Number of nearest neighbors.\n",
    "        \"\"\"\n",
    "        self.k = k\n",
    "        \n",
    "    def fit(self, X_train, Y_train):\n",
    "        \"\"\"\n",
    "        k-NN fitting function.\n",
    "            X_train: Feature vectors in training set.\n",
    "            Y_train: Labels in training set.\n",
    "        \"\"\"\n",
    "        self.X_train = X_train\n",
    "        self.Y_train = Y_train\n",
    "        \n",
    "    def predict(self, X_pred):\n",
    "        \"\"\"\n",
    "        k-NN prediction function.\n",
    "            X_pred: Feature vectors in training set.\n",
    "        Return the predicted labels for X_pred. Shape: (len(X_pred), ).\n",
    "        \"\"\"\n",
    "        Y_pred = []\n",
    "        for x in X_pred:\n",
    "            ______________________\n",
    "            ______________________\n",
    "            ______________________\n",
    "            ______________________\n",
    "            ______________________\n",
    "            ______________________\n",
    "        return np.array(Y_pred)"
   ]
  },
  {
   "cell_type": "code",
   "execution_count": 5,
   "metadata": {
    "ExecuteTime": {
     "end_time": "2018-02-22T21:05:42.524873Z",
     "start_time": "2018-02-22T21:05:42.494532Z"
    },
    "collapsed": true
   },
   "outputs": [],
   "source": [
    "# 4) Implement the cross-validation.\n",
    "\n",
    "def simple_cross_validation(X_train_val, Y_train_val, k, fold):\n",
    "    \"\"\"\n",
    "    A simple cross-validation function for k-NN.\n",
    "    \n",
    "    X_train_val: Features for train and val set. \n",
    "                 Shape: (num of data points, num of features)\n",
    "    Y_train_val: Labels for train and val set.\n",
    "                 Shape: (num of data points,)\n",
    "    k:           Parameter k for k-NN.\n",
    "    fold:        The number of folds to do the cross-validation.\n",
    "    \n",
    "    Return the average accuracy on validation set.\n",
    "    \"\"\"\n",
    "    val_acc_list = []\n",
    "    train_acc_list = []\n",
    "    for i in range(fold):\n",
    "        ______________________\n",
    "        ______________________\n",
    "        ______________________\n",
    "        ______________________\n",
    "        ______________________\n",
    "        ______________________\n",
    "        ______________________\n",
    "        ______________________\n",
    "        # Actually you can use the built-in function from sklearn\n",
    "        # to validate if your implementation is correct or not:\n",
    "        #    from sklearn.neighbors import KNeighborsClassifier\n",
    "        #    classifier  = KNeighborsClassifier(algorithm='brute', n_neighbors=k)\n",
    "        classifier = simple_KNeighborsClassifier(k=k)\n",
    "        classifier.fit(_____, _____)\n",
    "        val_acc_list.append(______________________)\n",
    "        train_acc_list.append(____________________)\n",
    "        \n",
    "    return sum(val_acc_list) / len(val_acc_list), \\\n",
    "           sum(train_acc_list) / len(train_acc_list)"
   ]
  },
  {
   "cell_type": "code",
   "execution_count": 6,
   "metadata": {
    "ExecuteTime": {
     "end_time": "2018-02-22T21:05:42.536639Z",
     "start_time": "2018-02-22T21:05:42.527402Z"
    },
    "collapsed": true
   },
   "outputs": [],
   "source": [
    "# 5) Implement the grid search function.\n",
    "\n",
    "def simple_GridSearchCV_fit(X_train_val, Y_train_val, k_list, fold):\n",
    "    \"\"\"\n",
    "    A simple grid search function for k with cross-validation in k-NN.\n",
    "    \n",
    "    X_train_val: Features for train and val set. \n",
    "                 Shape: (num of data points, num of features)\n",
    "    Y_train_val: Labels for train and val set.\n",
    "                 Shape: (num of data points,)\n",
    "    k_list:      The list of k values to try.\n",
    "    fold:        The number of folds to do the cross-validation.\n",
    "    \n",
    "    Return the val and train accuracy matrix of cross-validation. \n",
    "    All combinations of k are included in the array. \n",
    "    Shape: (len(k_list), )\n",
    "    \"\"\"\n",
    "    val_acc_array = ______________________\n",
    "    train_acc_array = ______________________\n",
    "    ______________________\n",
    "        ______________________\n",
    "    return val_acc_array, train_acc_array"
   ]
  },
  {
   "cell_type": "code",
   "execution_count": 7,
   "metadata": {
    "ExecuteTime": {
     "end_time": "2018-02-22T21:05:44.426219Z",
     "start_time": "2018-02-22T21:05:42.540090Z"
    },
    "collapsed": true
   },
   "outputs": [],
   "source": [
    "# 6) Perform grid search.\n",
    "\n",
    "k_list = list(range(1,7))\n",
    "val_acc_array, train_acc_array = \\\n",
    "    simple_GridSearchCV_fit(X_train_val, Y_train_val, k_list, 3)"
   ]
  },
  {
   "cell_type": "code",
   "execution_count": 8,
   "metadata": {
    "ExecuteTime": {
     "end_time": "2018-02-22T21:05:44.450430Z",
     "start_time": "2018-02-22T21:05:44.429032Z"
    },
    "collapsed": true
   },
   "outputs": [],
   "source": [
    "# 7) Draw heatmaps for result of grid search and find \n",
    "#    best k on validation set.\n",
    "\n",
    "def draw_heatmap_knn(acc, acc_desc, k_list):\n",
    "    plt.figure(figsize = (2,4))\n",
    "    ax = sns.heatmap(acc, annot=True, fmt='.3f', yticklabels=k_list, xticklabels=[])\n",
    "    ax.collections[0].colorbar.set_label(\"accuracy\")\n",
    "    ax.set(ylabel='$k$')\n",
    "    plt.title(acc_desc + ' w.r.t $k$')\n",
    "    sns.set_style(\"whitegrid\", {'axes.grid' : False})\n",
    "    plt.show()\n",
    "    \n",
    "#\n",
    "# You can use the draw_heatmap_knn() to draw a heatmap to visualize \n",
    "# the accuracy w.r.t. k. Some demo code is given below as hint:\n",
    "#\n",
    "# demo_acc        = np.array([[0.8],\n",
    "#                             [0.7]])\n",
    "# demo_k_list     = [1, 2]\n",
    "# draw_heatmap_linear(demo_acc, 'demo accuracy', demo_k_list)\n",
    "#"
   ]
  },
  {
   "cell_type": "code",
   "execution_count": null,
   "metadata": {
    "ExecuteTime": {
     "end_time": "2018-02-22T21:05:45.194893Z",
     "start_time": "2018-02-22T21:05:44.452723Z"
    },
    "collapsed": true
   },
   "outputs": [],
   "source": [
    "draw_heatmap_knn(train_acc_array.reshape(-1,1), 'train accuracy', k_list)\n",
    "draw_heatmap_knn(val_acc_array.reshape(-1,1), 'val accuracy', k_list)"
   ]
  },
  {
   "cell_type": "code",
   "execution_count": null,
   "metadata": {
    "ExecuteTime": {
     "end_time": "2018-02-22T21:05:45.244683Z",
     "start_time": "2018-02-22T21:05:45.197145Z"
    },
    "collapsed": true
   },
   "outputs": [],
   "source": [
    "# 8) Use the best k to calculate the test accuracy.\n",
    "\n",
    "classifier = simple_KNeighborsClassifier(k=_______)\n",
    "_______________________________\n",
    "_______________________________"
   ]
  }
 ],
 "metadata": {
  "kernelspec": {
   "display_name": "Python 3",
   "language": "python",
   "name": "python3"
  },
  "language_info": {
   "codemirror_mode": {
    "name": "ipython",
    "version": 3
   },
   "file_extension": ".py",
   "mimetype": "text/x-python",
   "name": "python",
   "nbconvert_exporter": "python",
   "pygments_lexer": "ipython3",
   "version": "3.6.3"
  },
  "toc": {
   "colors": {
    "hover_highlight": "#DAA520",
    "navigate_num": "#000000",
    "navigate_text": "#333333",
    "running_highlight": "#FF0000",
    "selected_highlight": "#FFD700",
    "sidebar_border": "#EEEEEE",
    "wrapper_background": "#FFFFFF"
   },
   "moveMenuLeft": true,
   "nav_menu": {
    "height": "63px",
    "width": "252px"
   },
   "navigate_menu": true,
   "number_sections": true,
   "sideBar": true,
   "threshold": 4,
   "toc_cell": false,
   "toc_section_display": "block",
   "toc_window_display": false,
   "widenNotebook": false
  }
 },
 "nbformat": 4,
 "nbformat_minor": 2
}
