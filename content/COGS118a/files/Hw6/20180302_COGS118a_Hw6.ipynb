{
 "cells": [
  {
   "cell_type": "markdown",
   "metadata": {},
   "source": [
    "# Ridge Regression"
   ]
  },
  {
   "cell_type": "markdown",
   "metadata": {},
   "source": [
    "$\n",
    "\\begin{align*}\n",
    "w^* &= (X^TX + \\lambda I_m)^{-1} X^T Y \\\\\n",
    "w^* &= \\sum_i \\alpha_i \\times x_i \\\\\n",
    "\\sum_i \\alpha_i \\times x_i &= (X^TX + \\lambda I_m)^{-1} X^T Y \\\\\n",
    "\\alpha &= (X)^{-1}(X^TX + \\lambda I_m)^{-1} X^T Y \\\\\n",
    "\\alpha^T &= ((X)^{-1}(X^TX + \\lambda I_m)^{-1} X^T Y)^T\n",
    "\\end{align*}\n",
    "$"
   ]
  },
  {
   "cell_type": "markdown",
   "metadata": {},
   "source": [
    "# Decision Tree"
   ]
  },
  {
   "cell_type": "code",
   "execution_count": 1,
   "metadata": {},
   "outputs": [
    {
     "name": "stderr",
     "output_type": "stream",
     "text": [
      "/home/dang/anaconda3/lib/python3.6/site-packages/sklearn/cross_validation.py:41: DeprecationWarning: This module was deprecated in version 0.18 in favor of the model_selection module into which all the refactored classes and functions are moved. Also note that the interface of the new CV iterators are different from that of this module. This module will be removed in 0.20.\n",
      "  \"This module will be removed in 0.20.\", DeprecationWarning)\n"
     ]
    }
   ],
   "source": [
    "import scipy.io as sio\n",
    "import matplotlib.pyplot as plt\n",
    "import numpy as np\n",
    "import seaborn as sns\n",
    "import sys\n",
    "from sklearn import svm\n",
    "from sklearn.model_selection import GridSearchCV\n",
    "from sklearn import tree\n",
    "from sklearn.metrics import accuracy_score\n",
    "from sklearn.cross_validation import cross_val_score\n",
    "\n",
    "%config InlineBackend.figure_format = 'retina'"
   ]
  },
  {
   "cell_type": "code",
   "execution_count": 2,
   "metadata": {},
   "outputs": [
    {
     "name": "stdout",
     "output_type": "stream",
     "text": [
      "X_and_Y.shape: (351, 35)\n",
      "(351, 34) (351,)\n"
     ]
    }
   ],
   "source": [
    "X_and_Y = np.load('./ionosphere.npy')    # Load data from file.\n",
    "print(f'X_and_Y.shape: {X_and_Y.shape}')\n",
    "np.random.shuffle(X_and_Y)    # Shuffle the data.\n",
    "X = X_and_Y[:, 0:X_and_Y.shape[1] - 1]    # First column to second last column: Features (numerical values) \n",
    "Y = X_and_Y[:, X_and_Y.shape[1] - 1]    # Last column: Labels (0 or 1)\n",
    "print(X.shape, Y.shape)       # Check the shapes."
   ]
  },
  {
   "cell_type": "code",
   "execution_count": 3,
   "metadata": {},
   "outputs": [
    {
     "name": "stdout",
     "output_type": "stream",
     "text": [
      "(281, 34) (70, 34) (281,) (70,)\n"
     ]
    }
   ],
   "source": [
    "# 2) Split the dataset into 2 parts: \n",
    "#    (a) Training set + Validation set  (80% of all data points)\n",
    "#    (b) Test set                       (20% of all data points)\n",
    "eighty_percent = round(len(X) * .8)\n",
    "X_train_val = X[:eighty_percent] # Get features from train + val set.\n",
    "X_test      = X[eighty_percent:] # Get features from test set.     \n",
    "Y_train_val = Y[:eighty_percent] # Get labels from train + val set.\n",
    "Y_test      = Y[eighty_percent:] # Get labels from test set.  \n",
    "print(X_train_val.shape, X_test.shape, Y_train_val.shape, Y_test.shape)"
   ]
  },
  {
   "cell_type": "code",
   "execution_count": 4,
   "metadata": {},
   "outputs": [
    {
     "data": {
      "text/plain": [
       "array([ 0.85053286,  0.92172981,  0.93239656,  0.96085068,  0.98044905])"
      ]
     },
     "execution_count": 4,
     "metadata": {},
     "output_type": "execute_result"
    }
   ],
   "source": [
    "D = [1, 2, 3, 4, 5]\n",
    "clf = tree.DecisionTreeClassifier()\n",
    "parameters = {\"criterion\": [\"entropy\"], \"max_depth\": D}\n",
    "classifier = GridSearchCV(clf, parameters, return_train_score=True)\n",
    "gs = classifier.fit(X_train_val, Y_train_val)\n",
    "gs.cv_results_['mean_train_score']\n",
    "#model.fit(X_train_val, Y_train_val, criterion=\"entropy\")"
   ]
  },
  {
   "cell_type": "code",
   "execution_count": 5,
   "metadata": {},
   "outputs": [
    {
     "data": {
      "image/png": "[encoded data removed]",
      "text/plain": [
       "<matplotlib.figure.Figure at 0x7fde2146b278>"
      ]
     },
     "metadata": {
      "image/png": {
       "height": 250,
       "width": 199
      }
     },
     "output_type": "display_data"
    }
   ],
   "source": [
    "def draw_heatmap_linear(acc, acc_desc, D):\n",
    "    plt.figure(figsize = (2,4))\n",
    "    ax = sns.heatmap(acc, annot=True, yticklabels=D, xticklabels=[])\n",
    "    ax.collections[0].colorbar.set_label(\"accuracy\")\n",
    "    ax.set(ylabel='$D$')\n",
    "    plt.title(acc_desc + ' w.r.t $D$')\n",
    "    sns.set_style(\"whitegrid\", {'axes.grid' : False})\n",
    "    plt.show()\n",
    "\n",
    "draw_heatmap_linear(gs.cv_results_['mean_train_score'].reshape(-1,1), 'train accuracy', D)"
   ]
  },
  {
   "cell_type": "markdown",
   "metadata": {},
   "source": [
    "Optimal D is 5"
   ]
  },
  {
   "cell_type": "code",
   "execution_count": 6,
   "metadata": {},
   "outputs": [
    {
     "data": {
      "text/plain": [
       "0.88571428571428568"
      ]
     },
     "execution_count": 6,
     "metadata": {},
     "output_type": "execute_result"
    }
   ],
   "source": [
    "model = tree.DecisionTreeClassifier(criterion=\"entropy\", max_depth=5)\n",
    "model.fit(X_train_val, Y_train_val)\n",
    "y_predict = model.predict(X_test)\n",
    "accuracy_score(Y_test, y_predict)"
   ]
  }
 ],
 "metadata": {
  "kernelspec": {
   "display_name": "Python 3",
   "language": "python",
   "name": "python3"
  },
  "language_info": {
   "codemirror_mode": {
    "name": "ipython",
    "version": 3
   },
   "file_extension": ".py",
   "mimetype": "text/x-python",
   "name": "python",
   "nbconvert_exporter": "python",
   "pygments_lexer": "ipython3",
   "version": "3.6.3"
  }
 },
 "nbformat": 4,
 "nbformat_minor": 2
}
