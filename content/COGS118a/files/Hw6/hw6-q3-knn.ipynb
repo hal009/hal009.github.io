{
 "cells": [
  {
   "cell_type": "code",
   "execution_count": 1,
   "metadata": {
    "ExecuteTime": {
     "end_time": "2018-02-22T21:05:42.440325Z",
     "start_time": "2018-02-22T21:05:41.506414Z"
    },
    "collapsed": true
   },
   "outputs": [],
   "source": [
    "import scipy\n",
    "import numpy as np\n",
    "import seaborn as sns\n",
    "import matplotlib.pyplot as plt\n",
    "from numpy import linalg as LA\n",
    "from sklearn.metrics.pairwise import euclidean_distances\n",
    "%config InlineBackend.figure_format = 'retina'"
   ]
  },
  {
   "cell_type": "markdown",
   "metadata": {},
   "source": [
    "## Q3 $k$ Nearest Neighbor"
   ]
  },
  {
   "cell_type": "code",
   "execution_count": 2,
   "metadata": {
    "ExecuteTime": {
     "end_time": "2018-02-22T21:05:42.452388Z",
     "start_time": "2018-02-22T21:05:42.442874Z"
    },
    "scrolled": true
   },
   "outputs": [
    {
     "name": "stdout",
     "output_type": "stream",
     "text": [
      "(351, 34) (351,)\n"
     ]
    }
   ],
   "source": [
    "# 1) Load data.\n",
    "\n",
    "X_and_Y = np.load('./ionosphere.npy')       # Load data from file.\n",
    "np.random.seed(0)\n",
    "np.random.shuffle(X_and_Y)        # Shuffle the data.\n",
    "X = X_and_Y[:, 0:X_and_Y.shape[1] - 1]       # First column to second last column: Features (numerical values) \n",
    "Y = X_and_Y[:, X_and_Y.shape[1] - 1]       # Last column: Labels (0 or 1)\n",
    "print(X.shape, Y.shape)      # Check the shapes."
   ]
  },
  {
   "cell_type": "code",
   "execution_count": 3,
   "metadata": {
    "ExecuteTime": {
     "end_time": "2018-02-22T21:05:42.462709Z",
     "start_time": "2018-02-22T21:05:42.454166Z"
    }
   },
   "outputs": [
    {
     "name": "stdout",
     "output_type": "stream",
     "text": [
      "(281, 34) (70, 34) (281,) (70,)\n"
     ]
    }
   ],
   "source": [
    "# 2) Split the dataset into 2 parts: \n",
    "#    (a) Training set + Validation set  (First 80% of all data points)\n",
    "#    (b) Test set                       (Last 20% of all data points)\n",
    "\n",
    "eighty_percent = round(len(X) * .8)\n",
    "X_train_val = X[:eighty_percent] # Get features from train + val set.\n",
    "X_test      = X[eighty_percent:] # Get features from test set.     \n",
    "Y_train_val = Y[:eighty_percent] # Get labels from train + val set.\n",
    "Y_test      = Y[eighty_percent:] # Get labels from test set.  \n",
    "print(X_train_val.shape, X_test.shape, Y_train_val.shape, Y_test.shape)"
   ]
  },
  {
   "cell_type": "code",
   "execution_count": 4,
   "metadata": {
    "ExecuteTime": {
     "end_time": "2018-02-22T21:05:42.491013Z",
     "start_time": "2018-02-22T21:05:42.465003Z"
    },
    "collapsed": true
   },
   "outputs": [],
   "source": [
    "# 3) Implement the k-NN.\n",
    "class simple_KNeighborsClassifier(object):\n",
    "    def __init__(self, k):\n",
    "        \"\"\"\n",
    "        k-NN initialization.\n",
    "            k: Number of nearest neighbors.\n",
    "        \"\"\"\n",
    "        self.k = k\n",
    "        \n",
    "    def fit(self, X_train, Y_train):\n",
    "        \"\"\"\n",
    "        k-NN fitting function.\n",
    "            X_train: Feature vectors in training set.\n",
    "            Y_train: Labels in training set.\n",
    "        \"\"\"\n",
    "        self.X_train = X_train\n",
    "        self.Y_train = Y_train\n",
    "        \n",
    "    def predict(self, X_pred):\n",
    "        \"\"\"\n",
    "        k-NN prediction function.\n",
    "            X_pred: Feature vectors in training set.\n",
    "        Return the predicted labels for X_pred. Shape: (len(X_pred), ).\n",
    "        \"\"\"\n",
    "        Y_pred = []\n",
    "        for x in X_pred:\n",
    "            dists = {}\n",
    "            for i, self_x in enumerate(self.X_train):\n",
    "                dists[np.linalg.norm(x - self_x)] = self.Y_train[i]\n",
    "            dists = sorted(dists.items())\n",
    "            labels = [i[1] for i in dists[:self.k]]\n",
    "            Y_pred.append(max(set(labels), key=labels.count))\n",
    "        return np.array(Y_pred)\n"
   ]
  },
  {
   "cell_type": "code",
   "execution_count": 5,
   "metadata": {
    "ExecuteTime": {
     "end_time": "2018-02-22T21:05:42.524873Z",
     "start_time": "2018-02-22T21:05:42.494532Z"
    }
   },
   "outputs": [],
   "source": [
    "# 4) Implement the cross-validation.\n",
    "#from sklearn.neighbors import KNeighborsClassifier\n",
    "\n",
    "\n",
    "def score(pred, actual):\n",
    "    correct = 0\n",
    "    for i,x in enumerate(pred):\n",
    "        if(x == actual[i]):\n",
    "            correct += 1\n",
    "\n",
    "    return float(correct)/len(pred)\n",
    "\n",
    "def simple_cross_validation(X_train_val, Y_train_val, k, fold):\n",
    "    \"\"\"\n",
    "    A simple cross-validation function for k-NN.\n",
    "    \n",
    "    X_train_val: Features for train and val set. \n",
    "                 Shape: (num of data points, num of features)\n",
    "    Y_train_val: Labels for train and val set.\n",
    "                 Shape: (num of data points,)\n",
    "    k:           Parameter k for k-NN.\n",
    "    fold:        The number of folds to do the cross-validation.\n",
    "    \n",
    "    Return the average accuracy on validation set.\n",
    "    \"\"\"\n",
    "\n",
    "    \n",
    "    val_acc_list = []\n",
    "    train_acc_list = []\n",
    "    start = 0\n",
    "    for i in range(fold):\n",
    "        end = int(min(round(len(X_train_val) / fold, 0) * (i + 1), len(X_train_val)))\n",
    "        X_val = X_train_val[start: end]\n",
    "        Y_val = Y_train_val[start: end]\n",
    "        X_train = X_train_val[0: start]\n",
    "        X_train = np.concatenate((X_train, X_train_val[end:]))\n",
    "        Y_train = Y_train_val[0: start]\n",
    "        Y_train = np.concatenate((Y_train, Y_train_val[end:]))\n",
    "        # Actually you can use the built-in function from sklearn\n",
    "        # to validate if your implementation is correct or not:\n",
    "        #    \n",
    "        #sk_classifier  = KNeighborsClassifier(algorithm='brute', n_neighbors=k)\n",
    "        classifier = simple_KNeighborsClassifier(k=k)\n",
    "        #sk_classifier.fit(X_train, Y_train)\n",
    "        classifier.fit(X_train, Y_train)\n",
    "        val_predict = classifier.predict(X_val)\n",
    "        train_predict = classifier.predict(X_train)\n",
    "#         print(f'My val score: {score(val_predict, Y_val)}')\n",
    "#         print(f'My train score: {score(train_predict, Y_train)}')\n",
    "        \n",
    "#         sk_val_predict = sk_classifier.predict(X_val)\n",
    "#         sk_train_predict = sk_classifier.predict(X_train)\n",
    "#         print(f'Sklearn val score: {score(Y_val, sk_val_predict)}')\n",
    "#         print(f'sklearn train score: {score(Y_train, sk_train_predict)}')\n",
    "#         print('\\n')\n",
    "        \n",
    "        val_acc_list.append(score(val_predict, Y_val))\n",
    "        train_acc_list.append(score(train_predict, Y_train))\n",
    "        \n",
    "        start = end\n",
    "        \n",
    "    return sum(val_acc_list) / len(val_acc_list), \\\n",
    "           sum(train_acc_list) / len(train_acc_list)"
   ]
  },
  {
   "cell_type": "code",
   "execution_count": 6,
   "metadata": {
    "ExecuteTime": {
     "end_time": "2018-02-22T21:05:42.536639Z",
     "start_time": "2018-02-22T21:05:42.527402Z"
    },
    "collapsed": true
   },
   "outputs": [],
   "source": [
    "# 5) Implement the grid search function.\n",
    "\n",
    "def simple_GridSearchCV_fit(X_train_val, Y_train_val, k_list, fold):\n",
    "    \"\"\"\n",
    "    A simple grid search function for k with cross-validation in k-NN.\n",
    "    \n",
    "    X_train_val: Features for train and val set. \n",
    "                 Shape: (num of data points, num of features)\n",
    "    Y_train_val: Labels for train and val set.\n",
    "                 Shape: (num of data points,)\n",
    "    k_list:      The list of k values to try.\n",
    "    fold:        The number of folds to do the cross-validation.\n",
    "    \n",
    "    Return the val and train accuracy matrix of cross-validation. \n",
    "    All combinations of k are included in the array. \n",
    "    Shape: (len(k_list), )\n",
    "    \"\"\"\n",
    "    val_acc_array = np.empty(len(k_list))\n",
    "    train_acc_array = np.empty(len(k_list))\n",
    "    for i, k in enumerate(k_list):\n",
    "        accs = simple_cross_validation(X_train_val, Y_train_val, k, 3)\n",
    "        val_acc_array[i] = accs[0]\n",
    "        train_acc_array[i] = accs[1]\n",
    "    return val_acc_array, train_acc_array"
   ]
  },
  {
   "cell_type": "code",
   "execution_count": 7,
   "metadata": {
    "ExecuteTime": {
     "end_time": "2018-02-22T21:05:44.426219Z",
     "start_time": "2018-02-22T21:05:42.540090Z"
    }
   },
   "outputs": [],
   "source": [
    "# 6) Perform grid search.\n",
    "\n",
    "k_list = list(range(1,7))\n",
    "val_acc_array, train_acc_array = \\\n",
    "    simple_GridSearchCV_fit(X_train_val, Y_train_val, k_list, 3)\n",
    "    \n",
    "# print(f'val_acc_array: {val_acc_array} \\n')\n",
    "\n",
    "# print(f'train_acc_array: {train_acc_array}')"
   ]
  },
  {
   "cell_type": "code",
   "execution_count": 8,
   "metadata": {
    "ExecuteTime": {
     "end_time": "2018-02-22T21:05:44.450430Z",
     "start_time": "2018-02-22T21:05:44.429032Z"
    }
   },
   "outputs": [],
   "source": [
    "# 7) Draw heatmaps for result of grid search and find \n",
    "#    best k on validation set.\n",
    "\n",
    "def draw_heatmap_knn(acc, acc_desc, k_list):\n",
    "    plt.figure(figsize = (2,4))\n",
    "    #ax = sns.heatmap(acc, annot=True, fmt='.3f', yticklabels=k_list, xticklabels=[])\n",
    "    ax = sns.heatmap(acc, annot=True, yticklabels=k_list, xticklabels=[])\n",
    "    ax.collections[0].colorbar.set_label(\"accuracy\")\n",
    "    ax.set(ylabel='$k$')\n",
    "    plt.title(acc_desc + ' w.r.t $k$')\n",
    "    sns.set_style(\"whitegrid\", {'axes.grid' : False})\n",
    "    plt.show()\n",
    "    \n",
    "#\n",
    "# You can use the draw_heatmap_knn() to draw a heatmap to visualize \n",
    "# the accuracy w.r.t. k. Some demo code is given below as hint:\n",
    "#\n",
    "# demo_acc = np.array([[0.8], [0.7]])\n",
    "# demo_k_list = [1, 2]\n",
    "# draw_heatmap_knn(demo_acc, 'demo accuracy', demo_k_list)\n",
    "#\n"
   ]
  },
  {
   "cell_type": "code",
   "execution_count": 9,
   "metadata": {
    "ExecuteTime": {
     "end_time": "2018-02-22T21:05:45.194893Z",
     "start_time": "2018-02-22T21:05:44.452723Z"
    }
   },
   "outputs": [
    {
     "data": {
      "image/png": "[encoded data removed]",
      "text/plain": [
       "<matplotlib.figure.Figure at 0x7fa21857e2b0>"
      ]
     },
     "metadata": {
      "image/png": {
       "height": 250,
       "width": 193
      }
     },
     "output_type": "display_data"
    },
    {
     "data": {
      "image/png": "[encoded data removed]",
      "text/plain": [
       "<matplotlib.figure.Figure at 0x7fa21857e320>"
      ]
     },
     "metadata": {
      "image/png": {
       "height": 248,
       "width": 192
      }
     },
     "output_type": "display_data"
    }
   ],
   "source": [
    "draw_heatmap_knn(train_acc_array.reshape(-1,1), 'train accuracy', k_list)\n",
    "draw_heatmap_knn(val_acc_array.reshape(-1,1), 'val accuracy', k_list)"
   ]
  },
  {
   "cell_type": "code",
   "execution_count": 10,
   "metadata": {
    "ExecuteTime": {
     "end_time": "2018-02-22T21:05:45.244683Z",
     "start_time": "2018-02-22T21:05:45.197145Z"
    }
   },
   "outputs": [
    {
     "data": {
      "text/plain": [
       "1.0"
      ]
     },
     "execution_count": 10,
     "metadata": {},
     "output_type": "execute_result"
    }
   ],
   "source": [
    "# 8) Use the best k to calculate the test accuracy.\n",
    "\n",
    "classifier = simple_KNeighborsClassifier(k=1)\n",
    "classifier.fit(X_test, Y_test)\n",
    "test_pred = classifier.predict(X_test)\n",
    "\n",
    "# print(f'test_pred: {test_pred}')\n",
    "\n",
    "# print(f'Y_test: {Y_test}')\n",
    "\n",
    "score(test_pred, Y_test)"
   ]
  }
 ],
 "metadata": {
  "kernelspec": {
   "display_name": "Python 3",
   "language": "python",
   "name": "python3"
  },
  "language_info": {
   "codemirror_mode": {
    "name": "ipython",
    "version": 3
   },
   "file_extension": ".py",
   "mimetype": "text/x-python",
   "name": "python",
   "nbconvert_exporter": "python",
   "pygments_lexer": "ipython3",
   "version": "3.6.3"
  },
  "toc": {
   "colors": {
    "hover_highlight": "#DAA520",
    "navigate_num": "#000000",
    "navigate_text": "#333333",
    "running_highlight": "#FF0000",
    "selected_highlight": "#FFD700",
    "sidebar_border": "#EEEEEE",
    "wrapper_background": "#FFFFFF"
   },
   "moveMenuLeft": true,
   "nav_menu": {
    "height": "63px",
    "width": "252px"
   },
   "navigate_menu": true,
   "number_sections": true,
   "sideBar": true,
   "threshold": 4,
   "toc_cell": false,
   "toc_section_display": "block",
   "toc_window_display": false,
   "widenNotebook": false
  }
 },
 "nbformat": 4,
 "nbformat_minor": 2
}
