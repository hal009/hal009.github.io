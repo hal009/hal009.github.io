{
 "cells": [
  {
   "cell_type": "code",
   "execution_count": 2,
   "metadata": {
    "ExecuteTime": {
     "end_time": "2018-02-15T19:35:24.108889Z",
     "start_time": "2018-02-15T19:35:22.435547Z"
    },
    "collapsed": true
   },
   "outputs": [],
   "source": [
    "import scipy.io as sio\n",
    "import matplotlib.pyplot as plt\n",
    "import numpy as np\n",
    "import seaborn as sns\n",
    "from sklearn import svm\n",
    "from sklearn.model_selection import GridSearchCV\n",
    "%config InlineBackend.figure_format = 'retina'"
   ]
  },
  {
   "cell_type": "markdown",
   "metadata": {},
   "source": [
    "## Q1 Support Vector Machine"
   ]
  },
  {
   "cell_type": "markdown",
   "metadata": {},
   "source": [
    "### Linear SVM"
   ]
  },
  {
   "cell_type": "code",
   "execution_count": 4,
   "metadata": {
    "ExecuteTime": {
     "end_time": "2018-02-15T19:35:24.130289Z",
     "start_time": "2018-02-15T19:35:24.119855Z"
    },
    "scrolled": true
   },
   "outputs": [
    {
     "name": "stdout",
     "output_type": "stream",
     "text": [
      "X_and_Y.shape: (452, 280)\n",
      "(452, 279) (452,)\n"
     ]
    }
   ],
   "source": [
    "# 1) Load data.\n",
    "\n",
    "X_and_Y = np.load('./arrhythmia.npy')    # Load data from file.\n",
    "print(f'X_and_Y.shape: {X_and_Y.shape}')\n",
    "np.random.shuffle(X_and_Y)    # Shuffle the data.\n",
    "X = X_and_Y[:, 0:X_and_Y.shape[1] - 1]    # First column to second last column: Features (numerical values) \n",
    "Y = X_and_Y[:, X_and_Y.shape[1] - 1]    # Last column: Labels (0 or 1)\n",
    "print(X.shape, Y.shape)       # Check the shapes."
   ]
  },
  {
   "cell_type": "code",
   "execution_count": 5,
   "metadata": {},
   "outputs": [
    {
     "name": "stdout",
     "output_type": "stream",
     "text": [
      "[ 0.  1.  1.  1.  0.]\n",
      "452\n",
      "362\n"
     ]
    }
   ],
   "source": [
    "print(Y[:5])\n",
    "print(len(X))\n",
    "print(round(len(X) * .8))"
   ]
  },
  {
   "cell_type": "code",
   "execution_count": 6,
   "metadata": {
    "ExecuteTime": {
     "end_time": "2018-02-15T19:47:52.406844Z",
     "start_time": "2018-02-15T19:47:52.397048Z"
    }
   },
   "outputs": [
    {
     "name": "stdout",
     "output_type": "stream",
     "text": [
      "(362, 279) (90, 279) (362,) (90,)\n"
     ]
    }
   ],
   "source": [
    "# 2) Split the dataset into 2 parts: \n",
    "#    (a) Training set + Validation set  (80% of all data points)\n",
    "#    (b) Test set                       (20% of all data points)\n",
    "eighty_percent = round(len(X) * .8)\n",
    "X_train_val = X[:eighty_percent] # Get features from train + val set.\n",
    "X_test      = X[eighty_percent:] # Get features from test set.     \n",
    "Y_train_val = Y[:eighty_percent] # Get labels from train + val set.\n",
    "Y_test      = Y[eighty_percent:] # Get labels from test set.  \n",
    "print(X_train_val.shape, X_test.shape, Y_train_val.shape, Y_test.shape)"
   ]
  },
  {
   "cell_type": "code",
   "execution_count": 7,
   "metadata": {},
   "outputs": [
    {
     "data": {
      "text/plain": [
       "GridSearchCV(cv=None, error_score='raise',\n",
       "       estimator=SVC(C=1.0, cache_size=200, class_weight=None, coef0=0.0,\n",
       "  decision_function_shape='ovr', degree=3, gamma='auto', kernel='rbf',\n",
       "  max_iter=-1, probability=False, random_state=None, shrinking=True,\n",
       "  tol=0.001, verbose=False),\n",
       "       fit_params=None, iid=True, n_jobs=1,\n",
       "       param_grid={'kernel': ['linear'], 'C': [1e-06, 1e-05, 0.0001, 0.001, 0.01, 0.1]},\n",
       "       pre_dispatch='2*n_jobs', refit=True, return_train_score=True,\n",
       "       scoring='accuracy', verbose=0)"
      ]
     },
     "execution_count": 7,
     "metadata": {},
     "output_type": "execute_result"
    }
   ],
   "source": [
    "# 3) Consider linear kernel. Perform grid search for best C \n",
    "#    with 3-fold cross-validation. You can use svm.SVC() for SVM\n",
    "#    classifier and use GridSearchCV() to perform such grid search.\n",
    "#    For more details, please refer to the sklearn documents:\n",
    "#         http://scikit-learn.org/stable/modules/svm.html\n",
    "#         http://scikit-learn.org/stable/modules/generated/sklearn.model_selection.GridSearchCV.html#sklearn.model_selection.GridSearchCV\n",
    "\n",
    "svc = svm.SVC()\n",
    "C_list     = [10 ** -6, 10 ** -5, 10 ** -4, 10 ** -3, 10 ** -2, 10 ** -1] # Different C to try.\n",
    "parameters = {'kernel':['linear'], 'C': C_list}\n",
    "classifier = GridSearchCV(svc, parameters, scoring='accuracy', return_train_score=True)\n",
    "classifier.fit(X_train_val, Y_train_val)\n"
   ]
  },
  {
   "cell_type": "code",
   "execution_count": 8,
   "metadata": {},
   "outputs": [
    {
     "name": "stdout",
     "output_type": "stream",
     "text": [
      "{'C': 0.0001, 'kernel': 'linear'}\n",
      "\n",
      "\n",
      "{'mean_fit_time': array([ 0.0323538 ,  0.01338943,  0.01230017,  0.02135658,  0.07261467,\n",
      "        0.29271785]), 'std_fit_time': array([  2.22069654e-02,   8.39161900e-05,   6.79003119e-04,\n",
      "         3.39514225e-03,   2.95841943e-02,   2.13903890e-01]), 'mean_score_time': array([ 0.00836897,  0.00595609,  0.00498883,  0.00393041,  0.00352176,\n",
      "        0.00331608]), 'std_score_time': array([ 0.00114371,  0.00014438,  0.00038157,  0.00027609,  0.00039251,\n",
      "        0.00034691]), 'param_C': masked_array(data = [1e-06 1e-05 0.0001 0.001 0.01 0.1],\n",
      "             mask = [False False False False False False],\n",
      "       fill_value = ?)\n",
      ", 'param_kernel': masked_array(data = ['linear' 'linear' 'linear' 'linear' 'linear' 'linear'],\n",
      "             mask = [False False False False False False],\n",
      "       fill_value = ?)\n",
      ", 'params': [{'C': 1e-06, 'kernel': 'linear'}, {'C': 1e-05, 'kernel': 'linear'}, {'C': 0.0001, 'kernel': 'linear'}, {'C': 0.001, 'kernel': 'linear'}, {'C': 0.01, 'kernel': 'linear'}, {'C': 0.1, 'kernel': 'linear'}], 'split0_test_score': array([ 0.54098361,  0.67213115,  0.69672131,  0.68032787,  0.59836066,\n",
      "        0.57377049]), 'split1_test_score': array([ 0.58333333,  0.70833333,  0.75      ,  0.68333333,  0.66666667,\n",
      "        0.60833333]), 'split2_test_score': array([ 0.575     ,  0.76666667,  0.83333333,  0.76666667,  0.73333333,\n",
      "        0.7       ]), 'mean_test_score': array([ 0.56629834,  0.71546961,  0.75966851,  0.70994475,  0.66574586,\n",
      "        0.62707182]), 'std_test_score': array([ 0.01836487,  0.03897126,  0.05626017,  0.03996126,  0.05518035,\n",
      "        0.05326272]), 'rank_test_score': array([6, 2, 1, 3, 4, 5], dtype=int32), 'split0_train_score': array([ 0.58333333,  0.76666667,  0.85416667,  0.9125    ,  0.9625    ,  1.        ]), 'split1_train_score': array([ 0.60743802,  0.7892562 ,  0.84710744,  0.90082645,  0.95454545,  1.        ]), 'split2_train_score': array([ 0.5661157 ,  0.76033058,  0.81818182,  0.87603306,  0.9338843 ,\n",
      "        0.98347107]), 'mean_train_score': array([ 0.58562902,  0.77208448,  0.83981864,  0.89645317,  0.95030992,\n",
      "        0.99449036]), 'std_train_score': array([ 0.01694768,  0.01241471,  0.01556861,  0.01520534,  0.01206011,\n",
      "        0.00779181])}\n",
      "\n",
      "\n",
      "[ 0.58562902  0.77208448  0.83981864  0.89645317  0.95030992  0.99449036]\n",
      "\n",
      "\n",
      "[ 0.56629834  0.71546961  0.75966851  0.70994475  0.66574586  0.62707182]\n"
     ]
    }
   ],
   "source": [
    "print(classifier.best_params_)\n",
    "print('\\n')\n",
    "print(classifier.cv_results_)\n",
    "print('\\n')\n",
    "print(classifier.cv_results_['mean_train_score'])\n",
    "print('\\n')\n",
    "print(classifier.cv_results_['mean_test_score'])"
   ]
  },
  {
   "cell_type": "code",
   "execution_count": 21,
   "metadata": {},
   "outputs": [
    {
     "name": "stdout",
     "output_type": "stream",
     "text": [
      "(2, 1)\n",
      "(6, 1)\n",
      "(6,)\n"
     ]
    }
   ],
   "source": [
    "demo_acc        = np.array([[0.8],\n",
    "                            [0.7]])\n",
    "\n",
    "print(demo_acc.shape)\n",
    "\n",
    "skunk = classifier.cv_results_['mean_train_score'].reshape(-1, 1)\n",
    "print(skunk.shape)\n",
    "print(classifier.cv_results_['mean_train_score'].shape)"
   ]
  },
  {
   "cell_type": "code",
   "execution_count": 23,
   "metadata": {
    "ExecuteTime": {
     "end_time": "2018-02-15T22:10:19.314796Z",
     "start_time": "2018-02-15T22:10:17.833308Z"
    }
   },
   "outputs": [
    {
     "data": {
      "image/png": "[encoded data removed]",
      "text/plain": [
       "<matplotlib.figure.Figure at 0x7febd59364a8>"
      ]
     },
     "metadata": {
      "image/png": {
       "height": 248,
       "width": 186
      }
     },
     "output_type": "display_data"
    },
    {
     "data": {
      "image/png": "[encoded data removed]",
      "text/plain": [
       "<matplotlib.figure.Figure at 0x7febd5936748>"
      ]
     },
     "metadata": {
      "image/png": {
       "height": 248,
       "width": 186
      }
     },
     "output_type": "display_data"
    }
   ],
   "source": [
    "# 4) Draw heatmaps for result of grid search and find \n",
    "#    best C for validation set.\n",
    "\n",
    "def draw_heatmap_linear(acc, acc_desc, C_list):\n",
    "    plt.figure(figsize = (2,4))\n",
    "    ax = sns.heatmap(acc, annot=True, fmt='.3f', yticklabels=C_list, xticklabels=[])\n",
    "    ax.collections[0].colorbar.set_label(\"accuracy\")\n",
    "    ax.set(ylabel='$C$')\n",
    "    plt.title(acc_desc + ' w.r.t $C$')\n",
    "    sns.set_style(\"whitegrid\", {'axes.grid' : False})\n",
    "    plt.show()\n",
    "    \n",
    "#\n",
    "# You can use the draw_heatmap_linear() to draw a heatmap to visualize \n",
    "# the accuracy w.r.t. C and gamma. Some demo code is given below as hint:\n",
    "#\n",
    "# demo_acc        = np.array([[0.8],\n",
    "#                             [0.7]])\n",
    "# demo_C_list     = [0.1, 1]\n",
    "# draw_heatmap_linear(demo_acc, 'demo accuracy', demo_C_list)\n",
    "#\n",
    "\n",
    "train_acc = classifier.cv_results_['mean_train_score'].reshape(-1, 1)\n",
    "draw_heatmap_linear(train_acc, 'train accuracy', C_list)\n",
    "\n",
    "val_acc = classifier.cv_results_['mean_test_score'].reshape(-1,1)\n",
    "draw_heatmap_linear(val_acc, 'val accuracy', C_list)"
   ]
  },
  {
   "cell_type": "code",
   "execution_count": 24,
   "metadata": {
    "collapsed": true
   },
   "outputs": [],
   "source": [
    "C_star = .0001 # based on 'val accuracy' heatmap above."
   ]
  },
  {
   "cell_type": "code",
   "execution_count": 27,
   "metadata": {
    "ExecuteTime": {
     "end_time": "2018-02-15T20:05:52.255828Z",
     "start_time": "2018-02-15T20:05:51.679770Z"
    }
   },
   "outputs": [
    {
     "name": "stdout",
     "output_type": "stream",
     "text": [
      "0.577777777778\n"
     ]
    }
   ],
   "source": [
    "# 5) Use the best C to calculate the test accuracy.\n",
    "from sklearn.metrics import accuracy_score\n",
    "clf = svm.SVC(C = C_star)\n",
    "clf.fit(X_train_val, Y_train_val)\n",
    "y_pred = clf.predict(X_test)\n",
    "\n",
    "test_acc = accuracy_score(Y_test, y_pred)\n",
    "print(test_acc)"
   ]
  },
  {
   "cell_type": "markdown",
   "metadata": {},
   "source": [
    "### SVM with RBF Kernel"
   ]
  },
  {
   "cell_type": "code",
   "execution_count": null,
   "metadata": {
    "collapsed": true
   },
   "outputs": [],
   "source": [
    "# 1) Consider RBF kernel. Perform grid search for best C and gamma \n",
    "#    with 3-fold cross-validation. You can use svm.SVC() for SVM\n",
    "#    classifier and use GridSearchCV() to perform such grid search.\n",
    "#    For more details, please refer to the sklearn documents:\n",
    "#         http://scikit-learn.org/stable/modules/svm.html\n",
    "#         http://scikit-learn.org/stable/modules/generated/sklearn.model_selection.GridSearchCV.html#sklearn.model_selection.GridSearchCV\n",
    "\n",
    "svc = svm.SVC()\n",
    "C_list     = [0.1, 1, 10, 100] # Different C to try.\n",
    "gamma_list = [10 ** −7 , 10 ** −6 , 10 ** −5 , 10 ** −4] # Different gamma to try.\n",
    "parameters = {'kernel':['rbf'], 'C': C_list, 'gamma': gamma_list}\n",
    "classifier = GridSearchCV(svc, parameters, scoring='accuracy', return_train_score=True)\n",
    "classifier.fit(X_train_val, Y_train_val)"
   ]
  },
  {
   "cell_type": "code",
   "execution_count": null,
   "metadata": {
    "collapsed": true
   },
   "outputs": [],
   "source": [
    "# 2) Draw heatmaps for result of grid search and find \n",
    "#    best C and gamma for validation set.\n",
    "\n",
    "def draw_heatmap_RBF(acc, acc_desc, gamma_list, C_list):\n",
    "    plt.figure(figsize = (5,4))\n",
    "    ax = sns.heatmap(acc, annot=True, fmt='.3f', \n",
    "                     xticklabels=gamma_list, yticklabels=C_list)\n",
    "    ax.collections[0].colorbar.set_label(\"accuracy\")\n",
    "    ax.set(xlabel = '$\\gamma$', ylabel='$C$')\n",
    "    plt.title(acc_desc + ' w.r.t $C$ and $\\gamma$')\n",
    "    sns.set_style(\"whitegrid\", {'axes.grid' : False})\n",
    "    plt.show()\n",
    "    \n",
    "#\n",
    "# You can use the draw_heatmap_RBF() to draw a heatmap to visualize \n",
    "# the accuracy w.r.t. C and gamma. Some demo code is given below as hint:\n",
    "#\n",
    "# demo_acc        = np.array([[0.8, 0.7],\n",
    "#                             [0.7, 0.9]])\n",
    "# demo_C_list     = [0.1, 1]\n",
    "# demo_gamma_list = [0.01, 0.1]\n",
    "# draw_heatmap_RBF(demo_acc, 'demo accuracy', demo_gamma_list, demo_C_list)\n",
    "#\n",
    "\n",
    "train_acc = __________________\n",
    "draw_heatmap_RBF(train_acc, 'train accuracy', gamma_list, C_list)\n",
    "\n",
    "val_acc   = __________________\n",
    "draw_heatmap_RBF(val_acc, 'val accuracy',gamma_list, C_list)"
   ]
  },
  {
   "cell_type": "code",
   "execution_count": null,
   "metadata": {
    "collapsed": true
   },
   "outputs": [],
   "source": [
    "# 3) Use the best C and gamma to calculate the test accuracy.\n",
    "\n",
    "test_acc = __________________\n",
    "print(test_acc)"
   ]
  },
  {
   "cell_type": "markdown",
   "metadata": {},
   "source": [
    "### Re-implementation of Cross-validation and Grid Search "
   ]
  },
  {
   "cell_type": "code",
   "execution_count": 92,
   "metadata": {
    "ExecuteTime": {
     "end_time": "2018-02-15T23:01:04.830944Z",
     "start_time": "2018-02-15T23:01:04.802087Z"
    },
    "collapsed": true
   },
   "outputs": [],
   "source": [
    "# 1) Implement a simple cross-validation.\n",
    "def simple_cross_validation(X_train_val, Y_train_val, C, gamma, fold):\n",
    "    \"\"\"\n",
    "    A simple cross-validation function.\n",
    "    We assume the SVM with the RBF kernel.\n",
    "    \n",
    "    X_train_val: Features for train and val set. \n",
    "                 Shape: (num of data points, num of features)\n",
    "    Y_train_val: Labels for train and val set.\n",
    "                 Shape: (num of data points,)\n",
    "    C:           Parameter C for SVM.\n",
    "    gamma:       Parameter gamma for SVM.\n",
    "    fold:        The number of folds to do the cross-validation.\n",
    "    \n",
    "    Return the average accuracy on validation set.\n",
    "    \"\"\"\n",
    "    val_acc_list = []\n",
    "    train_acc_list = []\n",
    "    for i in range(fold):\n",
    "        __________________\n",
    "        __________________\n",
    "        __________________\n",
    "        __________________\n",
    "        __________________\n",
    "        __________________\n",
    "        __________________\n",
    "        __________________\n",
    "        __________________\n",
    "        __________________\n",
    "        val_acc_list.append(__________________)\n",
    "        train_acc_list.append(__________________)\n",
    "        \n",
    "    return sum(val_acc_list) / len(val_acc_list), \\\n",
    "           sum(train_acc_list) / len(train_acc_list)"
   ]
  },
  {
   "cell_type": "code",
   "execution_count": 93,
   "metadata": {
    "ExecuteTime": {
     "end_time": "2018-02-15T23:02:08.070103Z",
     "start_time": "2018-02-15T23:02:08.057181Z"
    },
    "collapsed": true
   },
   "outputs": [],
   "source": [
    "# 2) Implement the grid search function. \n",
    "def simple_GridSearchCV_fit(X_train_val, Y_train_val, C_list, gamma_list, fold):\n",
    "    \"\"\"\n",
    "    A simple grid search function for C and gamma with cross-validation. \n",
    "    We assume the SVM with the RBF kernel.\n",
    "    \n",
    "    X_train_val: Features for train and val set. \n",
    "                 Shape: (num of data points, num of features)\n",
    "    Y_train_val: Labels for train and val set.\n",
    "                 Shape: (num of data points,)\n",
    "    C_list:      The list of C values to try.\n",
    "    gamma_list:  The list of gamma values to try.\n",
    "    fold:        The number of folds to do the cross-validation.\n",
    "    \n",
    "    Return the val and train accuracy matrix of cross-validation. \n",
    "    All combinations of C and gamma are\n",
    "    included in the matrix. Shape: (len(C_list), len(gamma_list))\n",
    "    \"\"\"\n",
    "    val_acc_matrix   = __________________\n",
    "    train_acc_matrix = __________________\n",
    "    __________________\n",
    "        __________________\n",
    "            __________________\n",
    "    return val_acc_matrix, train_acc_matrix"
   ]
  },
  {
   "cell_type": "code",
   "execution_count": 95,
   "metadata": {
    "ExecuteTime": {
     "end_time": "2018-02-15T23:02:49.194065Z",
     "start_time": "2018-02-15T23:02:47.753036Z"
    },
    "collapsed": true
   },
   "outputs": [],
   "source": [
    "# 3) Perform grid search with 3-fold cross-validation.\n",
    "#    Draw heatmaps for result of grid search and find \n",
    "#    best C and gamma for validation set.\n",
    "val_acc_matrix, train_acc_matrix = \\\n",
    "    simple_GridSearchCV_fit(X_train_val, Y_train_val, C_list, gamma_list, 3)\n",
    "\n",
    "draw_heatmap_RBF(val_acc_matrix, 'val accuracy', gamma_list, C_list)\n",
    "draw_heatmap_RBF(train_acc_matrix, 'train accuracy', gamma_list, C_list)"
   ]
  }
 ],
 "metadata": {
  "kernelspec": {
   "display_name": "Python 3",
   "language": "python",
   "name": "python3"
  },
  "language_info": {
   "codemirror_mode": {
    "name": "ipython",
    "version": 3
   },
   "file_extension": ".py",
   "mimetype": "text/x-python",
   "name": "python",
   "nbconvert_exporter": "python",
   "pygments_lexer": "ipython3",
   "version": "3.6.3"
  },
  "toc": {
   "colors": {
    "hover_highlight": "#DAA520",
    "navigate_num": "#000000",
    "navigate_text": "#333333",
    "running_highlight": "#FF0000",
    "selected_highlight": "#FFD700",
    "sidebar_border": "#EEEEEE",
    "wrapper_background": "#FFFFFF"
   },
   "moveMenuLeft": true,
   "nav_menu": {
    "height": "63px",
    "width": "252px"
   },
   "navigate_menu": true,
   "number_sections": true,
   "sideBar": true,
   "threshold": 4,
   "toc_cell": false,
   "toc_section_display": "block",
   "toc_window_display": false,
   "widenNotebook": false
  }
 },
 "nbformat": 4,
 "nbformat_minor": 2
}
