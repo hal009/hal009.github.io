{
 "cells": [
  {
   "cell_type": "code",
   "execution_count": 2,
   "metadata": {
    "ExecuteTime": {
     "end_time": "2018-02-15T19:35:24.108889Z",
     "start_time": "2018-02-15T19:35:22.435547Z"
    }
   },
   "outputs": [],
   "source": [
    "import scipy.io as sio\n",
    "import matplotlib.pyplot as plt\n",
    "import numpy as np\n",
    "import seaborn as sns\n",
    "from sklearn import svm\n",
    "from sklearn.model_selection import GridSearchCV\n",
    "%config InlineBackend.figure_format = 'retina'"
   ]
  },
  {
   "cell_type": "markdown",
   "metadata": {},
   "source": [
    "## Q1 Support Vector Machine"
   ]
  },
  {
   "cell_type": "markdown",
   "metadata": {},
   "source": [
    "### Linear SVM"
   ]
  },
  {
   "cell_type": "code",
   "execution_count": 6,
   "metadata": {
    "ExecuteTime": {
     "end_time": "2018-02-15T19:35:24.130289Z",
     "start_time": "2018-02-15T19:35:24.119855Z"
    },
    "scrolled": true
   },
   "outputs": [
    {
     "name": "stdout",
     "output_type": "stream",
     "text": [
      "X_and_Y.shape: (452, 280)\n",
      "(452, 279) (452,)\n"
     ]
    }
   ],
   "source": [
    "# 1) Load data.\n",
    "\n",
    "X_and_Y = np.load('./arrhythmia.npy')    # Load data from file.\n",
    "print(f'X_and_Y.shape: {X_and_Y.shape}')\n",
    "np.random.shuffle(X_and_Y)    # Shuffle the data.\n",
    "X = X_and_Y[:, 0:X_and_Y.shape[1] - 1]    # First column to second last column: Features (numerical values) \n",
    "Y = X_and_Y[:, X_and_Y.shape[1] - 1]    # Last column: Labels (0 or 1)\n",
    "print(X.shape, Y.shape)       # Check the shapes."
   ]
  },
  {
   "cell_type": "code",
   "execution_count": 10,
   "metadata": {},
   "outputs": [
    {
     "name": "stdout",
     "output_type": "stream",
     "text": [
      "[1. 1. 0. 0. 0.]\n",
      "452\n",
      "362\n"
     ]
    }
   ],
   "source": [
    "print(Y[:5])\n",
    "print(len(X))\n",
    "print(round(len(X) * .8))"
   ]
  },
  {
   "cell_type": "code",
   "execution_count": 11,
   "metadata": {
    "ExecuteTime": {
     "end_time": "2018-02-15T19:47:52.406844Z",
     "start_time": "2018-02-15T19:47:52.397048Z"
    }
   },
   "outputs": [
    {
     "name": "stdout",
     "output_type": "stream",
     "text": [
      "(362, 279) (90, 279) (362,) (90,)\n"
     ]
    }
   ],
   "source": [
    "# 2) Split the dataset into 2 parts: \n",
    "#    (a) Training set + Validation set  (80% of all data points)\n",
    "#    (b) Test set                       (20% of all data points)\n",
    "eighty_percent = round(len(X) * .8)\n",
    "X_train_val = X[:eighty_percent] # Get features from train + val set.\n",
    "X_test      = X[eighty_percent:] # Get features from test set.     \n",
    "Y_train_val = Y[:eighty_percent] # Get labels from train + val set.\n",
    "Y_test      = Y[eighty_percent:] # Get labels from test set.  \n",
    "print(X_train_val.shape, X_test.shape, Y_train_val.shape, Y_test.shape)"
   ]
  },
  {
   "cell_type": "code",
   "execution_count": 19,
   "metadata": {},
   "outputs": [
    {
     "data": {
      "text/plain": [
       "GridSearchCV(cv=None, error_score='raise',\n",
       "       estimator=SVC(C=1.0, cache_size=200, class_weight=None, coef0=0.0,\n",
       "  decision_function_shape='ovr', degree=3, gamma='auto', kernel='rbf',\n",
       "  max_iter=-1, probability=False, random_state=None, shrinking=True,\n",
       "  tol=0.001, verbose=False),\n",
       "       fit_params=None, iid=True, n_jobs=1,\n",
       "       param_grid={'kernel': ['linear'], 'C': [1e-06, 1e-05, 0.0001, 0.001, 0.01, 0.1]},\n",
       "       pre_dispatch='2*n_jobs', refit=True, return_train_score='warn',\n",
       "       scoring='accuracy', verbose=0)"
      ]
     },
     "execution_count": 19,
     "metadata": {},
     "output_type": "execute_result"
    }
   ],
   "source": [
    "# 3) Consider linear kernel. Perform grid search for best C \n",
    "#    with 3-fold cross-validation. You can use svm.SVC() for SVM\n",
    "#    classifier and use GridSearchCV() to perform such grid search.\n",
    "#    For more details, please refer to the sklearn documents:\n",
    "#         http://scikit-learn.org/stable/modules/svm.html\n",
    "#         http://scikit-learn.org/stable/modules/generated/sklearn.model_selection.GridSearchCV.html#sklearn.model_selection.GridSearchCV\n",
    "\n",
    "svc = svm.SVC()\n",
    "C_list     = [10 ** -6, 10 ** -5, 10 ** -4, 10 ** -3, 10 ** -2, 10 ** -1] # Different C to try.\n",
    "parameters = {'kernel':['linear'], 'C': C_list}\n",
    "classifier = GridSearchCV(svc, parameters, scoring='accuracy')\n",
    "classifier.fit(X_train_val, Y_train_val)\n"
   ]
  },
  {
   "cell_type": "code",
   "execution_count": 20,
   "metadata": {},
   "outputs": [
    {
     "name": "stdout",
     "output_type": "stream",
     "text": [
      "{'C': 0.0001, 'kernel': 'linear'}\n",
      "\n",
      "\n",
      "{'mean_fit_time': array([0.02033329, 0.01766674, 0.01633334, 0.02266677, 0.08166679,\n",
      "       0.21366676]), 'std_fit_time': array([0.00124732, 0.00047131, 0.00047137, 0.00249449, 0.01915444,\n",
      "       0.07759871]), 'mean_score_time': array([0.00866667, 0.00699997, 0.00633359, 0.00533334, 0.00466657,\n",
      "       0.00333325]), 'std_score_time': array([0.00047148, 0.        , 0.00047137, 0.0004716 , 0.00047137,\n",
      "       0.00047143]), 'param_C': masked_array(data=[1e-06, 1e-05, 0.0001, 0.001, 0.01, 0.1],\n",
      "             mask=[False, False, False, False, False, False],\n",
      "       fill_value='?',\n",
      "            dtype=object), 'param_kernel': masked_array(data=['linear', 'linear', 'linear', 'linear', 'linear',\n",
      "                   'linear'],\n",
      "             mask=[False, False, False, False, False, False],\n",
      "       fill_value='?',\n",
      "            dtype=object), 'params': [{'C': 1e-06, 'kernel': 'linear'}, {'C': 1e-05, 'kernel': 'linear'}, {'C': 0.0001, 'kernel': 'linear'}, {'C': 0.001, 'kernel': 'linear'}, {'C': 0.01, 'kernel': 'linear'}, {'C': 0.1, 'kernel': 'linear'}], 'split0_test_score': array([0.54545455, 0.68595041, 0.69421488, 0.6446281 , 0.56198347,\n",
      "       0.53719008]), 'split1_test_score': array([0.55371901, 0.72727273, 0.73553719, 0.72727273, 0.68595041,\n",
      "       0.61983471]), 'split2_test_score': array([0.575, 0.7  , 0.7  , 0.675, 0.625, 0.6  ]), 'mean_test_score': array([0.55801105, 0.70441989, 0.70994475, 0.68232044, 0.62430939,\n",
      "       0.58563536]), 'std_test_score': array([0.01243119, 0.01717737, 0.01828703, 0.03417709, 0.05068148,\n",
      "       0.03526782]), 'rank_test_score': array([6, 2, 1, 3, 4, 5]), 'split0_train_score': array([0.56431535, 0.75518672, 0.84647303, 0.89626556, 0.93775934,\n",
      "       0.99585062]), 'split1_train_score': array([0.56431535, 0.74273859, 0.82157676, 0.87966805, 0.94190871,\n",
      "       0.99585062]), 'split2_train_score': array([0.57024793, 0.77272727, 0.87603306, 0.90495868, 0.95454545,\n",
      "       1.        ]), 'mean_train_score': array([0.56629288, 0.75688419, 0.84802762, 0.89363076, 0.94473783,\n",
      "       0.99723375]), 'std_train_score': array([0.00279665, 0.01230153, 0.02225885, 0.0104916 , 0.00713893,\n",
      "       0.00195604])}\n"
     ]
    }
   ],
   "source": [
    "print(classifier.best_params_)\n",
    "print('\\n')\n",
    "print(classifier.cv_results_)"
   ]
  },
  {
   "cell_type": "code",
   "execution_count": null,
   "metadata": {
    "ExecuteTime": {
     "end_time": "2018-02-15T22:10:19.314796Z",
     "start_time": "2018-02-15T22:10:17.833308Z"
    },
    "collapsed": true
   },
   "outputs": [],
   "source": [
    "# 4) Draw heatmaps for result of grid search and find \n",
    "#    best C for validation set.\n",
    "\n",
    "def draw_heatmap_linear(acc, acc_desc, C_list):\n",
    "    plt.figure(figsize = (2,4))\n",
    "    ax = sns.heatmap(acc, annot=True, fmt='.3f', yticklabels=C_list, xticklabels=[])\n",
    "    ax.collections[0].colorbar.set_label(\"accuracy\")\n",
    "    ax.set(ylabel='$C$')\n",
    "    plt.title(acc_desc + ' w.r.t $C$')\n",
    "    sns.set_style(\"whitegrid\", {'axes.grid' : False})\n",
    "    plt.show()\n",
    "    \n",
    "#\n",
    "# You can use the draw_heatmap_linear() to draw a heatmap to visualize \n",
    "# the accuracy w.r.t. C and gamma. Some demo code is given below as hint:\n",
    "#\n",
    "# demo_acc        = np.array([[0.8],\n",
    "#                             [0.7]])\n",
    "# demo_C_list     = [0.1, 1]\n",
    "# draw_heatmap_linear(demo_acc, 'demo accuracy', demo_C_list)\n",
    "#\n",
    "\n",
    "train_acc = __________________\n",
    "draw_heatmap_linear(train_acc, 'train accuracy', C_list)\n",
    "\n",
    "val_acc = __________________\n",
    "draw_heatmap_linear(val_acc, 'val accuracy', C_list)"
   ]
  },
  {
   "cell_type": "code",
   "execution_count": null,
   "metadata": {
    "ExecuteTime": {
     "end_time": "2018-02-15T20:05:52.255828Z",
     "start_time": "2018-02-15T20:05:51.679770Z"
    },
    "collapsed": true
   },
   "outputs": [],
   "source": [
    "# 5) Use the best C to calculate the test accuracy.\n",
    "\n",
    "test_acc = __________________\n",
    "print(test_acc)"
   ]
  },
  {
   "cell_type": "markdown",
   "metadata": {},
   "source": [
    "### SVM with RBF Kernel"
   ]
  },
  {
   "cell_type": "code",
   "execution_count": null,
   "metadata": {
    "collapsed": true
   },
   "outputs": [],
   "source": [
    "# 1) Consider RBF kernel. Perform grid search for best C and gamma \n",
    "#    with 3-fold cross-validation. You can use svm.SVC() for SVM\n",
    "#    classifier and use GridSearchCV() to perform such grid search.\n",
    "#    For more details, please refer to the sklearn documents:\n",
    "#         http://scikit-learn.org/stable/modules/svm.html\n",
    "#         http://scikit-learn.org/stable/modules/generated/sklearn.model_selection.GridSearchCV.html#sklearn.model_selection.GridSearchCV\n",
    "classifier = __________________\n",
    "C_list     = __________________ # Different C to try.\n",
    "gamma_list = __________________ # Different gamma to try.\n",
    "__________________\n",
    "__________________\n",
    "__________________"
   ]
  },
  {
   "cell_type": "code",
   "execution_count": null,
   "metadata": {
    "collapsed": true
   },
   "outputs": [],
   "source": [
    "# 2) Draw heatmaps for result of grid search and find \n",
    "#    best C and gamma for validation set.\n",
    "\n",
    "def draw_heatmap_RBF(acc, acc_desc, gamma_list, C_list):\n",
    "    plt.figure(figsize = (5,4))\n",
    "    ax = sns.heatmap(acc, annot=True, fmt='.3f', \n",
    "                     xticklabels=gamma_list, yticklabels=C_list)\n",
    "    ax.collections[0].colorbar.set_label(\"accuracy\")\n",
    "    ax.set(xlabel = '$\\gamma$', ylabel='$C$')\n",
    "    plt.title(acc_desc + ' w.r.t $C$ and $\\gamma$')\n",
    "    sns.set_style(\"whitegrid\", {'axes.grid' : False})\n",
    "    plt.show()\n",
    "    \n",
    "#\n",
    "# You can use the draw_heatmap_RBF() to draw a heatmap to visualize \n",
    "# the accuracy w.r.t. C and gamma. Some demo code is given below as hint:\n",
    "#\n",
    "# demo_acc        = np.array([[0.8, 0.7],\n",
    "#                             [0.7, 0.9]])\n",
    "# demo_C_list     = [0.1, 1]\n",
    "# demo_gamma_list = [0.01, 0.1]\n",
    "# draw_heatmap_RBF(demo_acc, 'demo accuracy', demo_gamma_list, demo_C_list)\n",
    "#\n",
    "\n",
    "train_acc = __________________\n",
    "draw_heatmap_RBF(train_acc, 'train accuracy', gamma_list, C_list)\n",
    "\n",
    "val_acc   = __________________\n",
    "draw_heatmap_RBF(val_acc, 'val accuracy',gamma_list, C_list)"
   ]
  },
  {
   "cell_type": "code",
   "execution_count": null,
   "metadata": {
    "collapsed": true
   },
   "outputs": [],
   "source": [
    "# 3) Use the best C and gamma to calculate the test accuracy.\n",
    "\n",
    "test_acc = __________________\n",
    "print(test_acc)"
   ]
  },
  {
   "cell_type": "markdown",
   "metadata": {},
   "source": [
    "### Re-implementation of Cross-validation and Grid Search "
   ]
  },
  {
   "cell_type": "code",
   "execution_count": 92,
   "metadata": {
    "ExecuteTime": {
     "end_time": "2018-02-15T23:01:04.830944Z",
     "start_time": "2018-02-15T23:01:04.802087Z"
    },
    "collapsed": true
   },
   "outputs": [],
   "source": [
    "# 1) Implement a simple cross-validation.\n",
    "def simple_cross_validation(X_train_val, Y_train_val, C, gamma, fold):\n",
    "    \"\"\"\n",
    "    A simple cross-validation function.\n",
    "    We assume the SVM with the RBF kernel.\n",
    "    \n",
    "    X_train_val: Features for train and val set. \n",
    "                 Shape: (num of data points, num of features)\n",
    "    Y_train_val: Labels for train and val set.\n",
    "                 Shape: (num of data points,)\n",
    "    C:           Parameter C for SVM.\n",
    "    gamma:       Parameter gamma for SVM.\n",
    "    fold:        The number of folds to do the cross-validation.\n",
    "    \n",
    "    Return the average accuracy on validation set.\n",
    "    \"\"\"\n",
    "    val_acc_list = []\n",
    "    train_acc_list = []\n",
    "    for i in range(fold):\n",
    "        __________________\n",
    "        __________________\n",
    "        __________________\n",
    "        __________________\n",
    "        __________________\n",
    "        __________________\n",
    "        __________________\n",
    "        __________________\n",
    "        __________________\n",
    "        __________________\n",
    "        val_acc_list.append(__________________)\n",
    "        train_acc_list.append(__________________)\n",
    "        \n",
    "    return sum(val_acc_list) / len(val_acc_list), \\\n",
    "           sum(train_acc_list) / len(train_acc_list)"
   ]
  },
  {
   "cell_type": "code",
   "execution_count": 93,
   "metadata": {
    "ExecuteTime": {
     "end_time": "2018-02-15T23:02:08.070103Z",
     "start_time": "2018-02-15T23:02:08.057181Z"
    },
    "collapsed": true
   },
   "outputs": [],
   "source": [
    "# 2) Implement the grid search function. \n",
    "def simple_GridSearchCV_fit(X_train_val, Y_train_val, C_list, gamma_list, fold):\n",
    "    \"\"\"\n",
    "    A simple grid search function for C and gamma with cross-validation. \n",
    "    We assume the SVM with the RBF kernel.\n",
    "    \n",
    "    X_train_val: Features for train and val set. \n",
    "                 Shape: (num of data points, num of features)\n",
    "    Y_train_val: Labels for train and val set.\n",
    "                 Shape: (num of data points,)\n",
    "    C_list:      The list of C values to try.\n",
    "    gamma_list:  The list of gamma values to try.\n",
    "    fold:        The number of folds to do the cross-validation.\n",
    "    \n",
    "    Return the val and train accuracy matrix of cross-validation. \n",
    "    All combinations of C and gamma are\n",
    "    included in the matrix. Shape: (len(C_list), len(gamma_list))\n",
    "    \"\"\"\n",
    "    val_acc_matrix   = __________________\n",
    "    train_acc_matrix = __________________\n",
    "    __________________\n",
    "        __________________\n",
    "            __________________\n",
    "    return val_acc_matrix, train_acc_matrix"
   ]
  },
  {
   "cell_type": "code",
   "execution_count": 95,
   "metadata": {
    "ExecuteTime": {
     "end_time": "2018-02-15T23:02:49.194065Z",
     "start_time": "2018-02-15T23:02:47.753036Z"
    },
    "collapsed": true
   },
   "outputs": [],
   "source": [
    "# 3) Perform grid search with 3-fold cross-validation.\n",
    "#    Draw heatmaps for result of grid search and find \n",
    "#    best C and gamma for validation set.\n",
    "val_acc_matrix, train_acc_matrix = \\\n",
    "    simple_GridSearchCV_fit(X_train_val, Y_train_val, C_list, gamma_list, 3)\n",
    "\n",
    "draw_heatmap_RBF(val_acc_matrix, 'val accuracy', gamma_list, C_list)\n",
    "draw_heatmap_RBF(train_acc_matrix, 'train accuracy', gamma_list, C_list)"
   ]
  }
 ],
 "metadata": {
  "kernelspec": {
   "display_name": "Python 3",
   "language": "python",
   "name": "python3"
  },
  "language_info": {
   "codemirror_mode": {
    "name": "ipython",
    "version": 3
   },
   "file_extension": ".py",
   "mimetype": "text/x-python",
   "name": "python",
   "nbconvert_exporter": "python",
   "pygments_lexer": "ipython3",
   "version": "3.6.4"
  },
  "toc": {
   "colors": {
    "hover_highlight": "#DAA520",
    "navigate_num": "#000000",
    "navigate_text": "#333333",
    "running_highlight": "#FF0000",
    "selected_highlight": "#FFD700",
    "sidebar_border": "#EEEEEE",
    "wrapper_background": "#FFFFFF"
   },
   "moveMenuLeft": true,
   "nav_menu": {
    "height": "63px",
    "width": "252px"
   },
   "navigate_menu": true,
   "number_sections": true,
   "sideBar": true,
   "threshold": 4,
   "toc_cell": false,
   "toc_section_display": "block",
   "toc_window_display": false,
   "widenNotebook": false
  }
 },
 "nbformat": 4,
 "nbformat_minor": 2
}
